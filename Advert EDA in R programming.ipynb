{
 "cells": [
  {
   "cell_type": "markdown",
   "metadata": {},
   "source": [
    "# ADVERTISING EXPLORATORY DATA ANALYSIS\n",
    "\n",
    "# 1.Define the question\n",
    " This will help us the question , the dataset and the metrics of success.\n",
    "\n",
    "## a. Specifying the question\n",
    "\n",
    "A Kenyan entrepreneur has created an online cryptography course and would want to advertise it on her blog. She currently targets audiences originating from various countries. In the past, she ran ads to advertise a related course on the same blog and collected data in the process. She would now like to employ your services as a Data Science Consultant to help her identify which individuals are most likely to click on her ads. \n",
    "\n",
    "\n",
    "## b. Define Metrics of Success\n",
    "\n",
    " Our metrics of our success is finding Conclusive Conclusions from the Data to know which individuals are more likely to click on her ads.\n",
    "\n",
    "## c. Understand context\n",
    "\n",
    "The context is using the Data to to do Exploratory analysis to get meaningful insights and conclusions from the Advertising data.\n",
    "\n",
    "## d. Record the experiment design \n",
    "\n",
    "This will involve:\n",
    "i).Removing anomalies, Missing Data and Duplicates. \n",
    "ii).EDA -  Doing Univariate , Bivariate Analysis on the advertising data\n",
    "\n",
    "## e. Data relevance\n",
    "\n",
    "The data is very relevant to the experiment done.\n"
   ]
  },
  {
   "cell_type": "markdown",
   "metadata": {},
   "source": [
    "# 2.Read Data"
   ]
  },
  {
   "cell_type": "markdown",
   "metadata": {},
   "source": [
    "## We will start by importing the data"
   ]
  },
  {
   "cell_type": "code",
   "execution_count": 5,
   "metadata": {},
   "outputs": [
    {
     "data": {
      "text/html": [
       "<table>\n",
       "<thead><tr><th scope=col>Daily.Time.Spent.on.Site</th><th scope=col>Age</th><th scope=col>Area.Income</th><th scope=col>Daily.Internet.Usage</th><th scope=col>Ad.Topic.Line</th><th scope=col>City</th><th scope=col>Male</th><th scope=col>Country</th><th scope=col>Timestamp</th><th scope=col>Clicked.on.Ad</th></tr></thead>\n",
       "<tbody>\n",
       "\t<tr><td>68.95                                              </td><td>35                                                 </td><td>61833.90                                           </td><td>256.09                                             </td><td>Cloned 5thgeneration orchestration                 </td><td>Wrightburgh                                        </td><td>0                                                  </td><td>Tunisia                                            </td><td>2016-03-27 00:53:11                                </td><td>0                                                  </td></tr>\n",
       "\t<tr><td>80.23                                              </td><td>31                                                 </td><td>68441.85                                           </td><td>193.77                                             </td><td>Monitored national standardization                 </td><td>West Jodi                                          </td><td>1                                                  </td><td>Nauru                                              </td><td>2016-04-04 01:39:02                                </td><td>0                                                  </td></tr>\n",
       "\t<tr><td>69.47                                              </td><td>26                                                 </td><td>59785.94                                           </td><td>236.50                                             </td><td>Organic bottom-line service-desk                   </td><td>Davidton                                           </td><td>0                                                  </td><td>San Marino                                         </td><td>2016-03-13 20:35:42                                </td><td>0                                                  </td></tr>\n",
       "\t<tr><td>74.15                                              </td><td>29                                                 </td><td>54806.18                                           </td><td>245.89                                             </td><td>Triple-buffered reciprocal time-frame              </td><td>West Terrifurt                                     </td><td>1                                                  </td><td>Italy                                              </td><td>2016-01-10 02:31:19                                </td><td>0                                                  </td></tr>\n",
       "\t<tr><td>68.37                                              </td><td>35                                                 </td><td>73889.99                                           </td><td>225.58                                             </td><td>Robust logistical utilization                      </td><td>South Manuel                                       </td><td>0                                                  </td><td>Iceland                                            </td><td>2016-06-03 03:36:18                                </td><td>0                                                  </td></tr>\n",
       "\t<tr><td>59.99                                              </td><td>23                                                 </td><td>59761.56                                           </td><td>226.74                                             </td><td>Sharable client-driven software                    </td><td>Jamieberg                                          </td><td>1                                                  </td><td>Norway                                             </td><td>2016-05-19 14:30:17                                </td><td>0                                                  </td></tr>\n",
       "\t<tr><td>88.91                                              </td><td>33                                                 </td><td>53852.85                                           </td><td>208.36                                             </td><td>Enhanced dedicated support                         </td><td>Brandonstad                                        </td><td>0                                                  </td><td>Myanmar                                            </td><td>2016-01-28 20:59:32                                </td><td>0                                                  </td></tr>\n",
       "\t<tr><td>66.00                                              </td><td>48                                                 </td><td>24593.33                                           </td><td>131.76                                             </td><td>Reactive local challenge                           </td><td>Port Jefferybury                                   </td><td>1                                                  </td><td>Australia                                          </td><td>2016-03-07 01:40:15                                </td><td>1                                                  </td></tr>\n",
       "\t<tr><td>74.53                                              </td><td>30                                                 </td><td>68862.00                                           </td><td>221.51                                             </td><td>Configurable coherent function                     </td><td>West Colin                                         </td><td>1                                                  </td><td>Grenada                                            </td><td>2016-04-18 09:33:42                                </td><td>0                                                  </td></tr>\n",
       "\t<tr><td>69.88                                              </td><td>20                                                 </td><td>55642.32                                           </td><td>183.82                                             </td><td>Mandatory homogeneous architecture                 </td><td>Ramirezton                                         </td><td>1                                                  </td><td>Ghana                                              </td><td>2016-07-11 01:42:51                                </td><td>0                                                  </td></tr>\n",
       "\t<tr><td>47.64                                              </td><td>49                                                 </td><td>45632.51                                           </td><td>122.02                                             </td><td>Centralized neutral neural-net                     </td><td>West Brandonton                                    </td><td>0                                                  </td><td>Qatar                                              </td><td>2016-03-16 20:19:01                                </td><td>1                                                  </td></tr>\n",
       "\t<tr><td>83.07                                              </td><td>37                                                 </td><td>62491.01                                           </td><td>230.87                                             </td><td>Team-oriented grid-enabled Local Area Network      </td><td>East Theresashire                                  </td><td>1                                                  </td><td>Burundi                                            </td><td>2016-05-08 08:10:10                                </td><td>0                                                  </td></tr>\n",
       "\t<tr><td>69.57                                              </td><td>48                                                 </td><td>51636.92                                           </td><td>113.12                                             </td><td>Centralized content-based focus group              </td><td>West Katiefurt                                     </td><td>1                                                  </td><td>Egypt                                              </td><td>2016-06-03 01:14:41                                </td><td>1                                                  </td></tr>\n",
       "\t<tr><td>79.52                                              </td><td>24                                                 </td><td>51739.63                                           </td><td>214.23                                             </td><td>Synergistic fresh-thinking array                   </td><td>North Tara                                         </td><td>0                                                  </td><td>Bosnia and Herzegovina                             </td><td>2016-04-20 21:49:22                                </td><td>0                                                  </td></tr>\n",
       "\t<tr><td>42.95                                              </td><td>33                                                 </td><td>30976.00                                           </td><td>143.56                                             </td><td>Grass-roots coherent extranet                      </td><td>West William                                       </td><td>0                                                  </td><td>Barbados                                           </td><td>2016-03-24 09:31:49                                </td><td>1                                                  </td></tr>\n",
       "\t<tr><td>63.45                                              </td><td>23                                                 </td><td>52182.23                                           </td><td>140.64                                             </td><td>Persistent demand-driven interface                 </td><td>New Travistown                                     </td><td>1                                                  </td><td>Spain                                              </td><td>2016-03-09 03:41:30                                </td><td>1                                                  </td></tr>\n",
       "\t<tr><td>55.39                                              </td><td>37                                                 </td><td>23936.86                                           </td><td>129.41                                             </td><td>Customizable multi-tasking website                 </td><td>West Dylanberg                                     </td><td>0                                                  </td><td>Palestinian Territory                              </td><td>2016-01-30 19:20:41                                </td><td>1                                                  </td></tr>\n",
       "\t<tr><td>82.03                                              </td><td>41                                                 </td><td>71511.08                                           </td><td>187.53                                             </td><td>Intuitive dynamic attitude                         </td><td>Pruittmouth                                        </td><td>0                                                  </td><td>Afghanistan                                        </td><td>2016-05-02 07:00:58                                </td><td>0                                                  </td></tr>\n",
       "\t<tr><td>54.70                                              </td><td>36                                                 </td><td>31087.54                                           </td><td>118.39                                             </td><td>Grass-roots solution-oriented conglomeration       </td><td>Jessicastad                                        </td><td>1                                                  </td><td>British Indian Ocean Territory (Chagos Archipelago)</td><td>2016-02-13 07:53:55                                </td><td>1                                                  </td></tr>\n",
       "\t<tr><td>74.58                                              </td><td>40                                                 </td><td>23821.72                                           </td><td>135.51                                             </td><td>Advanced 24/7 productivity                         </td><td>Millertown                                         </td><td>1                                                  </td><td>Russian Federation                                 </td><td>2016-02-27 04:43:07                                </td><td>1                                                  </td></tr>\n",
       "\t<tr><td>77.22                                              </td><td>30                                                 </td><td>64802.33                                           </td><td>224.44                                             </td><td>Object-based reciprocal knowledgebase              </td><td>Port Jacqueline                                    </td><td>1                                                  </td><td>Cameroon                                           </td><td>2016-01-05 07:52:48                                </td><td>0                                                  </td></tr>\n",
       "\t<tr><td>84.59                                              </td><td>35                                                 </td><td>60015.57                                           </td><td>226.54                                             </td><td>Streamlined non-volatile analyzer                  </td><td>Lake Nicole                                        </td><td>1                                                  </td><td>Cameroon                                           </td><td>2016-03-18 13:22:35                                </td><td>0                                                  </td></tr>\n",
       "\t<tr><td>41.49                                              </td><td>52                                                 </td><td>32635.70                                           </td><td>164.83                                             </td><td>Mandatory disintermediate utilization              </td><td>South John                                         </td><td>0                                                  </td><td>Burundi                                            </td><td>2016-05-20 08:49:33                                </td><td>1                                                  </td></tr>\n",
       "\t<tr><td>87.29                                              </td><td>36                                                 </td><td>61628.72                                           </td><td>209.93                                             </td><td>Future-proofed methodical protocol                 </td><td>Pamelamouth                                        </td><td>1                                                  </td><td>Korea                                              </td><td>2016-03-23 09:43:43                                </td><td>0                                                  </td></tr>\n",
       "\t<tr><td>41.39                                              </td><td>41                                                 </td><td>68962.32                                           </td><td>167.22                                             </td><td>Exclusive neutral parallelism                      </td><td>Harperborough                                      </td><td>0                                                  </td><td>Tokelau                                            </td><td>2016-06-13 17:27:09                                </td><td>1                                                  </td></tr>\n",
       "\t<tr><td>78.74                                              </td><td>28                                                 </td><td>64828.00                                           </td><td>204.79                                             </td><td>Public-key foreground groupware                    </td><td>Port Danielleberg                                  </td><td>1                                                  </td><td>Monaco                                             </td><td>2016-05-27 15:25:52                                </td><td>0                                                  </td></tr>\n",
       "\t<tr><td>48.53                                              </td><td>28                                                 </td><td>38067.08                                           </td><td>134.14                                             </td><td>Ameliorated client-driven forecast                 </td><td>West Jeremyside                                    </td><td>1                                                  </td><td>Tuvalu                                             </td><td>2016-02-08 10:46:14                                </td><td>1                                                  </td></tr>\n",
       "\t<tr><td>51.95                                              </td><td>52                                                 </td><td>58295.82                                           </td><td>129.23                                             </td><td>Monitored systematic hierarchy                     </td><td>South Cathyfurt                                    </td><td>0                                                  </td><td>Greece                                             </td><td>2016-07-19 08:32:10                                </td><td>1                                                  </td></tr>\n",
       "\t<tr><td>70.20                                              </td><td>34                                                 </td><td>32708.94                                           </td><td>119.20                                             </td><td>Open-architected impactful productivity            </td><td>Palmerside                                         </td><td>0                                                  </td><td>British Virgin Islands                             </td><td>2016-04-14 05:08:35                                </td><td>1                                                  </td></tr>\n",
       "\t<tr><td>76.02                                              </td><td>22                                                 </td><td>46179.97                                           </td><td>209.82                                             </td><td>Business-focused value-added definition            </td><td>West Guybury                                       </td><td>0                                                  </td><td>Bouvet Island (Bouvetoya)                          </td><td>2016-01-27 12:38:16                                </td><td>0                                                  </td></tr>\n",
       "\t<tr><td>...</td><td>...</td><td>...</td><td>...</td><td>...</td><td>...</td><td>...</td><td>...</td><td>...</td><td>...</td></tr>\n",
       "\t<tr><td>40.18                                  </td><td>29                                     </td><td>50760.23                               </td><td>151.96                                 </td><td>Enhanced intangible portal             </td><td>Lake Tracy                             </td><td>0                                      </td><td>Hong Kong                              </td><td>2016-06-25 04:21:33                    </td><td>1                                      </td></tr>\n",
       "\t<tr><td>45.17                                  </td><td>48                                     </td><td>34418.09                               </td><td>132.07                                 </td><td>Down-sized background groupware        </td><td>Taylormouth                            </td><td>1                                      </td><td>Palau                                  </td><td>2016-01-27 14:41:10                    </td><td>1                                      </td></tr>\n",
       "\t<tr><td>50.48                                  </td><td>50                                     </td><td>20592.99                               </td><td>162.43                                 </td><td>Switchable real-time product           </td><td>Dianaville                             </td><td>0                                      </td><td>Malawi                                 </td><td>2016-05-16 18:51:59                    </td><td>1                                      </td></tr>\n",
       "\t<tr><td>80.87                                  </td><td>28                                     </td><td>63528.80                               </td><td>203.30                                 </td><td>Ameliorated local workforce            </td><td>Collinsburgh                           </td><td>0                                      </td><td>Uruguay                                </td><td>2016-02-27 20:20:25                    </td><td>0                                      </td></tr>\n",
       "\t<tr><td>41.88                                  </td><td>40                                     </td><td>44217.68                               </td><td>126.11                                 </td><td>Streamlined exuding adapter            </td><td>Port Rachel                            </td><td>1                                      </td><td>Cyprus                                 </td><td>2016-02-28 23:54:44                    </td><td>1                                      </td></tr>\n",
       "\t<tr><td>39.87                                  </td><td>48                                     </td><td>47929.83                               </td><td>139.34                                 </td><td>Business-focused user-facing benchmark </td><td>South Rebecca                          </td><td>1                                      </td><td>Mexico                                 </td><td>2016-06-13 06:11:33                    </td><td>1                                      </td></tr>\n",
       "\t<tr><td>61.84                                  </td><td>45                                     </td><td>46024.29                               </td><td>105.63                                 </td><td>Reactive bi-directional standardization</td><td>Port Joshuafort                        </td><td>1                                      </td><td>Niger                                  </td><td>2016-05-05 11:07:13                    </td><td>1                                      </td></tr>\n",
       "\t<tr><td>54.97                                  </td><td>31                                     </td><td>51900.03                               </td><td>116.38                                 </td><td>Virtual bifurcated portal              </td><td>Robinsontown                           </td><td>1                                      </td><td>France                                 </td><td>2016-07-07 12:17:33                    </td><td>1                                      </td></tr>\n",
       "\t<tr><td>71.40                                  </td><td>30                                     </td><td>72188.90                               </td><td>166.31                                 </td><td>Integrated 3rdgeneration monitoring    </td><td>Beckton                                </td><td>0                                      </td><td>Japan                                  </td><td>2016-05-24 17:07:08                    </td><td>0                                      </td></tr>\n",
       "\t<tr><td>70.29                                  </td><td>31                                     </td><td>56974.51                               </td><td>254.65                                 </td><td>Balanced responsive open system        </td><td>New Frankshire                         </td><td>1                                      </td><td>Norfolk Island                         </td><td>2016-03-30 14:36:55                    </td><td>0                                      </td></tr>\n",
       "\t<tr><td>67.26                                  </td><td>57                                     </td><td>25682.65                               </td><td>168.41                                 </td><td>Focused incremental Graphic Interface  </td><td>North Derekville                       </td><td>1                                      </td><td>Bulgaria                               </td><td>2016-05-27 05:54:03                    </td><td>1                                      </td></tr>\n",
       "\t<tr><td>76.58                                  </td><td>46                                     </td><td>41884.64                               </td><td>258.26                                 </td><td>Secured 24hour policy                  </td><td>West Sydney                            </td><td>0                                      </td><td>Uzbekistan                             </td><td>2016-01-03 16:30:51                    </td><td>0                                      </td></tr>\n",
       "\t<tr><td>54.37                                  </td><td>38                                     </td><td>72196.29                               </td><td>140.77                                 </td><td>Up-sized asymmetric firmware           </td><td>Lake Matthew                           </td><td>0                                      </td><td>Mexico                                 </td><td>2016-06-25 18:17:53                    </td><td>1                                      </td></tr>\n",
       "\t<tr><td>82.79                                  </td><td>32                                     </td><td>54429.17                               </td><td>234.81                                 </td><td>Distributed fault-tolerant service-desk</td><td>Lake Zacharyfurt                       </td><td>1                                      </td><td>Brunei Darussalam                      </td><td>2016-02-24 10:36:43                    </td><td>0                                      </td></tr>\n",
       "\t<tr><td>66.47                                  </td><td>31                                     </td><td>58037.66                               </td><td>256.39                                 </td><td>Vision-oriented human-resource synergy </td><td>Lindsaymouth                           </td><td>1                                      </td><td>France                                 </td><td>2016-03-03 03:13:48                    </td><td>0                                      </td></tr>\n",
       "\t<tr><td>72.88                                  </td><td>44                                     </td><td>64011.26                               </td><td>125.12                                 </td><td>Customer-focused explicit challenge    </td><td>Sarahland                              </td><td>0                                      </td><td>Yemen                                  </td><td>2016-04-21 19:56:24                    </td><td>1                                      </td></tr>\n",
       "\t<tr><td>76.44                                  </td><td>28                                     </td><td>59967.19                               </td><td>232.68                                 </td><td>Synchronized human-resource moderator  </td><td>Port Julie                             </td><td>1                                      </td><td>Northern Mariana Islands               </td><td>2016-04-06 17:26:37                    </td><td>0                                      </td></tr>\n",
       "\t<tr><td>63.37                                  </td><td>43                                     </td><td>43155.19                               </td><td>105.04                                 </td><td>Open-architected full-range projection </td><td>Michaelshire                           </td><td>1                                      </td><td>Poland                                 </td><td>2016-03-23 12:53:23                    </td><td>1                                      </td></tr>\n",
       "\t<tr><td>89.71                                  </td><td>48                                     </td><td>51501.38                               </td><td>204.40                                 </td><td>Versatile local forecast               </td><td>Sarafurt                               </td><td>1                                      </td><td>Bahrain                                </td><td>2016-02-17 07:00:38                    </td><td>0                                      </td></tr>\n",
       "\t<tr><td>70.96                                  </td><td>31                                     </td><td>55187.85                               </td><td>256.40                                 </td><td>Ameliorated user-facing help-desk      </td><td>South Denise                           </td><td>0                                      </td><td>Saint Pierre and Miquelon              </td><td>2016-06-26 07:01:47                    </td><td>0                                      </td></tr>\n",
       "\t<tr><td>35.79                                  </td><td>44                                     </td><td>33813.08                               </td><td>165.62                                 </td><td>Enterprise-wide tangible model         </td><td>North Katie                            </td><td>1                                      </td><td>Tonga                                  </td><td>2016-04-20 13:36:42                    </td><td>1                                      </td></tr>\n",
       "\t<tr><td>38.96                                  </td><td>38                                     </td><td>36497.22                               </td><td>140.67                                 </td><td>Versatile mission-critical application </td><td>Mauricefurt                            </td><td>1                                      </td><td>Comoros                                </td><td>2016-07-21 16:02:40                    </td><td>1                                      </td></tr>\n",
       "\t<tr><td>69.17                                  </td><td>40                                     </td><td>66193.81                               </td><td>123.62                                 </td><td>Extended leadingedge solution          </td><td>New Patrick                            </td><td>0                                      </td><td>Montenegro                             </td><td>2016-03-06 11:36:06                    </td><td>1                                      </td></tr>\n",
       "\t<tr><td>64.20                                  </td><td>27                                     </td><td>66200.96                               </td><td>227.63                                 </td><td>Phased zero tolerance extranet         </td><td>Edwardsmouth                           </td><td>1                                      </td><td>Isle of Man                            </td><td>2016-02-11 23:45:01                    </td><td>0                                      </td></tr>\n",
       "\t<tr><td>43.70                                  </td><td>28                                     </td><td>63126.96                               </td><td>173.01                                 </td><td>Front-line bifurcated ability          </td><td>Nicholasland                           </td><td>0                                      </td><td>Mayotte                                </td><td>2016-04-04 03:57:48                    </td><td>1                                      </td></tr>\n",
       "\t<tr><td>72.97                                  </td><td>30                                     </td><td>71384.57                               </td><td>208.58                                 </td><td>Fundamental modular algorithm          </td><td>Duffystad                              </td><td>1                                      </td><td>Lebanon                                </td><td>2016-02-11 21:49:00                    </td><td>1                                      </td></tr>\n",
       "\t<tr><td>51.30                                  </td><td>45                                     </td><td>67782.17                               </td><td>134.42                                 </td><td>Grass-roots cohesive monitoring        </td><td>New Darlene                            </td><td>1                                      </td><td>Bosnia and Herzegovina                 </td><td>2016-04-22 02:07:01                    </td><td>1                                      </td></tr>\n",
       "\t<tr><td>51.63                                  </td><td>51                                     </td><td>42415.72                               </td><td>120.37                                 </td><td>Expanded intangible solution           </td><td>South Jessica                          </td><td>1                                      </td><td>Mongolia                               </td><td>2016-02-01 17:24:57                    </td><td>1                                      </td></tr>\n",
       "\t<tr><td>55.55                                  </td><td>19                                     </td><td>41920.79                               </td><td>187.95                                 </td><td>Proactive bandwidth-monitored policy   </td><td>West Steven                            </td><td>0                                      </td><td>Guatemala                              </td><td>2016-03-24 02:35:54                    </td><td>0                                      </td></tr>\n",
       "\t<tr><td>45.01                                  </td><td>26                                     </td><td>29875.80                               </td><td>178.35                                 </td><td>Virtual 5thgeneration emulation        </td><td>Ronniemouth                            </td><td>0                                      </td><td>Brazil                                 </td><td>2016-06-03 21:43:21                    </td><td>1                                      </td></tr>\n",
       "</tbody>\n",
       "</table>\n"
      ],
      "text/latex": [
       "\\begin{tabular}{r|llllllllll}\n",
       " Daily.Time.Spent.on.Site & Age & Area.Income & Daily.Internet.Usage & Ad.Topic.Line & City & Male & Country & Timestamp & Clicked.on.Ad\\\\\n",
       "\\hline\n",
       "\t 68.95                                               & 35                                                  & 61833.90                                            & 256.09                                              & Cloned 5thgeneration orchestration                  & Wrightburgh                                         & 0                                                   & Tunisia                                             & 2016-03-27 00:53:11                                 & 0                                                  \\\\\n",
       "\t 80.23                                               & 31                                                  & 68441.85                                            & 193.77                                              & Monitored national standardization                  & West Jodi                                           & 1                                                   & Nauru                                               & 2016-04-04 01:39:02                                 & 0                                                  \\\\\n",
       "\t 69.47                                               & 26                                                  & 59785.94                                            & 236.50                                              & Organic bottom-line service-desk                    & Davidton                                            & 0                                                   & San Marino                                          & 2016-03-13 20:35:42                                 & 0                                                  \\\\\n",
       "\t 74.15                                               & 29                                                  & 54806.18                                            & 245.89                                              & Triple-buffered reciprocal time-frame               & West Terrifurt                                      & 1                                                   & Italy                                               & 2016-01-10 02:31:19                                 & 0                                                  \\\\\n",
       "\t 68.37                                               & 35                                                  & 73889.99                                            & 225.58                                              & Robust logistical utilization                       & South Manuel                                        & 0                                                   & Iceland                                             & 2016-06-03 03:36:18                                 & 0                                                  \\\\\n",
       "\t 59.99                                               & 23                                                  & 59761.56                                            & 226.74                                              & Sharable client-driven software                     & Jamieberg                                           & 1                                                   & Norway                                              & 2016-05-19 14:30:17                                 & 0                                                  \\\\\n",
       "\t 88.91                                               & 33                                                  & 53852.85                                            & 208.36                                              & Enhanced dedicated support                          & Brandonstad                                         & 0                                                   & Myanmar                                             & 2016-01-28 20:59:32                                 & 0                                                  \\\\\n",
       "\t 66.00                                               & 48                                                  & 24593.33                                            & 131.76                                              & Reactive local challenge                            & Port Jefferybury                                    & 1                                                   & Australia                                           & 2016-03-07 01:40:15                                 & 1                                                  \\\\\n",
       "\t 74.53                                               & 30                                                  & 68862.00                                            & 221.51                                              & Configurable coherent function                      & West Colin                                          & 1                                                   & Grenada                                             & 2016-04-18 09:33:42                                 & 0                                                  \\\\\n",
       "\t 69.88                                               & 20                                                  & 55642.32                                            & 183.82                                              & Mandatory homogeneous architecture                  & Ramirezton                                          & 1                                                   & Ghana                                               & 2016-07-11 01:42:51                                 & 0                                                  \\\\\n",
       "\t 47.64                                               & 49                                                  & 45632.51                                            & 122.02                                              & Centralized neutral neural-net                      & West Brandonton                                     & 0                                                   & Qatar                                               & 2016-03-16 20:19:01                                 & 1                                                  \\\\\n",
       "\t 83.07                                               & 37                                                  & 62491.01                                            & 230.87                                              & Team-oriented grid-enabled Local Area Network       & East Theresashire                                   & 1                                                   & Burundi                                             & 2016-05-08 08:10:10                                 & 0                                                  \\\\\n",
       "\t 69.57                                               & 48                                                  & 51636.92                                            & 113.12                                              & Centralized content-based focus group               & West Katiefurt                                      & 1                                                   & Egypt                                               & 2016-06-03 01:14:41                                 & 1                                                  \\\\\n",
       "\t 79.52                                               & 24                                                  & 51739.63                                            & 214.23                                              & Synergistic fresh-thinking array                    & North Tara                                          & 0                                                   & Bosnia and Herzegovina                              & 2016-04-20 21:49:22                                 & 0                                                  \\\\\n",
       "\t 42.95                                               & 33                                                  & 30976.00                                            & 143.56                                              & Grass-roots coherent extranet                       & West William                                        & 0                                                   & Barbados                                            & 2016-03-24 09:31:49                                 & 1                                                  \\\\\n",
       "\t 63.45                                               & 23                                                  & 52182.23                                            & 140.64                                              & Persistent demand-driven interface                  & New Travistown                                      & 1                                                   & Spain                                               & 2016-03-09 03:41:30                                 & 1                                                  \\\\\n",
       "\t 55.39                                               & 37                                                  & 23936.86                                            & 129.41                                              & Customizable multi-tasking website                  & West Dylanberg                                      & 0                                                   & Palestinian Territory                               & 2016-01-30 19:20:41                                 & 1                                                  \\\\\n",
       "\t 82.03                                               & 41                                                  & 71511.08                                            & 187.53                                              & Intuitive dynamic attitude                          & Pruittmouth                                         & 0                                                   & Afghanistan                                         & 2016-05-02 07:00:58                                 & 0                                                  \\\\\n",
       "\t 54.70                                               & 36                                                  & 31087.54                                            & 118.39                                              & Grass-roots solution-oriented conglomeration        & Jessicastad                                         & 1                                                   & British Indian Ocean Territory (Chagos Archipelago) & 2016-02-13 07:53:55                                 & 1                                                  \\\\\n",
       "\t 74.58                                               & 40                                                  & 23821.72                                            & 135.51                                              & Advanced 24/7 productivity                          & Millertown                                          & 1                                                   & Russian Federation                                  & 2016-02-27 04:43:07                                 & 1                                                  \\\\\n",
       "\t 77.22                                               & 30                                                  & 64802.33                                            & 224.44                                              & Object-based reciprocal knowledgebase               & Port Jacqueline                                     & 1                                                   & Cameroon                                            & 2016-01-05 07:52:48                                 & 0                                                  \\\\\n",
       "\t 84.59                                               & 35                                                  & 60015.57                                            & 226.54                                              & Streamlined non-volatile analyzer                   & Lake Nicole                                         & 1                                                   & Cameroon                                            & 2016-03-18 13:22:35                                 & 0                                                  \\\\\n",
       "\t 41.49                                               & 52                                                  & 32635.70                                            & 164.83                                              & Mandatory disintermediate utilization               & South John                                          & 0                                                   & Burundi                                             & 2016-05-20 08:49:33                                 & 1                                                  \\\\\n",
       "\t 87.29                                               & 36                                                  & 61628.72                                            & 209.93                                              & Future-proofed methodical protocol                  & Pamelamouth                                         & 1                                                   & Korea                                               & 2016-03-23 09:43:43                                 & 0                                                  \\\\\n",
       "\t 41.39                                               & 41                                                  & 68962.32                                            & 167.22                                              & Exclusive neutral parallelism                       & Harperborough                                       & 0                                                   & Tokelau                                             & 2016-06-13 17:27:09                                 & 1                                                  \\\\\n",
       "\t 78.74                                               & 28                                                  & 64828.00                                            & 204.79                                              & Public-key foreground groupware                     & Port Danielleberg                                   & 1                                                   & Monaco                                              & 2016-05-27 15:25:52                                 & 0                                                  \\\\\n",
       "\t 48.53                                               & 28                                                  & 38067.08                                            & 134.14                                              & Ameliorated client-driven forecast                  & West Jeremyside                                     & 1                                                   & Tuvalu                                              & 2016-02-08 10:46:14                                 & 1                                                  \\\\\n",
       "\t 51.95                                               & 52                                                  & 58295.82                                            & 129.23                                              & Monitored systematic hierarchy                      & South Cathyfurt                                     & 0                                                   & Greece                                              & 2016-07-19 08:32:10                                 & 1                                                  \\\\\n",
       "\t 70.20                                               & 34                                                  & 32708.94                                            & 119.20                                              & Open-architected impactful productivity             & Palmerside                                          & 0                                                   & British Virgin Islands                              & 2016-04-14 05:08:35                                 & 1                                                  \\\\\n",
       "\t 76.02                                               & 22                                                  & 46179.97                                            & 209.82                                              & Business-focused value-added definition             & West Guybury                                        & 0                                                   & Bouvet Island (Bouvetoya)                           & 2016-01-27 12:38:16                                 & 0                                                  \\\\\n",
       "\t ... & ... & ... & ... & ... & ... & ... & ... & ... & ...\\\\\n",
       "\t 40.18                                   & 29                                      & 50760.23                                & 151.96                                  & Enhanced intangible portal              & Lake Tracy                              & 0                                       & Hong Kong                               & 2016-06-25 04:21:33                     & 1                                      \\\\\n",
       "\t 45.17                                   & 48                                      & 34418.09                                & 132.07                                  & Down-sized background groupware         & Taylormouth                             & 1                                       & Palau                                   & 2016-01-27 14:41:10                     & 1                                      \\\\\n",
       "\t 50.48                                   & 50                                      & 20592.99                                & 162.43                                  & Switchable real-time product            & Dianaville                              & 0                                       & Malawi                                  & 2016-05-16 18:51:59                     & 1                                      \\\\\n",
       "\t 80.87                                   & 28                                      & 63528.80                                & 203.30                                  & Ameliorated local workforce             & Collinsburgh                            & 0                                       & Uruguay                                 & 2016-02-27 20:20:25                     & 0                                      \\\\\n",
       "\t 41.88                                   & 40                                      & 44217.68                                & 126.11                                  & Streamlined exuding adapter             & Port Rachel                             & 1                                       & Cyprus                                  & 2016-02-28 23:54:44                     & 1                                      \\\\\n",
       "\t 39.87                                   & 48                                      & 47929.83                                & 139.34                                  & Business-focused user-facing benchmark  & South Rebecca                           & 1                                       & Mexico                                  & 2016-06-13 06:11:33                     & 1                                      \\\\\n",
       "\t 61.84                                   & 45                                      & 46024.29                                & 105.63                                  & Reactive bi-directional standardization & Port Joshuafort                         & 1                                       & Niger                                   & 2016-05-05 11:07:13                     & 1                                      \\\\\n",
       "\t 54.97                                   & 31                                      & 51900.03                                & 116.38                                  & Virtual bifurcated portal               & Robinsontown                            & 1                                       & France                                  & 2016-07-07 12:17:33                     & 1                                      \\\\\n",
       "\t 71.40                                   & 30                                      & 72188.90                                & 166.31                                  & Integrated 3rdgeneration monitoring     & Beckton                                 & 0                                       & Japan                                   & 2016-05-24 17:07:08                     & 0                                      \\\\\n",
       "\t 70.29                                   & 31                                      & 56974.51                                & 254.65                                  & Balanced responsive open system         & New Frankshire                          & 1                                       & Norfolk Island                          & 2016-03-30 14:36:55                     & 0                                      \\\\\n",
       "\t 67.26                                   & 57                                      & 25682.65                                & 168.41                                  & Focused incremental Graphic Interface   & North Derekville                        & 1                                       & Bulgaria                                & 2016-05-27 05:54:03                     & 1                                      \\\\\n",
       "\t 76.58                                   & 46                                      & 41884.64                                & 258.26                                  & Secured 24hour policy                   & West Sydney                             & 0                                       & Uzbekistan                              & 2016-01-03 16:30:51                     & 0                                      \\\\\n",
       "\t 54.37                                   & 38                                      & 72196.29                                & 140.77                                  & Up-sized asymmetric firmware            & Lake Matthew                            & 0                                       & Mexico                                  & 2016-06-25 18:17:53                     & 1                                      \\\\\n",
       "\t 82.79                                   & 32                                      & 54429.17                                & 234.81                                  & Distributed fault-tolerant service-desk & Lake Zacharyfurt                        & 1                                       & Brunei Darussalam                       & 2016-02-24 10:36:43                     & 0                                      \\\\\n",
       "\t 66.47                                   & 31                                      & 58037.66                                & 256.39                                  & Vision-oriented human-resource synergy  & Lindsaymouth                            & 1                                       & France                                  & 2016-03-03 03:13:48                     & 0                                      \\\\\n",
       "\t 72.88                                   & 44                                      & 64011.26                                & 125.12                                  & Customer-focused explicit challenge     & Sarahland                               & 0                                       & Yemen                                   & 2016-04-21 19:56:24                     & 1                                      \\\\\n",
       "\t 76.44                                   & 28                                      & 59967.19                                & 232.68                                  & Synchronized human-resource moderator   & Port Julie                              & 1                                       & Northern Mariana Islands                & 2016-04-06 17:26:37                     & 0                                      \\\\\n",
       "\t 63.37                                   & 43                                      & 43155.19                                & 105.04                                  & Open-architected full-range projection  & Michaelshire                            & 1                                       & Poland                                  & 2016-03-23 12:53:23                     & 1                                      \\\\\n",
       "\t 89.71                                   & 48                                      & 51501.38                                & 204.40                                  & Versatile local forecast                & Sarafurt                                & 1                                       & Bahrain                                 & 2016-02-17 07:00:38                     & 0                                      \\\\\n",
       "\t 70.96                                   & 31                                      & 55187.85                                & 256.40                                  & Ameliorated user-facing help-desk       & South Denise                            & 0                                       & Saint Pierre and Miquelon               & 2016-06-26 07:01:47                     & 0                                      \\\\\n",
       "\t 35.79                                   & 44                                      & 33813.08                                & 165.62                                  & Enterprise-wide tangible model          & North Katie                             & 1                                       & Tonga                                   & 2016-04-20 13:36:42                     & 1                                      \\\\\n",
       "\t 38.96                                   & 38                                      & 36497.22                                & 140.67                                  & Versatile mission-critical application  & Mauricefurt                             & 1                                       & Comoros                                 & 2016-07-21 16:02:40                     & 1                                      \\\\\n",
       "\t 69.17                                   & 40                                      & 66193.81                                & 123.62                                  & Extended leadingedge solution           & New Patrick                             & 0                                       & Montenegro                              & 2016-03-06 11:36:06                     & 1                                      \\\\\n",
       "\t 64.20                                   & 27                                      & 66200.96                                & 227.63                                  & Phased zero tolerance extranet          & Edwardsmouth                            & 1                                       & Isle of Man                             & 2016-02-11 23:45:01                     & 0                                      \\\\\n",
       "\t 43.70                                   & 28                                      & 63126.96                                & 173.01                                  & Front-line bifurcated ability           & Nicholasland                            & 0                                       & Mayotte                                 & 2016-04-04 03:57:48                     & 1                                      \\\\\n",
       "\t 72.97                                   & 30                                      & 71384.57                                & 208.58                                  & Fundamental modular algorithm           & Duffystad                               & 1                                       & Lebanon                                 & 2016-02-11 21:49:00                     & 1                                      \\\\\n",
       "\t 51.30                                   & 45                                      & 67782.17                                & 134.42                                  & Grass-roots cohesive monitoring         & New Darlene                             & 1                                       & Bosnia and Herzegovina                  & 2016-04-22 02:07:01                     & 1                                      \\\\\n",
       "\t 51.63                                   & 51                                      & 42415.72                                & 120.37                                  & Expanded intangible solution            & South Jessica                           & 1                                       & Mongolia                                & 2016-02-01 17:24:57                     & 1                                      \\\\\n",
       "\t 55.55                                   & 19                                      & 41920.79                                & 187.95                                  & Proactive bandwidth-monitored policy    & West Steven                             & 0                                       & Guatemala                               & 2016-03-24 02:35:54                     & 0                                      \\\\\n",
       "\t 45.01                                   & 26                                      & 29875.80                                & 178.35                                  & Virtual 5thgeneration emulation         & Ronniemouth                             & 0                                       & Brazil                                  & 2016-06-03 21:43:21                     & 1                                      \\\\\n",
       "\\end{tabular}\n"
      ],
      "text/markdown": [
       "\n",
       "| Daily.Time.Spent.on.Site | Age | Area.Income | Daily.Internet.Usage | Ad.Topic.Line | City | Male | Country | Timestamp | Clicked.on.Ad |\n",
       "|---|---|---|---|---|---|---|---|---|---|\n",
       "| 68.95                                               | 35                                                  | 61833.90                                            | 256.09                                              | Cloned 5thgeneration orchestration                  | Wrightburgh                                         | 0                                                   | Tunisia                                             | 2016-03-27 00:53:11                                 | 0                                                   |\n",
       "| 80.23                                               | 31                                                  | 68441.85                                            | 193.77                                              | Monitored national standardization                  | West Jodi                                           | 1                                                   | Nauru                                               | 2016-04-04 01:39:02                                 | 0                                                   |\n",
       "| 69.47                                               | 26                                                  | 59785.94                                            | 236.50                                              | Organic bottom-line service-desk                    | Davidton                                            | 0                                                   | San Marino                                          | 2016-03-13 20:35:42                                 | 0                                                   |\n",
       "| 74.15                                               | 29                                                  | 54806.18                                            | 245.89                                              | Triple-buffered reciprocal time-frame               | West Terrifurt                                      | 1                                                   | Italy                                               | 2016-01-10 02:31:19                                 | 0                                                   |\n",
       "| 68.37                                               | 35                                                  | 73889.99                                            | 225.58                                              | Robust logistical utilization                       | South Manuel                                        | 0                                                   | Iceland                                             | 2016-06-03 03:36:18                                 | 0                                                   |\n",
       "| 59.99                                               | 23                                                  | 59761.56                                            | 226.74                                              | Sharable client-driven software                     | Jamieberg                                           | 1                                                   | Norway                                              | 2016-05-19 14:30:17                                 | 0                                                   |\n",
       "| 88.91                                               | 33                                                  | 53852.85                                            | 208.36                                              | Enhanced dedicated support                          | Brandonstad                                         | 0                                                   | Myanmar                                             | 2016-01-28 20:59:32                                 | 0                                                   |\n",
       "| 66.00                                               | 48                                                  | 24593.33                                            | 131.76                                              | Reactive local challenge                            | Port Jefferybury                                    | 1                                                   | Australia                                           | 2016-03-07 01:40:15                                 | 1                                                   |\n",
       "| 74.53                                               | 30                                                  | 68862.00                                            | 221.51                                              | Configurable coherent function                      | West Colin                                          | 1                                                   | Grenada                                             | 2016-04-18 09:33:42                                 | 0                                                   |\n",
       "| 69.88                                               | 20                                                  | 55642.32                                            | 183.82                                              | Mandatory homogeneous architecture                  | Ramirezton                                          | 1                                                   | Ghana                                               | 2016-07-11 01:42:51                                 | 0                                                   |\n",
       "| 47.64                                               | 49                                                  | 45632.51                                            | 122.02                                              | Centralized neutral neural-net                      | West Brandonton                                     | 0                                                   | Qatar                                               | 2016-03-16 20:19:01                                 | 1                                                   |\n",
       "| 83.07                                               | 37                                                  | 62491.01                                            | 230.87                                              | Team-oriented grid-enabled Local Area Network       | East Theresashire                                   | 1                                                   | Burundi                                             | 2016-05-08 08:10:10                                 | 0                                                   |\n",
       "| 69.57                                               | 48                                                  | 51636.92                                            | 113.12                                              | Centralized content-based focus group               | West Katiefurt                                      | 1                                                   | Egypt                                               | 2016-06-03 01:14:41                                 | 1                                                   |\n",
       "| 79.52                                               | 24                                                  | 51739.63                                            | 214.23                                              | Synergistic fresh-thinking array                    | North Tara                                          | 0                                                   | Bosnia and Herzegovina                              | 2016-04-20 21:49:22                                 | 0                                                   |\n",
       "| 42.95                                               | 33                                                  | 30976.00                                            | 143.56                                              | Grass-roots coherent extranet                       | West William                                        | 0                                                   | Barbados                                            | 2016-03-24 09:31:49                                 | 1                                                   |\n",
       "| 63.45                                               | 23                                                  | 52182.23                                            | 140.64                                              | Persistent demand-driven interface                  | New Travistown                                      | 1                                                   | Spain                                               | 2016-03-09 03:41:30                                 | 1                                                   |\n",
       "| 55.39                                               | 37                                                  | 23936.86                                            | 129.41                                              | Customizable multi-tasking website                  | West Dylanberg                                      | 0                                                   | Palestinian Territory                               | 2016-01-30 19:20:41                                 | 1                                                   |\n",
       "| 82.03                                               | 41                                                  | 71511.08                                            | 187.53                                              | Intuitive dynamic attitude                          | Pruittmouth                                         | 0                                                   | Afghanistan                                         | 2016-05-02 07:00:58                                 | 0                                                   |\n",
       "| 54.70                                               | 36                                                  | 31087.54                                            | 118.39                                              | Grass-roots solution-oriented conglomeration        | Jessicastad                                         | 1                                                   | British Indian Ocean Territory (Chagos Archipelago) | 2016-02-13 07:53:55                                 | 1                                                   |\n",
       "| 74.58                                               | 40                                                  | 23821.72                                            | 135.51                                              | Advanced 24/7 productivity                          | Millertown                                          | 1                                                   | Russian Federation                                  | 2016-02-27 04:43:07                                 | 1                                                   |\n",
       "| 77.22                                               | 30                                                  | 64802.33                                            | 224.44                                              | Object-based reciprocal knowledgebase               | Port Jacqueline                                     | 1                                                   | Cameroon                                            | 2016-01-05 07:52:48                                 | 0                                                   |\n",
       "| 84.59                                               | 35                                                  | 60015.57                                            | 226.54                                              | Streamlined non-volatile analyzer                   | Lake Nicole                                         | 1                                                   | Cameroon                                            | 2016-03-18 13:22:35                                 | 0                                                   |\n",
       "| 41.49                                               | 52                                                  | 32635.70                                            | 164.83                                              | Mandatory disintermediate utilization               | South John                                          | 0                                                   | Burundi                                             | 2016-05-20 08:49:33                                 | 1                                                   |\n",
       "| 87.29                                               | 36                                                  | 61628.72                                            | 209.93                                              | Future-proofed methodical protocol                  | Pamelamouth                                         | 1                                                   | Korea                                               | 2016-03-23 09:43:43                                 | 0                                                   |\n",
       "| 41.39                                               | 41                                                  | 68962.32                                            | 167.22                                              | Exclusive neutral parallelism                       | Harperborough                                       | 0                                                   | Tokelau                                             | 2016-06-13 17:27:09                                 | 1                                                   |\n",
       "| 78.74                                               | 28                                                  | 64828.00                                            | 204.79                                              | Public-key foreground groupware                     | Port Danielleberg                                   | 1                                                   | Monaco                                              | 2016-05-27 15:25:52                                 | 0                                                   |\n",
       "| 48.53                                               | 28                                                  | 38067.08                                            | 134.14                                              | Ameliorated client-driven forecast                  | West Jeremyside                                     | 1                                                   | Tuvalu                                              | 2016-02-08 10:46:14                                 | 1                                                   |\n",
       "| 51.95                                               | 52                                                  | 58295.82                                            | 129.23                                              | Monitored systematic hierarchy                      | South Cathyfurt                                     | 0                                                   | Greece                                              | 2016-07-19 08:32:10                                 | 1                                                   |\n",
       "| 70.20                                               | 34                                                  | 32708.94                                            | 119.20                                              | Open-architected impactful productivity             | Palmerside                                          | 0                                                   | British Virgin Islands                              | 2016-04-14 05:08:35                                 | 1                                                   |\n",
       "| 76.02                                               | 22                                                  | 46179.97                                            | 209.82                                              | Business-focused value-added definition             | West Guybury                                        | 0                                                   | Bouvet Island (Bouvetoya)                           | 2016-01-27 12:38:16                                 | 0                                                   |\n",
       "| ... | ... | ... | ... | ... | ... | ... | ... | ... | ... |\n",
       "| 40.18                                   | 29                                      | 50760.23                                | 151.96                                  | Enhanced intangible portal              | Lake Tracy                              | 0                                       | Hong Kong                               | 2016-06-25 04:21:33                     | 1                                       |\n",
       "| 45.17                                   | 48                                      | 34418.09                                | 132.07                                  | Down-sized background groupware         | Taylormouth                             | 1                                       | Palau                                   | 2016-01-27 14:41:10                     | 1                                       |\n",
       "| 50.48                                   | 50                                      | 20592.99                                | 162.43                                  | Switchable real-time product            | Dianaville                              | 0                                       | Malawi                                  | 2016-05-16 18:51:59                     | 1                                       |\n",
       "| 80.87                                   | 28                                      | 63528.80                                | 203.30                                  | Ameliorated local workforce             | Collinsburgh                            | 0                                       | Uruguay                                 | 2016-02-27 20:20:25                     | 0                                       |\n",
       "| 41.88                                   | 40                                      | 44217.68                                | 126.11                                  | Streamlined exuding adapter             | Port Rachel                             | 1                                       | Cyprus                                  | 2016-02-28 23:54:44                     | 1                                       |\n",
       "| 39.87                                   | 48                                      | 47929.83                                | 139.34                                  | Business-focused user-facing benchmark  | South Rebecca                           | 1                                       | Mexico                                  | 2016-06-13 06:11:33                     | 1                                       |\n",
       "| 61.84                                   | 45                                      | 46024.29                                | 105.63                                  | Reactive bi-directional standardization | Port Joshuafort                         | 1                                       | Niger                                   | 2016-05-05 11:07:13                     | 1                                       |\n",
       "| 54.97                                   | 31                                      | 51900.03                                | 116.38                                  | Virtual bifurcated portal               | Robinsontown                            | 1                                       | France                                  | 2016-07-07 12:17:33                     | 1                                       |\n",
       "| 71.40                                   | 30                                      | 72188.90                                | 166.31                                  | Integrated 3rdgeneration monitoring     | Beckton                                 | 0                                       | Japan                                   | 2016-05-24 17:07:08                     | 0                                       |\n",
       "| 70.29                                   | 31                                      | 56974.51                                | 254.65                                  | Balanced responsive open system         | New Frankshire                          | 1                                       | Norfolk Island                          | 2016-03-30 14:36:55                     | 0                                       |\n",
       "| 67.26                                   | 57                                      | 25682.65                                | 168.41                                  | Focused incremental Graphic Interface   | North Derekville                        | 1                                       | Bulgaria                                | 2016-05-27 05:54:03                     | 1                                       |\n",
       "| 76.58                                   | 46                                      | 41884.64                                | 258.26                                  | Secured 24hour policy                   | West Sydney                             | 0                                       | Uzbekistan                              | 2016-01-03 16:30:51                     | 0                                       |\n",
       "| 54.37                                   | 38                                      | 72196.29                                | 140.77                                  | Up-sized asymmetric firmware            | Lake Matthew                            | 0                                       | Mexico                                  | 2016-06-25 18:17:53                     | 1                                       |\n",
       "| 82.79                                   | 32                                      | 54429.17                                | 234.81                                  | Distributed fault-tolerant service-desk | Lake Zacharyfurt                        | 1                                       | Brunei Darussalam                       | 2016-02-24 10:36:43                     | 0                                       |\n",
       "| 66.47                                   | 31                                      | 58037.66                                | 256.39                                  | Vision-oriented human-resource synergy  | Lindsaymouth                            | 1                                       | France                                  | 2016-03-03 03:13:48                     | 0                                       |\n",
       "| 72.88                                   | 44                                      | 64011.26                                | 125.12                                  | Customer-focused explicit challenge     | Sarahland                               | 0                                       | Yemen                                   | 2016-04-21 19:56:24                     | 1                                       |\n",
       "| 76.44                                   | 28                                      | 59967.19                                | 232.68                                  | Synchronized human-resource moderator   | Port Julie                              | 1                                       | Northern Mariana Islands                | 2016-04-06 17:26:37                     | 0                                       |\n",
       "| 63.37                                   | 43                                      | 43155.19                                | 105.04                                  | Open-architected full-range projection  | Michaelshire                            | 1                                       | Poland                                  | 2016-03-23 12:53:23                     | 1                                       |\n",
       "| 89.71                                   | 48                                      | 51501.38                                | 204.40                                  | Versatile local forecast                | Sarafurt                                | 1                                       | Bahrain                                 | 2016-02-17 07:00:38                     | 0                                       |\n",
       "| 70.96                                   | 31                                      | 55187.85                                | 256.40                                  | Ameliorated user-facing help-desk       | South Denise                            | 0                                       | Saint Pierre and Miquelon               | 2016-06-26 07:01:47                     | 0                                       |\n",
       "| 35.79                                   | 44                                      | 33813.08                                | 165.62                                  | Enterprise-wide tangible model          | North Katie                             | 1                                       | Tonga                                   | 2016-04-20 13:36:42                     | 1                                       |\n",
       "| 38.96                                   | 38                                      | 36497.22                                | 140.67                                  | Versatile mission-critical application  | Mauricefurt                             | 1                                       | Comoros                                 | 2016-07-21 16:02:40                     | 1                                       |\n",
       "| 69.17                                   | 40                                      | 66193.81                                | 123.62                                  | Extended leadingedge solution           | New Patrick                             | 0                                       | Montenegro                              | 2016-03-06 11:36:06                     | 1                                       |\n",
       "| 64.20                                   | 27                                      | 66200.96                                | 227.63                                  | Phased zero tolerance extranet          | Edwardsmouth                            | 1                                       | Isle of Man                             | 2016-02-11 23:45:01                     | 0                                       |\n",
       "| 43.70                                   | 28                                      | 63126.96                                | 173.01                                  | Front-line bifurcated ability           | Nicholasland                            | 0                                       | Mayotte                                 | 2016-04-04 03:57:48                     | 1                                       |\n",
       "| 72.97                                   | 30                                      | 71384.57                                | 208.58                                  | Fundamental modular algorithm           | Duffystad                               | 1                                       | Lebanon                                 | 2016-02-11 21:49:00                     | 1                                       |\n",
       "| 51.30                                   | 45                                      | 67782.17                                | 134.42                                  | Grass-roots cohesive monitoring         | New Darlene                             | 1                                       | Bosnia and Herzegovina                  | 2016-04-22 02:07:01                     | 1                                       |\n",
       "| 51.63                                   | 51                                      | 42415.72                                | 120.37                                  | Expanded intangible solution            | South Jessica                           | 1                                       | Mongolia                                | 2016-02-01 17:24:57                     | 1                                       |\n",
       "| 55.55                                   | 19                                      | 41920.79                                | 187.95                                  | Proactive bandwidth-monitored policy    | West Steven                             | 0                                       | Guatemala                               | 2016-03-24 02:35:54                     | 0                                       |\n",
       "| 45.01                                   | 26                                      | 29875.80                                | 178.35                                  | Virtual 5thgeneration emulation         | Ronniemouth                             | 0                                       | Brazil                                  | 2016-06-03 21:43:21                     | 1                                       |\n",
       "\n"
      ],
      "text/plain": [
       "     Daily.Time.Spent.on.Site Age Area.Income Daily.Internet.Usage\n",
       "1    68.95                    35  61833.90    256.09              \n",
       "2    80.23                    31  68441.85    193.77              \n",
       "3    69.47                    26  59785.94    236.50              \n",
       "4    74.15                    29  54806.18    245.89              \n",
       "5    68.37                    35  73889.99    225.58              \n",
       "6    59.99                    23  59761.56    226.74              \n",
       "7    88.91                    33  53852.85    208.36              \n",
       "8    66.00                    48  24593.33    131.76              \n",
       "9    74.53                    30  68862.00    221.51              \n",
       "10   69.88                    20  55642.32    183.82              \n",
       "11   47.64                    49  45632.51    122.02              \n",
       "12   83.07                    37  62491.01    230.87              \n",
       "13   69.57                    48  51636.92    113.12              \n",
       "14   79.52                    24  51739.63    214.23              \n",
       "15   42.95                    33  30976.00    143.56              \n",
       "16   63.45                    23  52182.23    140.64              \n",
       "17   55.39                    37  23936.86    129.41              \n",
       "18   82.03                    41  71511.08    187.53              \n",
       "19   54.70                    36  31087.54    118.39              \n",
       "20   74.58                    40  23821.72    135.51              \n",
       "21   77.22                    30  64802.33    224.44              \n",
       "22   84.59                    35  60015.57    226.54              \n",
       "23   41.49                    52  32635.70    164.83              \n",
       "24   87.29                    36  61628.72    209.93              \n",
       "25   41.39                    41  68962.32    167.22              \n",
       "26   78.74                    28  64828.00    204.79              \n",
       "27   48.53                    28  38067.08    134.14              \n",
       "28   51.95                    52  58295.82    129.23              \n",
       "29   70.20                    34  32708.94    119.20              \n",
       "30   76.02                    22  46179.97    209.82              \n",
       "...  ...                      ... ...         ...                 \n",
       "971  40.18                    29  50760.23    151.96              \n",
       "972  45.17                    48  34418.09    132.07              \n",
       "973  50.48                    50  20592.99    162.43              \n",
       "974  80.87                    28  63528.80    203.30              \n",
       "975  41.88                    40  44217.68    126.11              \n",
       "976  39.87                    48  47929.83    139.34              \n",
       "977  61.84                    45  46024.29    105.63              \n",
       "978  54.97                    31  51900.03    116.38              \n",
       "979  71.40                    30  72188.90    166.31              \n",
       "980  70.29                    31  56974.51    254.65              \n",
       "981  67.26                    57  25682.65    168.41              \n",
       "982  76.58                    46  41884.64    258.26              \n",
       "983  54.37                    38  72196.29    140.77              \n",
       "984  82.79                    32  54429.17    234.81              \n",
       "985  66.47                    31  58037.66    256.39              \n",
       "986  72.88                    44  64011.26    125.12              \n",
       "987  76.44                    28  59967.19    232.68              \n",
       "988  63.37                    43  43155.19    105.04              \n",
       "989  89.71                    48  51501.38    204.40              \n",
       "990  70.96                    31  55187.85    256.40              \n",
       "991  35.79                    44  33813.08    165.62              \n",
       "992  38.96                    38  36497.22    140.67              \n",
       "993  69.17                    40  66193.81    123.62              \n",
       "994  64.20                    27  66200.96    227.63              \n",
       "995  43.70                    28  63126.96    173.01              \n",
       "996  72.97                    30  71384.57    208.58              \n",
       "997  51.30                    45  67782.17    134.42              \n",
       "998  51.63                    51  42415.72    120.37              \n",
       "999  55.55                    19  41920.79    187.95              \n",
       "1000 45.01                    26  29875.80    178.35              \n",
       "     Ad.Topic.Line                                 City              Male\n",
       "1    Cloned 5thgeneration orchestration            Wrightburgh       0   \n",
       "2    Monitored national standardization            West Jodi         1   \n",
       "3    Organic bottom-line service-desk              Davidton          0   \n",
       "4    Triple-buffered reciprocal time-frame         West Terrifurt    1   \n",
       "5    Robust logistical utilization                 South Manuel      0   \n",
       "6    Sharable client-driven software               Jamieberg         1   \n",
       "7    Enhanced dedicated support                    Brandonstad       0   \n",
       "8    Reactive local challenge                      Port Jefferybury  1   \n",
       "9    Configurable coherent function                West Colin        1   \n",
       "10   Mandatory homogeneous architecture            Ramirezton        1   \n",
       "11   Centralized neutral neural-net                West Brandonton   0   \n",
       "12   Team-oriented grid-enabled Local Area Network East Theresashire 1   \n",
       "13   Centralized content-based focus group         West Katiefurt    1   \n",
       "14   Synergistic fresh-thinking array              North Tara        0   \n",
       "15   Grass-roots coherent extranet                 West William      0   \n",
       "16   Persistent demand-driven interface            New Travistown    1   \n",
       "17   Customizable multi-tasking website            West Dylanberg    0   \n",
       "18   Intuitive dynamic attitude                    Pruittmouth       0   \n",
       "19   Grass-roots solution-oriented conglomeration  Jessicastad       1   \n",
       "20   Advanced 24/7 productivity                    Millertown        1   \n",
       "21   Object-based reciprocal knowledgebase         Port Jacqueline   1   \n",
       "22   Streamlined non-volatile analyzer             Lake Nicole       1   \n",
       "23   Mandatory disintermediate utilization         South John        0   \n",
       "24   Future-proofed methodical protocol            Pamelamouth       1   \n",
       "25   Exclusive neutral parallelism                 Harperborough     0   \n",
       "26   Public-key foreground groupware               Port Danielleberg 1   \n",
       "27   Ameliorated client-driven forecast            West Jeremyside   1   \n",
       "28   Monitored systematic hierarchy                South Cathyfurt   0   \n",
       "29   Open-architected impactful productivity       Palmerside        0   \n",
       "30   Business-focused value-added definition       West Guybury      0   \n",
       "...  ...                                           ...               ... \n",
       "971  Enhanced intangible portal                    Lake Tracy        0   \n",
       "972  Down-sized background groupware               Taylormouth       1   \n",
       "973  Switchable real-time product                  Dianaville        0   \n",
       "974  Ameliorated local workforce                   Collinsburgh      0   \n",
       "975  Streamlined exuding adapter                   Port Rachel       1   \n",
       "976  Business-focused user-facing benchmark        South Rebecca     1   \n",
       "977  Reactive bi-directional standardization       Port Joshuafort   1   \n",
       "978  Virtual bifurcated portal                     Robinsontown      1   \n",
       "979  Integrated 3rdgeneration monitoring           Beckton           0   \n",
       "980  Balanced responsive open system               New Frankshire    1   \n",
       "981  Focused incremental Graphic Interface         North Derekville  1   \n",
       "982  Secured 24hour policy                         West Sydney       0   \n",
       "983  Up-sized asymmetric firmware                  Lake Matthew      0   \n",
       "984  Distributed fault-tolerant service-desk       Lake Zacharyfurt  1   \n",
       "985  Vision-oriented human-resource synergy        Lindsaymouth      1   \n",
       "986  Customer-focused explicit challenge           Sarahland         0   \n",
       "987  Synchronized human-resource moderator         Port Julie        1   \n",
       "988  Open-architected full-range projection        Michaelshire      1   \n",
       "989  Versatile local forecast                      Sarafurt          1   \n",
       "990  Ameliorated user-facing help-desk             South Denise      0   \n",
       "991  Enterprise-wide tangible model                North Katie       1   \n",
       "992  Versatile mission-critical application        Mauricefurt       1   \n",
       "993  Extended leadingedge solution                 New Patrick       0   \n",
       "994  Phased zero tolerance extranet                Edwardsmouth      1   \n",
       "995  Front-line bifurcated ability                 Nicholasland      0   \n",
       "996  Fundamental modular algorithm                 Duffystad         1   \n",
       "997  Grass-roots cohesive monitoring               New Darlene       1   \n",
       "998  Expanded intangible solution                  South Jessica     1   \n",
       "999  Proactive bandwidth-monitored policy          West Steven       0   \n",
       "1000 Virtual 5thgeneration emulation               Ronniemouth       0   \n",
       "     Country                                             Timestamp          \n",
       "1    Tunisia                                             2016-03-27 00:53:11\n",
       "2    Nauru                                               2016-04-04 01:39:02\n",
       "3    San Marino                                          2016-03-13 20:35:42\n",
       "4    Italy                                               2016-01-10 02:31:19\n",
       "5    Iceland                                             2016-06-03 03:36:18\n",
       "6    Norway                                              2016-05-19 14:30:17\n",
       "7    Myanmar                                             2016-01-28 20:59:32\n",
       "8    Australia                                           2016-03-07 01:40:15\n",
       "9    Grenada                                             2016-04-18 09:33:42\n",
       "10   Ghana                                               2016-07-11 01:42:51\n",
       "11   Qatar                                               2016-03-16 20:19:01\n",
       "12   Burundi                                             2016-05-08 08:10:10\n",
       "13   Egypt                                               2016-06-03 01:14:41\n",
       "14   Bosnia and Herzegovina                              2016-04-20 21:49:22\n",
       "15   Barbados                                            2016-03-24 09:31:49\n",
       "16   Spain                                               2016-03-09 03:41:30\n",
       "17   Palestinian Territory                               2016-01-30 19:20:41\n",
       "18   Afghanistan                                         2016-05-02 07:00:58\n",
       "19   British Indian Ocean Territory (Chagos Archipelago) 2016-02-13 07:53:55\n",
       "20   Russian Federation                                  2016-02-27 04:43:07\n",
       "21   Cameroon                                            2016-01-05 07:52:48\n",
       "22   Cameroon                                            2016-03-18 13:22:35\n",
       "23   Burundi                                             2016-05-20 08:49:33\n",
       "24   Korea                                               2016-03-23 09:43:43\n",
       "25   Tokelau                                             2016-06-13 17:27:09\n",
       "26   Monaco                                              2016-05-27 15:25:52\n",
       "27   Tuvalu                                              2016-02-08 10:46:14\n",
       "28   Greece                                              2016-07-19 08:32:10\n",
       "29   British Virgin Islands                              2016-04-14 05:08:35\n",
       "30   Bouvet Island (Bouvetoya)                           2016-01-27 12:38:16\n",
       "...  ...                                                 ...                \n",
       "971  Hong Kong                                           2016-06-25 04:21:33\n",
       "972  Palau                                               2016-01-27 14:41:10\n",
       "973  Malawi                                              2016-05-16 18:51:59\n",
       "974  Uruguay                                             2016-02-27 20:20:25\n",
       "975  Cyprus                                              2016-02-28 23:54:44\n",
       "976  Mexico                                              2016-06-13 06:11:33\n",
       "977  Niger                                               2016-05-05 11:07:13\n",
       "978  France                                              2016-07-07 12:17:33\n",
       "979  Japan                                               2016-05-24 17:07:08\n",
       "980  Norfolk Island                                      2016-03-30 14:36:55\n",
       "981  Bulgaria                                            2016-05-27 05:54:03\n",
       "982  Uzbekistan                                          2016-01-03 16:30:51\n",
       "983  Mexico                                              2016-06-25 18:17:53\n",
       "984  Brunei Darussalam                                   2016-02-24 10:36:43\n",
       "985  France                                              2016-03-03 03:13:48\n",
       "986  Yemen                                               2016-04-21 19:56:24\n",
       "987  Northern Mariana Islands                            2016-04-06 17:26:37\n",
       "988  Poland                                              2016-03-23 12:53:23\n",
       "989  Bahrain                                             2016-02-17 07:00:38\n",
       "990  Saint Pierre and Miquelon                           2016-06-26 07:01:47\n",
       "991  Tonga                                               2016-04-20 13:36:42\n",
       "992  Comoros                                             2016-07-21 16:02:40\n",
       "993  Montenegro                                          2016-03-06 11:36:06\n",
       "994  Isle of Man                                         2016-02-11 23:45:01\n",
       "995  Mayotte                                             2016-04-04 03:57:48\n",
       "996  Lebanon                                             2016-02-11 21:49:00\n",
       "997  Bosnia and Herzegovina                              2016-04-22 02:07:01\n",
       "998  Mongolia                                            2016-02-01 17:24:57\n",
       "999  Guatemala                                           2016-03-24 02:35:54\n",
       "1000 Brazil                                              2016-06-03 21:43:21\n",
       "     Clicked.on.Ad\n",
       "1    0            \n",
       "2    0            \n",
       "3    0            \n",
       "4    0            \n",
       "5    0            \n",
       "6    0            \n",
       "7    0            \n",
       "8    1            \n",
       "9    0            \n",
       "10   0            \n",
       "11   1            \n",
       "12   0            \n",
       "13   1            \n",
       "14   0            \n",
       "15   1            \n",
       "16   1            \n",
       "17   1            \n",
       "18   0            \n",
       "19   1            \n",
       "20   1            \n",
       "21   0            \n",
       "22   0            \n",
       "23   1            \n",
       "24   0            \n",
       "25   1            \n",
       "26   0            \n",
       "27   1            \n",
       "28   1            \n",
       "29   1            \n",
       "30   0            \n",
       "...  ...          \n",
       "971  1            \n",
       "972  1            \n",
       "973  1            \n",
       "974  0            \n",
       "975  1            \n",
       "976  1            \n",
       "977  1            \n",
       "978  1            \n",
       "979  0            \n",
       "980  0            \n",
       "981  1            \n",
       "982  0            \n",
       "983  1            \n",
       "984  0            \n",
       "985  0            \n",
       "986  1            \n",
       "987  0            \n",
       "988  1            \n",
       "989  0            \n",
       "990  0            \n",
       "991  1            \n",
       "992  1            \n",
       "993  1            \n",
       "994  0            \n",
       "995  1            \n",
       "996  1            \n",
       "997  1            \n",
       "998  1            \n",
       "999  0            \n",
       "1000 1            "
      ]
     },
     "metadata": {},
     "output_type": "display_data"
    }
   ],
   "source": [
    "advert <- read.csv(\"advertising.csv\",header = TRUE)\n",
    "advert\n"
   ]
  },
  {
   "cell_type": "code",
   "execution_count": 32,
   "metadata": {},
   "outputs": [
    {
     "data": {
      "text/html": [
       "<table>\n",
       "<thead><tr><th scope=col>Daily.Time.Spent.on.Site</th><th scope=col>Age</th><th scope=col>Area.Income</th><th scope=col>Daily.Internet.Usage</th><th scope=col>Ad.Topic.Line</th><th scope=col>City</th><th scope=col>Male</th><th scope=col>Country</th><th scope=col>Timestamp</th><th scope=col>Clicked.on.Ad</th></tr></thead>\n",
       "<tbody>\n",
       "\t<tr><td>68.95                                </td><td>35                                   </td><td>61833.90                             </td><td>256.09                               </td><td>Cloned 5thgeneration orchestration   </td><td>Wrightburgh                          </td><td>0                                    </td><td>Tunisia                              </td><td>2016-03-27 00:53:11                  </td><td>0                                    </td></tr>\n",
       "\t<tr><td>80.23                                </td><td>31                                   </td><td>68441.85                             </td><td>193.77                               </td><td>Monitored national standardization   </td><td>West Jodi                            </td><td>1                                    </td><td>Nauru                                </td><td>2016-04-04 01:39:02                  </td><td>0                                    </td></tr>\n",
       "\t<tr><td>69.47                                </td><td>26                                   </td><td>59785.94                             </td><td>236.50                               </td><td>Organic bottom-line service-desk     </td><td>Davidton                             </td><td>0                                    </td><td>San Marino                           </td><td>2016-03-13 20:35:42                  </td><td>0                                    </td></tr>\n",
       "\t<tr><td>74.15                                </td><td>29                                   </td><td>54806.18                             </td><td>245.89                               </td><td>Triple-buffered reciprocal time-frame</td><td>West Terrifurt                       </td><td>1                                    </td><td>Italy                                </td><td>2016-01-10 02:31:19                  </td><td>0                                    </td></tr>\n",
       "\t<tr><td>68.37                                </td><td>35                                   </td><td>73889.99                             </td><td>225.58                               </td><td>Robust logistical utilization        </td><td>South Manuel                         </td><td>0                                    </td><td>Iceland                              </td><td>2016-06-03 03:36:18                  </td><td>0                                    </td></tr>\n",
       "\t<tr><td>59.99                                </td><td>23                                   </td><td>59761.56                             </td><td>226.74                               </td><td>Sharable client-driven software      </td><td>Jamieberg                            </td><td>1                                    </td><td>Norway                               </td><td>2016-05-19 14:30:17                  </td><td>0                                    </td></tr>\n",
       "</tbody>\n",
       "</table>\n"
      ],
      "text/latex": [
       "\\begin{tabular}{r|llllllllll}\n",
       " Daily.Time.Spent.on.Site & Age & Area.Income & Daily.Internet.Usage & Ad.Topic.Line & City & Male & Country & Timestamp & Clicked.on.Ad\\\\\n",
       "\\hline\n",
       "\t 68.95                                 & 35                                    & 61833.90                              & 256.09                                & Cloned 5thgeneration orchestration    & Wrightburgh                           & 0                                     & Tunisia                               & 2016-03-27 00:53:11                   & 0                                    \\\\\n",
       "\t 80.23                                 & 31                                    & 68441.85                              & 193.77                                & Monitored national standardization    & West Jodi                             & 1                                     & Nauru                                 & 2016-04-04 01:39:02                   & 0                                    \\\\\n",
       "\t 69.47                                 & 26                                    & 59785.94                              & 236.50                                & Organic bottom-line service-desk      & Davidton                              & 0                                     & San Marino                            & 2016-03-13 20:35:42                   & 0                                    \\\\\n",
       "\t 74.15                                 & 29                                    & 54806.18                              & 245.89                                & Triple-buffered reciprocal time-frame & West Terrifurt                        & 1                                     & Italy                                 & 2016-01-10 02:31:19                   & 0                                    \\\\\n",
       "\t 68.37                                 & 35                                    & 73889.99                              & 225.58                                & Robust logistical utilization         & South Manuel                          & 0                                     & Iceland                               & 2016-06-03 03:36:18                   & 0                                    \\\\\n",
       "\t 59.99                                 & 23                                    & 59761.56                              & 226.74                                & Sharable client-driven software       & Jamieberg                             & 1                                     & Norway                                & 2016-05-19 14:30:17                   & 0                                    \\\\\n",
       "\\end{tabular}\n"
      ],
      "text/markdown": [
       "\n",
       "| Daily.Time.Spent.on.Site | Age | Area.Income | Daily.Internet.Usage | Ad.Topic.Line | City | Male | Country | Timestamp | Clicked.on.Ad |\n",
       "|---|---|---|---|---|---|---|---|---|---|\n",
       "| 68.95                                 | 35                                    | 61833.90                              | 256.09                                | Cloned 5thgeneration orchestration    | Wrightburgh                           | 0                                     | Tunisia                               | 2016-03-27 00:53:11                   | 0                                     |\n",
       "| 80.23                                 | 31                                    | 68441.85                              | 193.77                                | Monitored national standardization    | West Jodi                             | 1                                     | Nauru                                 | 2016-04-04 01:39:02                   | 0                                     |\n",
       "| 69.47                                 | 26                                    | 59785.94                              | 236.50                                | Organic bottom-line service-desk      | Davidton                              | 0                                     | San Marino                            | 2016-03-13 20:35:42                   | 0                                     |\n",
       "| 74.15                                 | 29                                    | 54806.18                              | 245.89                                | Triple-buffered reciprocal time-frame | West Terrifurt                        | 1                                     | Italy                                 | 2016-01-10 02:31:19                   | 0                                     |\n",
       "| 68.37                                 | 35                                    | 73889.99                              | 225.58                                | Robust logistical utilization         | South Manuel                          | 0                                     | Iceland                               | 2016-06-03 03:36:18                   | 0                                     |\n",
       "| 59.99                                 | 23                                    | 59761.56                              | 226.74                                | Sharable client-driven software       | Jamieberg                             | 1                                     | Norway                                | 2016-05-19 14:30:17                   | 0                                     |\n",
       "\n"
      ],
      "text/plain": [
       "  Daily.Time.Spent.on.Site Age Area.Income Daily.Internet.Usage\n",
       "1 68.95                    35  61833.90    256.09              \n",
       "2 80.23                    31  68441.85    193.77              \n",
       "3 69.47                    26  59785.94    236.50              \n",
       "4 74.15                    29  54806.18    245.89              \n",
       "5 68.37                    35  73889.99    225.58              \n",
       "6 59.99                    23  59761.56    226.74              \n",
       "  Ad.Topic.Line                         City           Male Country   \n",
       "1 Cloned 5thgeneration orchestration    Wrightburgh    0    Tunisia   \n",
       "2 Monitored national standardization    West Jodi      1    Nauru     \n",
       "3 Organic bottom-line service-desk      Davidton       0    San Marino\n",
       "4 Triple-buffered reciprocal time-frame West Terrifurt 1    Italy     \n",
       "5 Robust logistical utilization         South Manuel   0    Iceland   \n",
       "6 Sharable client-driven software       Jamieberg      1    Norway    \n",
       "  Timestamp           Clicked.on.Ad\n",
       "1 2016-03-27 00:53:11 0            \n",
       "2 2016-04-04 01:39:02 0            \n",
       "3 2016-03-13 20:35:42 0            \n",
       "4 2016-01-10 02:31:19 0            \n",
       "5 2016-06-03 03:36:18 0            \n",
       "6 2016-05-19 14:30:17 0            "
      ]
     },
     "metadata": {},
     "output_type": "display_data"
    }
   ],
   "source": [
    "head(advert)"
   ]
  },
  {
   "cell_type": "code",
   "execution_count": 33,
   "metadata": {},
   "outputs": [
    {
     "data": {
      "text/html": [
       "<table>\n",
       "<thead><tr><th></th><th scope=col>Daily.Time.Spent.on.Site</th><th scope=col>Age</th><th scope=col>Area.Income</th><th scope=col>Daily.Internet.Usage</th><th scope=col>Ad.Topic.Line</th><th scope=col>City</th><th scope=col>Male</th><th scope=col>Country</th><th scope=col>Timestamp</th><th scope=col>Clicked.on.Ad</th></tr></thead>\n",
       "<tbody>\n",
       "\t<tr><th scope=row>995</th><td>43.70                               </td><td>28                                  </td><td>63126.96                            </td><td>173.01                              </td><td>Front-line bifurcated ability       </td><td>Nicholasland                        </td><td>0                                   </td><td>Mayotte                             </td><td>2016-04-04 03:57:48                 </td><td>1                                   </td></tr>\n",
       "\t<tr><th scope=row>996</th><td>72.97                               </td><td>30                                  </td><td>71384.57                            </td><td>208.58                              </td><td>Fundamental modular algorithm       </td><td>Duffystad                           </td><td>1                                   </td><td>Lebanon                             </td><td>2016-02-11 21:49:00                 </td><td>1                                   </td></tr>\n",
       "\t<tr><th scope=row>997</th><td>51.30                               </td><td>45                                  </td><td>67782.17                            </td><td>134.42                              </td><td>Grass-roots cohesive monitoring     </td><td>New Darlene                         </td><td>1                                   </td><td>Bosnia and Herzegovina              </td><td>2016-04-22 02:07:01                 </td><td>1                                   </td></tr>\n",
       "\t<tr><th scope=row>998</th><td>51.63                               </td><td>51                                  </td><td>42415.72                            </td><td>120.37                              </td><td>Expanded intangible solution        </td><td>South Jessica                       </td><td>1                                   </td><td>Mongolia                            </td><td>2016-02-01 17:24:57                 </td><td>1                                   </td></tr>\n",
       "\t<tr><th scope=row>999</th><td>55.55                               </td><td>19                                  </td><td>41920.79                            </td><td>187.95                              </td><td>Proactive bandwidth-monitored policy</td><td>West Steven                         </td><td>0                                   </td><td>Guatemala                           </td><td>2016-03-24 02:35:54                 </td><td>0                                   </td></tr>\n",
       "\t<tr><th scope=row>1000</th><td>45.01                               </td><td>26                                  </td><td>29875.80                            </td><td>178.35                              </td><td>Virtual 5thgeneration emulation     </td><td>Ronniemouth                         </td><td>0                                   </td><td>Brazil                              </td><td>2016-06-03 21:43:21                 </td><td>1                                   </td></tr>\n",
       "</tbody>\n",
       "</table>\n"
      ],
      "text/latex": [
       "\\begin{tabular}{r|llllllllll}\n",
       "  & Daily.Time.Spent.on.Site & Age & Area.Income & Daily.Internet.Usage & Ad.Topic.Line & City & Male & Country & Timestamp & Clicked.on.Ad\\\\\n",
       "\\hline\n",
       "\t995 & 43.70                                & 28                                   & 63126.96                             & 173.01                               & Front-line bifurcated ability        & Nicholasland                         & 0                                    & Mayotte                              & 2016-04-04 03:57:48                  & 1                                   \\\\\n",
       "\t996 & 72.97                                & 30                                   & 71384.57                             & 208.58                               & Fundamental modular algorithm        & Duffystad                            & 1                                    & Lebanon                              & 2016-02-11 21:49:00                  & 1                                   \\\\\n",
       "\t997 & 51.30                                & 45                                   & 67782.17                             & 134.42                               & Grass-roots cohesive monitoring      & New Darlene                          & 1                                    & Bosnia and Herzegovina               & 2016-04-22 02:07:01                  & 1                                   \\\\\n",
       "\t998 & 51.63                                & 51                                   & 42415.72                             & 120.37                               & Expanded intangible solution         & South Jessica                        & 1                                    & Mongolia                             & 2016-02-01 17:24:57                  & 1                                   \\\\\n",
       "\t999 & 55.55                                & 19                                   & 41920.79                             & 187.95                               & Proactive bandwidth-monitored policy & West Steven                          & 0                                    & Guatemala                            & 2016-03-24 02:35:54                  & 0                                   \\\\\n",
       "\t1000 & 45.01                                & 26                                   & 29875.80                             & 178.35                               & Virtual 5thgeneration emulation      & Ronniemouth                          & 0                                    & Brazil                               & 2016-06-03 21:43:21                  & 1                                   \\\\\n",
       "\\end{tabular}\n"
      ],
      "text/markdown": [
       "\n",
       "| <!--/--> | Daily.Time.Spent.on.Site | Age | Area.Income | Daily.Internet.Usage | Ad.Topic.Line | City | Male | Country | Timestamp | Clicked.on.Ad |\n",
       "|---|---|---|---|---|---|---|---|---|---|---|\n",
       "| 995 | 43.70                                | 28                                   | 63126.96                             | 173.01                               | Front-line bifurcated ability        | Nicholasland                         | 0                                    | Mayotte                              | 2016-04-04 03:57:48                  | 1                                    |\n",
       "| 996 | 72.97                                | 30                                   | 71384.57                             | 208.58                               | Fundamental modular algorithm        | Duffystad                            | 1                                    | Lebanon                              | 2016-02-11 21:49:00                  | 1                                    |\n",
       "| 997 | 51.30                                | 45                                   | 67782.17                             | 134.42                               | Grass-roots cohesive monitoring      | New Darlene                          | 1                                    | Bosnia and Herzegovina               | 2016-04-22 02:07:01                  | 1                                    |\n",
       "| 998 | 51.63                                | 51                                   | 42415.72                             | 120.37                               | Expanded intangible solution         | South Jessica                        | 1                                    | Mongolia                             | 2016-02-01 17:24:57                  | 1                                    |\n",
       "| 999 | 55.55                                | 19                                   | 41920.79                             | 187.95                               | Proactive bandwidth-monitored policy | West Steven                          | 0                                    | Guatemala                            | 2016-03-24 02:35:54                  | 0                                    |\n",
       "| 1000 | 45.01                                | 26                                   | 29875.80                             | 178.35                               | Virtual 5thgeneration emulation      | Ronniemouth                          | 0                                    | Brazil                               | 2016-06-03 21:43:21                  | 1                                    |\n",
       "\n"
      ],
      "text/plain": [
       "     Daily.Time.Spent.on.Site Age Area.Income Daily.Internet.Usage\n",
       "995  43.70                    28  63126.96    173.01              \n",
       "996  72.97                    30  71384.57    208.58              \n",
       "997  51.30                    45  67782.17    134.42              \n",
       "998  51.63                    51  42415.72    120.37              \n",
       "999  55.55                    19  41920.79    187.95              \n",
       "1000 45.01                    26  29875.80    178.35              \n",
       "     Ad.Topic.Line                        City          Male\n",
       "995  Front-line bifurcated ability        Nicholasland  0   \n",
       "996  Fundamental modular algorithm        Duffystad     1   \n",
       "997  Grass-roots cohesive monitoring      New Darlene   1   \n",
       "998  Expanded intangible solution         South Jessica 1   \n",
       "999  Proactive bandwidth-monitored policy West Steven   0   \n",
       "1000 Virtual 5thgeneration emulation      Ronniemouth   0   \n",
       "     Country                Timestamp           Clicked.on.Ad\n",
       "995  Mayotte                2016-04-04 03:57:48 1            \n",
       "996  Lebanon                2016-02-11 21:49:00 1            \n",
       "997  Bosnia and Herzegovina 2016-04-22 02:07:01 1            \n",
       "998  Mongolia               2016-02-01 17:24:57 1            \n",
       "999  Guatemala              2016-03-24 02:35:54 0            \n",
       "1000 Brazil                 2016-06-03 21:43:21 1            "
      ]
     },
     "metadata": {},
     "output_type": "display_data"
    }
   ],
   "source": [
    "tail(advert)"
   ]
  },
  {
   "cell_type": "markdown",
   "metadata": {},
   "source": [
    " # 3.Check the data\n",
    "\n"
   ]
  },
  {
   "cell_type": "markdown",
   "metadata": {},
   "source": [
    "### We will run a few R codes to get summaries about the advertising data."
   ]
  },
  {
   "cell_type": "code",
   "execution_count": 8,
   "metadata": {},
   "outputs": [
    {
     "data": {
      "text/plain": [
       " Daily.Time.Spent.on.Site      Age         Area.Income    Daily.Internet.Usage\n",
       " Min.   :32.60            Min.   :19.00   Min.   :13996   Min.   :104.8       \n",
       " 1st Qu.:51.36            1st Qu.:29.00   1st Qu.:47032   1st Qu.:138.8       \n",
       " Median :68.22            Median :35.00   Median :57012   Median :183.1       \n",
       " Mean   :65.00            Mean   :36.01   Mean   :55000   Mean   :180.0       \n",
       " 3rd Qu.:78.55            3rd Qu.:42.00   3rd Qu.:65471   3rd Qu.:218.8       \n",
       " Max.   :91.43            Max.   :61.00   Max.   :79485   Max.   :270.0       \n",
       "                                                                              \n",
       "                                 Ad.Topic.Line              City    \n",
       " Adaptive 24hour Graphic Interface      :  1   Lisamouth      :  3  \n",
       " Adaptive asynchronous attitude         :  1   Williamsport   :  3  \n",
       " Adaptive context-sensitive application :  1   Benjaminchester:  2  \n",
       " Adaptive contextually-based methodology:  1   East John      :  2  \n",
       " Adaptive demand-driven knowledgebase   :  1   East Timothy   :  2  \n",
       " Adaptive uniform capability            :  1   Johnstad       :  2  \n",
       " (Other)                                :994   (Other)        :986  \n",
       "      Male                 Country                  Timestamp   Clicked.on.Ad\n",
       " Min.   :0.000   Czech Republic:  9   2016-01-01 02:52:10:  1   Min.   :0.0  \n",
       " 1st Qu.:0.000   France        :  9   2016-01-01 03:35:35:  1   1st Qu.:0.0  \n",
       " Median :0.000   Afghanistan   :  8   2016-01-01 05:31:22:  1   Median :0.5  \n",
       " Mean   :0.481   Australia     :  8   2016-01-01 08:27:06:  1   Mean   :0.5  \n",
       " 3rd Qu.:1.000   Cyprus        :  8   2016-01-01 15:14:24:  1   3rd Qu.:1.0  \n",
       " Max.   :1.000   Greece        :  8   2016-01-01 20:17:49:  1   Max.   :1.0  \n",
       "                 (Other)       :950   (Other)            :994                "
      ]
     },
     "metadata": {},
     "output_type": "display_data"
    }
   ],
   "source": [
    "#i).view the advertise data\n",
    "summary(advert)"
   ]
  },
  {
   "cell_type": "markdown",
   "metadata": {},
   "source": [
    "### We realise these summaries are not well arranged hence we will do for each variable"
   ]
  },
  {
   "cell_type": "code",
   "execution_count": 16,
   "metadata": {},
   "outputs": [],
   "source": [
    "#Giving variables simple variable names\n",
    "time <- advert$`Daily Time Spent on Site`\n",
    "age <-  advert$Age\n",
    "area_income <- advert$`Area Income`\n",
    "daily_internet <-advert$`Daily Internet Usage`\n",
    "click <- advert$`Clicked on Ad`\n",
    "country <-advert$Country\n",
    "male <- advert$Male\n",
    "city <- advert$City\n",
    "topic <- advert$`Ad Topic Line`\n",
    "timestamp <- advert$Timestamp"
   ]
  },
  {
   "cell_type": "markdown",
   "metadata": {},
   "source": [
    "#### Now we can check summaries of the specific Data variables of the advertising data"
   ]
  },
  {
   "cell_type": "code",
   "execution_count": 22,
   "metadata": {},
   "outputs": [
    {
     "data": {
      "text/plain": [
       "Length  Class   Mode \n",
       "     0   NULL   NULL "
      ]
     },
     "metadata": {},
     "output_type": "display_data"
    }
   ],
   "source": [
    "\n",
    "#Summary Time\n",
    "summary(time)\n"
   ]
  },
  {
   "cell_type": "code",
   "execution_count": 23,
   "metadata": {},
   "outputs": [
    {
     "data": {
      "text/plain": [
       "   Min. 1st Qu.  Median    Mean 3rd Qu.    Max. \n",
       "  19.00   29.00   35.00   36.01   42.00   61.00 "
      ]
     },
     "metadata": {},
     "output_type": "display_data"
    }
   ],
   "source": [
    "#Summary Age\n",
    "summary(age)\n"
   ]
  },
  {
   "cell_type": "code",
   "execution_count": 24,
   "metadata": {},
   "outputs": [
    {
     "data": {
      "text/plain": [
       "Length  Class   Mode \n",
       "     0   NULL   NULL "
      ]
     },
     "metadata": {},
     "output_type": "display_data"
    }
   ],
   "source": [
    "#Summary Area Income\n",
    "summary(area_income)\n"
   ]
  },
  {
   "cell_type": "code",
   "execution_count": 20,
   "metadata": {},
   "outputs": [
    {
     "data": {
      "text/plain": [
       "Length  Class   Mode \n",
       "     0   NULL   NULL "
      ]
     },
     "metadata": {},
     "output_type": "display_data"
    }
   ],
   "source": [
    "#Summary Daily internet\n",
    "summary(daily_internet)\n"
   ]
  },
  {
   "cell_type": "code",
   "execution_count": 21,
   "metadata": {},
   "outputs": [
    {
     "data": {
      "text/plain": [
       "Length  Class   Mode \n",
       "     0   NULL   NULL "
      ]
     },
     "metadata": {},
     "output_type": "display_data"
    }
   ],
   "source": [
    "# Summary Click\n",
    "summary(click)"
   ]
  },
  {
   "cell_type": "code",
   "execution_count": 9,
   "metadata": {},
   "outputs": [
    {
     "name": "stdout",
     "output_type": "stream",
     "text": [
      "'data.frame':\t1000 obs. of  10 variables:\n",
      " $ Daily.Time.Spent.on.Site: num  69 80.2 69.5 74.2 68.4 ...\n",
      " $ Age                     : int  35 31 26 29 35 23 33 48 30 20 ...\n",
      " $ Area.Income             : num  61834 68442 59786 54806 73890 ...\n",
      " $ Daily.Internet.Usage    : num  256 194 236 246 226 ...\n",
      " $ Ad.Topic.Line           : Factor w/ 1000 levels \"Adaptive 24hour Graphic Interface\",..: 92 465 567 904 767 806 223 724 108 455 ...\n",
      " $ City                    : Factor w/ 969 levels \"Adamsbury\",\"Adamside\",..: 962 904 112 940 806 283 47 672 885 713 ...\n",
      " $ Male                    : int  0 1 0 1 0 1 0 1 1 1 ...\n",
      " $ Country                 : Factor w/ 237 levels \"Afghanistan\",..: 216 148 185 104 97 159 146 13 83 79 ...\n",
      " $ Timestamp               : Factor w/ 1000 levels \"2016-01-01 02:52:10\",..: 440 475 368 57 768 690 131 334 549 942 ...\n",
      " $ Clicked.on.Ad           : int  0 0 0 0 0 0 0 1 0 0 ...\n"
     ]
    }
   ],
   "source": [
    "#ii).view the information and data types of the data\n",
    "str(advert)"
   ]
  },
  {
   "cell_type": "code",
   "execution_count": 10,
   "metadata": {},
   "outputs": [
    {
     "data": {
      "text/html": [
       "<ol class=list-inline>\n",
       "\t<li>1000</li>\n",
       "\t<li>10</li>\n",
       "</ol>\n"
      ],
      "text/latex": [
       "\\begin{enumerate*}\n",
       "\\item 1000\n",
       "\\item 10\n",
       "\\end{enumerate*}\n"
      ],
      "text/markdown": [
       "1. 1000\n",
       "2. 10\n",
       "\n",
       "\n"
      ],
      "text/plain": [
       "[1] 1000   10"
      ]
     },
     "metadata": {},
     "output_type": "display_data"
    }
   ],
   "source": [
    "#iii).check the dimension of the data   (data shape)\n",
    "dim(advert)"
   ]
  },
  {
   "cell_type": "markdown",
   "metadata": {},
   "source": [
    "##### We can observe that the data is 1000 rows and 10 columns"
   ]
  },
  {
   "cell_type": "code",
   "execution_count": 25,
   "metadata": {},
   "outputs": [
    {
     "data": {
      "text/html": [
       "'data.frame'"
      ],
      "text/latex": [
       "'data.frame'"
      ],
      "text/markdown": [
       "'data.frame'"
      ],
      "text/plain": [
       "[1] \"data.frame\""
      ]
     },
     "metadata": {},
     "output_type": "display_data"
    }
   ],
   "source": [
    "#iv).Check the class\n",
    "class(advert)"
   ]
  },
  {
   "cell_type": "code",
   "execution_count": 37,
   "metadata": {},
   "outputs": [
    {
     "data": {
      "text/html": [
       "1000"
      ],
      "text/latex": [
       "1000"
      ],
      "text/markdown": [
       "1000"
      ],
      "text/plain": [
       "[1] 1000"
      ]
     },
     "metadata": {},
     "output_type": "display_data"
    }
   ],
   "source": [
    "#The rows\n",
    "nrow(advert)"
   ]
  },
  {
   "cell_type": "code",
   "execution_count": 36,
   "metadata": {},
   "outputs": [
    {
     "data": {
      "text/plain": [
       "NULL"
      ]
     },
     "metadata": {},
     "output_type": "display_data"
    }
   ],
   "source": [
    "#Check the levels in Categorical Variables(Factors)\n",
    "\n",
    "levels(male)"
   ]
  },
  {
   "cell_type": "code",
   "execution_count": 38,
   "metadata": {},
   "outputs": [
    {
     "data": {
      "text/plain": [
       "NULL"
      ]
     },
     "metadata": {},
     "output_type": "display_data"
    }
   ],
   "source": [
    "#we need to change the Feature column into a categorical one\n",
    "#First we will check the levels\n",
    "levels(advert$`Clicked on Ad`)"
   ]
  },
  {
   "cell_type": "code",
   "execution_count": 41,
   "metadata": {},
   "outputs": [
    {
     "ename": "ERROR",
     "evalue": "Error in `$<-.data.frame`(`*tmp*`, \"Clicked on Ad\", value = structure(integer(0), .Label = character(0), class = \"factor\")): replacement has 0 rows, data has 1000\n",
     "output_type": "error",
     "traceback": [
      "Error in `$<-.data.frame`(`*tmp*`, \"Clicked on Ad\", value = structure(integer(0), .Label = character(0), class = \"factor\")): replacement has 0 rows, data has 1000\nTraceback:\n",
      "1. `$<-`(`*tmp*`, \"Clicked on Ad\", value = structure(integer(0), .Label = character(0), class = \"factor\"))",
      "2. `$<-.data.frame`(`*tmp*`, \"Clicked on Ad\", value = structure(integer(0), .Label = character(0), class = \"factor\"))",
      "3. stop(sprintf(ngettext(N, \"replacement has %d row, data has %d\", \n .     \"replacement has %d rows, data has %d\"), N, nrows), domain = NA)"
     ]
    }
   ],
   "source": [
    "#The results show that it is only 2 Levels \"o\" and \"1\".\n",
    "#Now lets change the data types of categorical variables.\n",
    "\n",
    "advert$`Clicked on Ad` <- as.factor(advert$`Clicked on Ad`)\n"
   ]
  },
  {
   "cell_type": "code",
   "execution_count": 42,
   "metadata": {},
   "outputs": [
    {
     "name": "stdout",
     "output_type": "stream",
     "text": [
      "'data.frame':\t1000 obs. of  10 variables:\n",
      " $ Daily.Time.Spent.on.Site: num  69 80.2 69.5 74.2 68.4 ...\n",
      " $ Age                     : int  35 31 26 29 35 23 33 48 30 20 ...\n",
      " $ Area.Income             : num  61834 68442 59786 54806 73890 ...\n",
      " $ Daily.Internet.Usage    : num  256 194 236 246 226 ...\n",
      " $ Ad.Topic.Line           : Factor w/ 1000 levels \"Adaptive 24hour Graphic Interface\",..: 92 465 567 904 767 806 223 724 108 455 ...\n",
      " $ City                    : Factor w/ 969 levels \"Adamsbury\",\"Adamside\",..: 962 904 112 940 806 283 47 672 885 713 ...\n",
      " $ Male                    : Factor w/ 2 levels \"0\",\"1\": 1 2 1 2 1 2 1 2 2 2 ...\n",
      " $ Country                 : Factor w/ 237 levels \"Afghanistan\",..: 216 148 185 104 97 159 146 13 83 79 ...\n",
      " $ Timestamp               : Factor w/ 1000 levels \"2016-01-01 02:52:10\",..: 440 475 368 57 768 690 131 334 549 942 ...\n",
      " $ Clicked.on.Ad           : int  0 0 0 0 0 0 0 1 0 0 ...\n"
     ]
    }
   ],
   "source": [
    "advert$Male <- as.factor(advert$Male)\n",
    "#Lets inspect the data type again \n",
    "str(advert)"
   ]
  },
  {
   "cell_type": "code",
   "execution_count": 45,
   "metadata": {},
   "outputs": [
    {
     "name": "stderr",
     "output_type": "stream",
     "text": [
      "also installing the dependencies 'glue', 'rlang', 'tibble', 'dplyr', 'tidyselect'\n",
      "\n"
     ]
    },
    {
     "name": "stdout",
     "output_type": "stream",
     "text": [
      "\n",
      "  There are binary versions available but the source versions are later:\n",
      "       binary source needs_compilation\n",
      "rlang   0.4.6  0.4.7              TRUE\n",
      "tibble  3.0.2  3.0.3              TRUE\n",
      "\n",
      "  Binaries will be installed\n",
      "package 'glue' successfully unpacked and MD5 sums checked\n"
     ]
    },
    {
     "name": "stderr",
     "output_type": "stream",
     "text": [
      "Warning message:\n",
      "\"cannot remove prior installation of package 'glue'\"Warning message in file.copy(savedcopy, lib, recursive = TRUE):\n",
      "\"problem copying C:\\Users\\Derrick Kuria\\anaconda3\\Lib\\R\\library\\00LOCK\\glue\\libs\\x64\\glue.dll to C:\\Users\\Derrick Kuria\\anaconda3\\Lib\\R\\library\\glue\\libs\\x64\\glue.dll: Permission denied\"Warning message:\n",
      "\"restored 'glue'\""
     ]
    },
    {
     "name": "stdout",
     "output_type": "stream",
     "text": [
      "package 'rlang' successfully unpacked and MD5 sums checked\n"
     ]
    },
    {
     "name": "stderr",
     "output_type": "stream",
     "text": [
      "Warning message:\n",
      "\"cannot remove prior installation of package 'rlang'\"Warning message in file.copy(savedcopy, lib, recursive = TRUE):\n",
      "\"problem copying C:\\Users\\Derrick Kuria\\anaconda3\\Lib\\R\\library\\00LOCK\\rlang\\libs\\x64\\rlang.dll to C:\\Users\\Derrick Kuria\\anaconda3\\Lib\\R\\library\\rlang\\libs\\x64\\rlang.dll: Permission denied\"Warning message:\n",
      "\"restored 'rlang'\""
     ]
    },
    {
     "name": "stdout",
     "output_type": "stream",
     "text": [
      "package 'tibble' successfully unpacked and MD5 sums checked\n"
     ]
    },
    {
     "name": "stderr",
     "output_type": "stream",
     "text": [
      "Warning message:\n",
      "\"cannot remove prior installation of package 'tibble'\"Warning message in file.copy(savedcopy, lib, recursive = TRUE):\n",
      "\"problem copying C:\\Users\\Derrick Kuria\\anaconda3\\Lib\\R\\library\\00LOCK\\tibble\\libs\\x64\\tibble.dll to C:\\Users\\Derrick Kuria\\anaconda3\\Lib\\R\\library\\tibble\\libs\\x64\\tibble.dll: Permission denied\"Warning message:\n",
      "\"restored 'tibble'\""
     ]
    },
    {
     "name": "stdout",
     "output_type": "stream",
     "text": [
      "package 'dplyr' successfully unpacked and MD5 sums checked\n"
     ]
    },
    {
     "name": "stderr",
     "output_type": "stream",
     "text": [
      "Warning message:\n",
      "\"cannot remove prior installation of package 'dplyr'\"Warning message in file.copy(savedcopy, lib, recursive = TRUE):\n",
      "\"problem copying C:\\Users\\Derrick Kuria\\anaconda3\\Lib\\R\\library\\00LOCK\\dplyr\\libs\\x64\\dplyr.dll to C:\\Users\\Derrick Kuria\\anaconda3\\Lib\\R\\library\\dplyr\\libs\\x64\\dplyr.dll: Permission denied\"Warning message:\n",
      "\"restored 'dplyr'\""
     ]
    },
    {
     "name": "stdout",
     "output_type": "stream",
     "text": [
      "package 'tidyselect' successfully unpacked and MD5 sums checked\n"
     ]
    },
    {
     "name": "stderr",
     "output_type": "stream",
     "text": [
      "Warning message:\n",
      "\"cannot remove prior installation of package 'tidyselect'\"Warning message in file.copy(savedcopy, lib, recursive = TRUE):\n",
      "\"problem copying C:\\Users\\Derrick Kuria\\anaconda3\\Lib\\R\\library\\00LOCK\\tidyselect\\libs\\x64\\tidyselect.dll to C:\\Users\\Derrick Kuria\\anaconda3\\Lib\\R\\library\\tidyselect\\libs\\x64\\tidyselect.dll: Permission denied\"Warning message:\n",
      "\"restored 'tidyselect'\""
     ]
    },
    {
     "name": "stdout",
     "output_type": "stream",
     "text": [
      "package 'tidyr' successfully unpacked and MD5 sums checked\n"
     ]
    },
    {
     "name": "stderr",
     "output_type": "stream",
     "text": [
      "Warning message:\n",
      "\"cannot remove prior installation of package 'tidyr'\"Warning message in file.copy(savedcopy, lib, recursive = TRUE):\n",
      "\"problem copying C:\\Users\\Derrick Kuria\\anaconda3\\Lib\\R\\library\\00LOCK\\tidyr\\libs\\x64\\tidyr.dll to C:\\Users\\Derrick Kuria\\anaconda3\\Lib\\R\\library\\tidyr\\libs\\x64\\tidyr.dll: Permission denied\"Warning message:\n",
      "\"restored 'tidyr'\""
     ]
    },
    {
     "name": "stdout",
     "output_type": "stream",
     "text": [
      "\n",
      "The downloaded binary packages are in\n",
      "\tC:\\Users\\Derrick Kuria\\AppData\\Local\\Temp\\RtmpMFzGtU\\downloaded_packages\n"
     ]
    },
    {
     "ename": "ERROR",
     "evalue": "Error: package or namespace load failed for 'tidyr' in loadNamespace(i, c(lib.loc, .libPaths()), versionCheck = vI[[i]]):\n namespace 'rlang' 0.3.4 is already loaded, but >= 0.4.0 is required\n",
     "output_type": "error",
     "traceback": [
      "Error: package or namespace load failed for 'tidyr' in loadNamespace(i, c(lib.loc, .libPaths()), versionCheck = vI[[i]]):\n namespace 'rlang' 0.3.4 is already loaded, but >= 0.4.0 is required\nTraceback:\n",
      "1. library(tidyr)",
      "2. tryCatch({\n .     attr(package, \"LibPath\") <- which.lib.loc\n .     ns <- loadNamespace(package, lib.loc)\n .     env <- attachNamespace(ns, pos = pos, deps, exclude, include.only)\n . }, error = function(e) {\n .     P <- if (!is.null(cc <- conditionCall(e))) \n .         paste(\" in\", deparse(cc)[1L])\n .     else \"\"\n .     msg <- gettextf(\"package or namespace load failed for %s%s:\\n %s\", \n .         sQuote(package), P, conditionMessage(e))\n .     if (logical.return) \n .         message(paste(\"Error:\", msg), domain = NA)\n .     else stop(msg, call. = FALSE, domain = NA)\n . })",
      "3. tryCatchList(expr, classes, parentenv, handlers)",
      "4. tryCatchOne(expr, names, parentenv, handlers[[1L]])",
      "5. value[[3L]](cond)",
      "6. stop(msg, call. = FALSE, domain = NA)"
     ]
    }
   ],
   "source": [
    "#We may also split the Timestamp variable into Date and time variables.To effectively do this we will\n",
    "# use the tidyr package to split the columns with our delimiter as the space and rename\n",
    "#the columns as Date and Time. \n",
    "\n",
    "install.packages('tidyr')\n",
    "library(tidyr)\n",
    "\n",
    "advert %>% #pipe operator\n",
    "  separate(Timestamp,c(\"Date\", \"Time\"),\" \")\n"
   ]
  },
  {
   "cell_type": "code",
   "execution_count": 44,
   "metadata": {},
   "outputs": [
    {
     "data": {
      "text/html": [
       "<table>\n",
       "<thead><tr><th scope=col>Daily.Time.Spent.on.Site</th><th scope=col>Age</th><th scope=col>Area.Income</th><th scope=col>Daily.Internet.Usage</th><th scope=col>Ad.Topic.Line</th><th scope=col>City</th><th scope=col>Male</th><th scope=col>Country</th><th scope=col>Timestamp</th><th scope=col>Clicked.on.Ad</th></tr></thead>\n",
       "<tbody>\n",
       "\t<tr><td>68.95                                              </td><td>35                                                 </td><td>61833.90                                           </td><td>256.09                                             </td><td>Cloned 5thgeneration orchestration                 </td><td>Wrightburgh                                        </td><td>0                                                  </td><td>Tunisia                                            </td><td>2016-03-27 00:53:11                                </td><td>0                                                  </td></tr>\n",
       "\t<tr><td>80.23                                              </td><td>31                                                 </td><td>68441.85                                           </td><td>193.77                                             </td><td>Monitored national standardization                 </td><td>West Jodi                                          </td><td>1                                                  </td><td>Nauru                                              </td><td>2016-04-04 01:39:02                                </td><td>0                                                  </td></tr>\n",
       "\t<tr><td>69.47                                              </td><td>26                                                 </td><td>59785.94                                           </td><td>236.50                                             </td><td>Organic bottom-line service-desk                   </td><td>Davidton                                           </td><td>0                                                  </td><td>San Marino                                         </td><td>2016-03-13 20:35:42                                </td><td>0                                                  </td></tr>\n",
       "\t<tr><td>74.15                                              </td><td>29                                                 </td><td>54806.18                                           </td><td>245.89                                             </td><td>Triple-buffered reciprocal time-frame              </td><td>West Terrifurt                                     </td><td>1                                                  </td><td>Italy                                              </td><td>2016-01-10 02:31:19                                </td><td>0                                                  </td></tr>\n",
       "\t<tr><td>68.37                                              </td><td>35                                                 </td><td>73889.99                                           </td><td>225.58                                             </td><td>Robust logistical utilization                      </td><td>South Manuel                                       </td><td>0                                                  </td><td>Iceland                                            </td><td>2016-06-03 03:36:18                                </td><td>0                                                  </td></tr>\n",
       "\t<tr><td>59.99                                              </td><td>23                                                 </td><td>59761.56                                           </td><td>226.74                                             </td><td>Sharable client-driven software                    </td><td>Jamieberg                                          </td><td>1                                                  </td><td>Norway                                             </td><td>2016-05-19 14:30:17                                </td><td>0                                                  </td></tr>\n",
       "\t<tr><td>88.91                                              </td><td>33                                                 </td><td>53852.85                                           </td><td>208.36                                             </td><td>Enhanced dedicated support                         </td><td>Brandonstad                                        </td><td>0                                                  </td><td>Myanmar                                            </td><td>2016-01-28 20:59:32                                </td><td>0                                                  </td></tr>\n",
       "\t<tr><td>66.00                                              </td><td>48                                                 </td><td>24593.33                                           </td><td>131.76                                             </td><td>Reactive local challenge                           </td><td>Port Jefferybury                                   </td><td>1                                                  </td><td>Australia                                          </td><td>2016-03-07 01:40:15                                </td><td>1                                                  </td></tr>\n",
       "\t<tr><td>74.53                                              </td><td>30                                                 </td><td>68862.00                                           </td><td>221.51                                             </td><td>Configurable coherent function                     </td><td>West Colin                                         </td><td>1                                                  </td><td>Grenada                                            </td><td>2016-04-18 09:33:42                                </td><td>0                                                  </td></tr>\n",
       "\t<tr><td>69.88                                              </td><td>20                                                 </td><td>55642.32                                           </td><td>183.82                                             </td><td>Mandatory homogeneous architecture                 </td><td>Ramirezton                                         </td><td>1                                                  </td><td>Ghana                                              </td><td>2016-07-11 01:42:51                                </td><td>0                                                  </td></tr>\n",
       "\t<tr><td>47.64                                              </td><td>49                                                 </td><td>45632.51                                           </td><td>122.02                                             </td><td>Centralized neutral neural-net                     </td><td>West Brandonton                                    </td><td>0                                                  </td><td>Qatar                                              </td><td>2016-03-16 20:19:01                                </td><td>1                                                  </td></tr>\n",
       "\t<tr><td>83.07                                              </td><td>37                                                 </td><td>62491.01                                           </td><td>230.87                                             </td><td>Team-oriented grid-enabled Local Area Network      </td><td>East Theresashire                                  </td><td>1                                                  </td><td>Burundi                                            </td><td>2016-05-08 08:10:10                                </td><td>0                                                  </td></tr>\n",
       "\t<tr><td>69.57                                              </td><td>48                                                 </td><td>51636.92                                           </td><td>113.12                                             </td><td>Centralized content-based focus group              </td><td>West Katiefurt                                     </td><td>1                                                  </td><td>Egypt                                              </td><td>2016-06-03 01:14:41                                </td><td>1                                                  </td></tr>\n",
       "\t<tr><td>79.52                                              </td><td>24                                                 </td><td>51739.63                                           </td><td>214.23                                             </td><td>Synergistic fresh-thinking array                   </td><td>North Tara                                         </td><td>0                                                  </td><td>Bosnia and Herzegovina                             </td><td>2016-04-20 21:49:22                                </td><td>0                                                  </td></tr>\n",
       "\t<tr><td>42.95                                              </td><td>33                                                 </td><td>30976.00                                           </td><td>143.56                                             </td><td>Grass-roots coherent extranet                      </td><td>West William                                       </td><td>0                                                  </td><td>Barbados                                           </td><td>2016-03-24 09:31:49                                </td><td>1                                                  </td></tr>\n",
       "\t<tr><td>63.45                                              </td><td>23                                                 </td><td>52182.23                                           </td><td>140.64                                             </td><td>Persistent demand-driven interface                 </td><td>New Travistown                                     </td><td>1                                                  </td><td>Spain                                              </td><td>2016-03-09 03:41:30                                </td><td>1                                                  </td></tr>\n",
       "\t<tr><td>55.39                                              </td><td>37                                                 </td><td>23936.86                                           </td><td>129.41                                             </td><td>Customizable multi-tasking website                 </td><td>West Dylanberg                                     </td><td>0                                                  </td><td>Palestinian Territory                              </td><td>2016-01-30 19:20:41                                </td><td>1                                                  </td></tr>\n",
       "\t<tr><td>82.03                                              </td><td>41                                                 </td><td>71511.08                                           </td><td>187.53                                             </td><td>Intuitive dynamic attitude                         </td><td>Pruittmouth                                        </td><td>0                                                  </td><td>Afghanistan                                        </td><td>2016-05-02 07:00:58                                </td><td>0                                                  </td></tr>\n",
       "\t<tr><td>54.70                                              </td><td>36                                                 </td><td>31087.54                                           </td><td>118.39                                             </td><td>Grass-roots solution-oriented conglomeration       </td><td>Jessicastad                                        </td><td>1                                                  </td><td>British Indian Ocean Territory (Chagos Archipelago)</td><td>2016-02-13 07:53:55                                </td><td>1                                                  </td></tr>\n",
       "\t<tr><td>74.58                                              </td><td>40                                                 </td><td>23821.72                                           </td><td>135.51                                             </td><td>Advanced 24/7 productivity                         </td><td>Millertown                                         </td><td>1                                                  </td><td>Russian Federation                                 </td><td>2016-02-27 04:43:07                                </td><td>1                                                  </td></tr>\n",
       "\t<tr><td>77.22                                              </td><td>30                                                 </td><td>64802.33                                           </td><td>224.44                                             </td><td>Object-based reciprocal knowledgebase              </td><td>Port Jacqueline                                    </td><td>1                                                  </td><td>Cameroon                                           </td><td>2016-01-05 07:52:48                                </td><td>0                                                  </td></tr>\n",
       "\t<tr><td>84.59                                              </td><td>35                                                 </td><td>60015.57                                           </td><td>226.54                                             </td><td>Streamlined non-volatile analyzer                  </td><td>Lake Nicole                                        </td><td>1                                                  </td><td>Cameroon                                           </td><td>2016-03-18 13:22:35                                </td><td>0                                                  </td></tr>\n",
       "\t<tr><td>41.49                                              </td><td>52                                                 </td><td>32635.70                                           </td><td>164.83                                             </td><td>Mandatory disintermediate utilization              </td><td>South John                                         </td><td>0                                                  </td><td>Burundi                                            </td><td>2016-05-20 08:49:33                                </td><td>1                                                  </td></tr>\n",
       "\t<tr><td>87.29                                              </td><td>36                                                 </td><td>61628.72                                           </td><td>209.93                                             </td><td>Future-proofed methodical protocol                 </td><td>Pamelamouth                                        </td><td>1                                                  </td><td>Korea                                              </td><td>2016-03-23 09:43:43                                </td><td>0                                                  </td></tr>\n",
       "\t<tr><td>41.39                                              </td><td>41                                                 </td><td>68962.32                                           </td><td>167.22                                             </td><td>Exclusive neutral parallelism                      </td><td>Harperborough                                      </td><td>0                                                  </td><td>Tokelau                                            </td><td>2016-06-13 17:27:09                                </td><td>1                                                  </td></tr>\n",
       "\t<tr><td>78.74                                              </td><td>28                                                 </td><td>64828.00                                           </td><td>204.79                                             </td><td>Public-key foreground groupware                    </td><td>Port Danielleberg                                  </td><td>1                                                  </td><td>Monaco                                             </td><td>2016-05-27 15:25:52                                </td><td>0                                                  </td></tr>\n",
       "\t<tr><td>48.53                                              </td><td>28                                                 </td><td>38067.08                                           </td><td>134.14                                             </td><td>Ameliorated client-driven forecast                 </td><td>West Jeremyside                                    </td><td>1                                                  </td><td>Tuvalu                                             </td><td>2016-02-08 10:46:14                                </td><td>1                                                  </td></tr>\n",
       "\t<tr><td>51.95                                              </td><td>52                                                 </td><td>58295.82                                           </td><td>129.23                                             </td><td>Monitored systematic hierarchy                     </td><td>South Cathyfurt                                    </td><td>0                                                  </td><td>Greece                                             </td><td>2016-07-19 08:32:10                                </td><td>1                                                  </td></tr>\n",
       "\t<tr><td>70.20                                              </td><td>34                                                 </td><td>32708.94                                           </td><td>119.20                                             </td><td>Open-architected impactful productivity            </td><td>Palmerside                                         </td><td>0                                                  </td><td>British Virgin Islands                             </td><td>2016-04-14 05:08:35                                </td><td>1                                                  </td></tr>\n",
       "\t<tr><td>76.02                                              </td><td>22                                                 </td><td>46179.97                                           </td><td>209.82                                             </td><td>Business-focused value-added definition            </td><td>West Guybury                                       </td><td>0                                                  </td><td>Bouvet Island (Bouvetoya)                          </td><td>2016-01-27 12:38:16                                </td><td>0                                                  </td></tr>\n",
       "\t<tr><td>...</td><td>...</td><td>...</td><td>...</td><td>...</td><td>...</td><td>...</td><td>...</td><td>...</td><td>...</td></tr>\n",
       "\t<tr><td>40.18                                  </td><td>29                                     </td><td>50760.23                               </td><td>151.96                                 </td><td>Enhanced intangible portal             </td><td>Lake Tracy                             </td><td>0                                      </td><td>Hong Kong                              </td><td>2016-06-25 04:21:33                    </td><td>1                                      </td></tr>\n",
       "\t<tr><td>45.17                                  </td><td>48                                     </td><td>34418.09                               </td><td>132.07                                 </td><td>Down-sized background groupware        </td><td>Taylormouth                            </td><td>1                                      </td><td>Palau                                  </td><td>2016-01-27 14:41:10                    </td><td>1                                      </td></tr>\n",
       "\t<tr><td>50.48                                  </td><td>50                                     </td><td>20592.99                               </td><td>162.43                                 </td><td>Switchable real-time product           </td><td>Dianaville                             </td><td>0                                      </td><td>Malawi                                 </td><td>2016-05-16 18:51:59                    </td><td>1                                      </td></tr>\n",
       "\t<tr><td>80.87                                  </td><td>28                                     </td><td>63528.80                               </td><td>203.30                                 </td><td>Ameliorated local workforce            </td><td>Collinsburgh                           </td><td>0                                      </td><td>Uruguay                                </td><td>2016-02-27 20:20:25                    </td><td>0                                      </td></tr>\n",
       "\t<tr><td>41.88                                  </td><td>40                                     </td><td>44217.68                               </td><td>126.11                                 </td><td>Streamlined exuding adapter            </td><td>Port Rachel                            </td><td>1                                      </td><td>Cyprus                                 </td><td>2016-02-28 23:54:44                    </td><td>1                                      </td></tr>\n",
       "\t<tr><td>39.87                                  </td><td>48                                     </td><td>47929.83                               </td><td>139.34                                 </td><td>Business-focused user-facing benchmark </td><td>South Rebecca                          </td><td>1                                      </td><td>Mexico                                 </td><td>2016-06-13 06:11:33                    </td><td>1                                      </td></tr>\n",
       "\t<tr><td>61.84                                  </td><td>45                                     </td><td>46024.29                               </td><td>105.63                                 </td><td>Reactive bi-directional standardization</td><td>Port Joshuafort                        </td><td>1                                      </td><td>Niger                                  </td><td>2016-05-05 11:07:13                    </td><td>1                                      </td></tr>\n",
       "\t<tr><td>54.97                                  </td><td>31                                     </td><td>51900.03                               </td><td>116.38                                 </td><td>Virtual bifurcated portal              </td><td>Robinsontown                           </td><td>1                                      </td><td>France                                 </td><td>2016-07-07 12:17:33                    </td><td>1                                      </td></tr>\n",
       "\t<tr><td>71.40                                  </td><td>30                                     </td><td>72188.90                               </td><td>166.31                                 </td><td>Integrated 3rdgeneration monitoring    </td><td>Beckton                                </td><td>0                                      </td><td>Japan                                  </td><td>2016-05-24 17:07:08                    </td><td>0                                      </td></tr>\n",
       "\t<tr><td>70.29                                  </td><td>31                                     </td><td>56974.51                               </td><td>254.65                                 </td><td>Balanced responsive open system        </td><td>New Frankshire                         </td><td>1                                      </td><td>Norfolk Island                         </td><td>2016-03-30 14:36:55                    </td><td>0                                      </td></tr>\n",
       "\t<tr><td>67.26                                  </td><td>57                                     </td><td>25682.65                               </td><td>168.41                                 </td><td>Focused incremental Graphic Interface  </td><td>North Derekville                       </td><td>1                                      </td><td>Bulgaria                               </td><td>2016-05-27 05:54:03                    </td><td>1                                      </td></tr>\n",
       "\t<tr><td>76.58                                  </td><td>46                                     </td><td>41884.64                               </td><td>258.26                                 </td><td>Secured 24hour policy                  </td><td>West Sydney                            </td><td>0                                      </td><td>Uzbekistan                             </td><td>2016-01-03 16:30:51                    </td><td>0                                      </td></tr>\n",
       "\t<tr><td>54.37                                  </td><td>38                                     </td><td>72196.29                               </td><td>140.77                                 </td><td>Up-sized asymmetric firmware           </td><td>Lake Matthew                           </td><td>0                                      </td><td>Mexico                                 </td><td>2016-06-25 18:17:53                    </td><td>1                                      </td></tr>\n",
       "\t<tr><td>82.79                                  </td><td>32                                     </td><td>54429.17                               </td><td>234.81                                 </td><td>Distributed fault-tolerant service-desk</td><td>Lake Zacharyfurt                       </td><td>1                                      </td><td>Brunei Darussalam                      </td><td>2016-02-24 10:36:43                    </td><td>0                                      </td></tr>\n",
       "\t<tr><td>66.47                                  </td><td>31                                     </td><td>58037.66                               </td><td>256.39                                 </td><td>Vision-oriented human-resource synergy </td><td>Lindsaymouth                           </td><td>1                                      </td><td>France                                 </td><td>2016-03-03 03:13:48                    </td><td>0                                      </td></tr>\n",
       "\t<tr><td>72.88                                  </td><td>44                                     </td><td>64011.26                               </td><td>125.12                                 </td><td>Customer-focused explicit challenge    </td><td>Sarahland                              </td><td>0                                      </td><td>Yemen                                  </td><td>2016-04-21 19:56:24                    </td><td>1                                      </td></tr>\n",
       "\t<tr><td>76.44                                  </td><td>28                                     </td><td>59967.19                               </td><td>232.68                                 </td><td>Synchronized human-resource moderator  </td><td>Port Julie                             </td><td>1                                      </td><td>Northern Mariana Islands               </td><td>2016-04-06 17:26:37                    </td><td>0                                      </td></tr>\n",
       "\t<tr><td>63.37                                  </td><td>43                                     </td><td>43155.19                               </td><td>105.04                                 </td><td>Open-architected full-range projection </td><td>Michaelshire                           </td><td>1                                      </td><td>Poland                                 </td><td>2016-03-23 12:53:23                    </td><td>1                                      </td></tr>\n",
       "\t<tr><td>89.71                                  </td><td>48                                     </td><td>51501.38                               </td><td>204.40                                 </td><td>Versatile local forecast               </td><td>Sarafurt                               </td><td>1                                      </td><td>Bahrain                                </td><td>2016-02-17 07:00:38                    </td><td>0                                      </td></tr>\n",
       "\t<tr><td>70.96                                  </td><td>31                                     </td><td>55187.85                               </td><td>256.40                                 </td><td>Ameliorated user-facing help-desk      </td><td>South Denise                           </td><td>0                                      </td><td>Saint Pierre and Miquelon              </td><td>2016-06-26 07:01:47                    </td><td>0                                      </td></tr>\n",
       "\t<tr><td>35.79                                  </td><td>44                                     </td><td>33813.08                               </td><td>165.62                                 </td><td>Enterprise-wide tangible model         </td><td>North Katie                            </td><td>1                                      </td><td>Tonga                                  </td><td>2016-04-20 13:36:42                    </td><td>1                                      </td></tr>\n",
       "\t<tr><td>38.96                                  </td><td>38                                     </td><td>36497.22                               </td><td>140.67                                 </td><td>Versatile mission-critical application </td><td>Mauricefurt                            </td><td>1                                      </td><td>Comoros                                </td><td>2016-07-21 16:02:40                    </td><td>1                                      </td></tr>\n",
       "\t<tr><td>69.17                                  </td><td>40                                     </td><td>66193.81                               </td><td>123.62                                 </td><td>Extended leadingedge solution          </td><td>New Patrick                            </td><td>0                                      </td><td>Montenegro                             </td><td>2016-03-06 11:36:06                    </td><td>1                                      </td></tr>\n",
       "\t<tr><td>64.20                                  </td><td>27                                     </td><td>66200.96                               </td><td>227.63                                 </td><td>Phased zero tolerance extranet         </td><td>Edwardsmouth                           </td><td>1                                      </td><td>Isle of Man                            </td><td>2016-02-11 23:45:01                    </td><td>0                                      </td></tr>\n",
       "\t<tr><td>43.70                                  </td><td>28                                     </td><td>63126.96                               </td><td>173.01                                 </td><td>Front-line bifurcated ability          </td><td>Nicholasland                           </td><td>0                                      </td><td>Mayotte                                </td><td>2016-04-04 03:57:48                    </td><td>1                                      </td></tr>\n",
       "\t<tr><td>72.97                                  </td><td>30                                     </td><td>71384.57                               </td><td>208.58                                 </td><td>Fundamental modular algorithm          </td><td>Duffystad                              </td><td>1                                      </td><td>Lebanon                                </td><td>2016-02-11 21:49:00                    </td><td>1                                      </td></tr>\n",
       "\t<tr><td>51.30                                  </td><td>45                                     </td><td>67782.17                               </td><td>134.42                                 </td><td>Grass-roots cohesive monitoring        </td><td>New Darlene                            </td><td>1                                      </td><td>Bosnia and Herzegovina                 </td><td>2016-04-22 02:07:01                    </td><td>1                                      </td></tr>\n",
       "\t<tr><td>51.63                                  </td><td>51                                     </td><td>42415.72                               </td><td>120.37                                 </td><td>Expanded intangible solution           </td><td>South Jessica                          </td><td>1                                      </td><td>Mongolia                               </td><td>2016-02-01 17:24:57                    </td><td>1                                      </td></tr>\n",
       "\t<tr><td>55.55                                  </td><td>19                                     </td><td>41920.79                               </td><td>187.95                                 </td><td>Proactive bandwidth-monitored policy   </td><td>West Steven                            </td><td>0                                      </td><td>Guatemala                              </td><td>2016-03-24 02:35:54                    </td><td>0                                      </td></tr>\n",
       "\t<tr><td>45.01                                  </td><td>26                                     </td><td>29875.80                               </td><td>178.35                                 </td><td>Virtual 5thgeneration emulation        </td><td>Ronniemouth                            </td><td>0                                      </td><td>Brazil                                 </td><td>2016-06-03 21:43:21                    </td><td>1                                      </td></tr>\n",
       "</tbody>\n",
       "</table>\n"
      ],
      "text/latex": [
       "\\begin{tabular}{r|llllllllll}\n",
       " Daily.Time.Spent.on.Site & Age & Area.Income & Daily.Internet.Usage & Ad.Topic.Line & City & Male & Country & Timestamp & Clicked.on.Ad\\\\\n",
       "\\hline\n",
       "\t 68.95                                               & 35                                                  & 61833.90                                            & 256.09                                              & Cloned 5thgeneration orchestration                  & Wrightburgh                                         & 0                                                   & Tunisia                                             & 2016-03-27 00:53:11                                 & 0                                                  \\\\\n",
       "\t 80.23                                               & 31                                                  & 68441.85                                            & 193.77                                              & Monitored national standardization                  & West Jodi                                           & 1                                                   & Nauru                                               & 2016-04-04 01:39:02                                 & 0                                                  \\\\\n",
       "\t 69.47                                               & 26                                                  & 59785.94                                            & 236.50                                              & Organic bottom-line service-desk                    & Davidton                                            & 0                                                   & San Marino                                          & 2016-03-13 20:35:42                                 & 0                                                  \\\\\n",
       "\t 74.15                                               & 29                                                  & 54806.18                                            & 245.89                                              & Triple-buffered reciprocal time-frame               & West Terrifurt                                      & 1                                                   & Italy                                               & 2016-01-10 02:31:19                                 & 0                                                  \\\\\n",
       "\t 68.37                                               & 35                                                  & 73889.99                                            & 225.58                                              & Robust logistical utilization                       & South Manuel                                        & 0                                                   & Iceland                                             & 2016-06-03 03:36:18                                 & 0                                                  \\\\\n",
       "\t 59.99                                               & 23                                                  & 59761.56                                            & 226.74                                              & Sharable client-driven software                     & Jamieberg                                           & 1                                                   & Norway                                              & 2016-05-19 14:30:17                                 & 0                                                  \\\\\n",
       "\t 88.91                                               & 33                                                  & 53852.85                                            & 208.36                                              & Enhanced dedicated support                          & Brandonstad                                         & 0                                                   & Myanmar                                             & 2016-01-28 20:59:32                                 & 0                                                  \\\\\n",
       "\t 66.00                                               & 48                                                  & 24593.33                                            & 131.76                                              & Reactive local challenge                            & Port Jefferybury                                    & 1                                                   & Australia                                           & 2016-03-07 01:40:15                                 & 1                                                  \\\\\n",
       "\t 74.53                                               & 30                                                  & 68862.00                                            & 221.51                                              & Configurable coherent function                      & West Colin                                          & 1                                                   & Grenada                                             & 2016-04-18 09:33:42                                 & 0                                                  \\\\\n",
       "\t 69.88                                               & 20                                                  & 55642.32                                            & 183.82                                              & Mandatory homogeneous architecture                  & Ramirezton                                          & 1                                                   & Ghana                                               & 2016-07-11 01:42:51                                 & 0                                                  \\\\\n",
       "\t 47.64                                               & 49                                                  & 45632.51                                            & 122.02                                              & Centralized neutral neural-net                      & West Brandonton                                     & 0                                                   & Qatar                                               & 2016-03-16 20:19:01                                 & 1                                                  \\\\\n",
       "\t 83.07                                               & 37                                                  & 62491.01                                            & 230.87                                              & Team-oriented grid-enabled Local Area Network       & East Theresashire                                   & 1                                                   & Burundi                                             & 2016-05-08 08:10:10                                 & 0                                                  \\\\\n",
       "\t 69.57                                               & 48                                                  & 51636.92                                            & 113.12                                              & Centralized content-based focus group               & West Katiefurt                                      & 1                                                   & Egypt                                               & 2016-06-03 01:14:41                                 & 1                                                  \\\\\n",
       "\t 79.52                                               & 24                                                  & 51739.63                                            & 214.23                                              & Synergistic fresh-thinking array                    & North Tara                                          & 0                                                   & Bosnia and Herzegovina                              & 2016-04-20 21:49:22                                 & 0                                                  \\\\\n",
       "\t 42.95                                               & 33                                                  & 30976.00                                            & 143.56                                              & Grass-roots coherent extranet                       & West William                                        & 0                                                   & Barbados                                            & 2016-03-24 09:31:49                                 & 1                                                  \\\\\n",
       "\t 63.45                                               & 23                                                  & 52182.23                                            & 140.64                                              & Persistent demand-driven interface                  & New Travistown                                      & 1                                                   & Spain                                               & 2016-03-09 03:41:30                                 & 1                                                  \\\\\n",
       "\t 55.39                                               & 37                                                  & 23936.86                                            & 129.41                                              & Customizable multi-tasking website                  & West Dylanberg                                      & 0                                                   & Palestinian Territory                               & 2016-01-30 19:20:41                                 & 1                                                  \\\\\n",
       "\t 82.03                                               & 41                                                  & 71511.08                                            & 187.53                                              & Intuitive dynamic attitude                          & Pruittmouth                                         & 0                                                   & Afghanistan                                         & 2016-05-02 07:00:58                                 & 0                                                  \\\\\n",
       "\t 54.70                                               & 36                                                  & 31087.54                                            & 118.39                                              & Grass-roots solution-oriented conglomeration        & Jessicastad                                         & 1                                                   & British Indian Ocean Territory (Chagos Archipelago) & 2016-02-13 07:53:55                                 & 1                                                  \\\\\n",
       "\t 74.58                                               & 40                                                  & 23821.72                                            & 135.51                                              & Advanced 24/7 productivity                          & Millertown                                          & 1                                                   & Russian Federation                                  & 2016-02-27 04:43:07                                 & 1                                                  \\\\\n",
       "\t 77.22                                               & 30                                                  & 64802.33                                            & 224.44                                              & Object-based reciprocal knowledgebase               & Port Jacqueline                                     & 1                                                   & Cameroon                                            & 2016-01-05 07:52:48                                 & 0                                                  \\\\\n",
       "\t 84.59                                               & 35                                                  & 60015.57                                            & 226.54                                              & Streamlined non-volatile analyzer                   & Lake Nicole                                         & 1                                                   & Cameroon                                            & 2016-03-18 13:22:35                                 & 0                                                  \\\\\n",
       "\t 41.49                                               & 52                                                  & 32635.70                                            & 164.83                                              & Mandatory disintermediate utilization               & South John                                          & 0                                                   & Burundi                                             & 2016-05-20 08:49:33                                 & 1                                                  \\\\\n",
       "\t 87.29                                               & 36                                                  & 61628.72                                            & 209.93                                              & Future-proofed methodical protocol                  & Pamelamouth                                         & 1                                                   & Korea                                               & 2016-03-23 09:43:43                                 & 0                                                  \\\\\n",
       "\t 41.39                                               & 41                                                  & 68962.32                                            & 167.22                                              & Exclusive neutral parallelism                       & Harperborough                                       & 0                                                   & Tokelau                                             & 2016-06-13 17:27:09                                 & 1                                                  \\\\\n",
       "\t 78.74                                               & 28                                                  & 64828.00                                            & 204.79                                              & Public-key foreground groupware                     & Port Danielleberg                                   & 1                                                   & Monaco                                              & 2016-05-27 15:25:52                                 & 0                                                  \\\\\n",
       "\t 48.53                                               & 28                                                  & 38067.08                                            & 134.14                                              & Ameliorated client-driven forecast                  & West Jeremyside                                     & 1                                                   & Tuvalu                                              & 2016-02-08 10:46:14                                 & 1                                                  \\\\\n",
       "\t 51.95                                               & 52                                                  & 58295.82                                            & 129.23                                              & Monitored systematic hierarchy                      & South Cathyfurt                                     & 0                                                   & Greece                                              & 2016-07-19 08:32:10                                 & 1                                                  \\\\\n",
       "\t 70.20                                               & 34                                                  & 32708.94                                            & 119.20                                              & Open-architected impactful productivity             & Palmerside                                          & 0                                                   & British Virgin Islands                              & 2016-04-14 05:08:35                                 & 1                                                  \\\\\n",
       "\t 76.02                                               & 22                                                  & 46179.97                                            & 209.82                                              & Business-focused value-added definition             & West Guybury                                        & 0                                                   & Bouvet Island (Bouvetoya)                           & 2016-01-27 12:38:16                                 & 0                                                  \\\\\n",
       "\t ... & ... & ... & ... & ... & ... & ... & ... & ... & ...\\\\\n",
       "\t 40.18                                   & 29                                      & 50760.23                                & 151.96                                  & Enhanced intangible portal              & Lake Tracy                              & 0                                       & Hong Kong                               & 2016-06-25 04:21:33                     & 1                                      \\\\\n",
       "\t 45.17                                   & 48                                      & 34418.09                                & 132.07                                  & Down-sized background groupware         & Taylormouth                             & 1                                       & Palau                                   & 2016-01-27 14:41:10                     & 1                                      \\\\\n",
       "\t 50.48                                   & 50                                      & 20592.99                                & 162.43                                  & Switchable real-time product            & Dianaville                              & 0                                       & Malawi                                  & 2016-05-16 18:51:59                     & 1                                      \\\\\n",
       "\t 80.87                                   & 28                                      & 63528.80                                & 203.30                                  & Ameliorated local workforce             & Collinsburgh                            & 0                                       & Uruguay                                 & 2016-02-27 20:20:25                     & 0                                      \\\\\n",
       "\t 41.88                                   & 40                                      & 44217.68                                & 126.11                                  & Streamlined exuding adapter             & Port Rachel                             & 1                                       & Cyprus                                  & 2016-02-28 23:54:44                     & 1                                      \\\\\n",
       "\t 39.87                                   & 48                                      & 47929.83                                & 139.34                                  & Business-focused user-facing benchmark  & South Rebecca                           & 1                                       & Mexico                                  & 2016-06-13 06:11:33                     & 1                                      \\\\\n",
       "\t 61.84                                   & 45                                      & 46024.29                                & 105.63                                  & Reactive bi-directional standardization & Port Joshuafort                         & 1                                       & Niger                                   & 2016-05-05 11:07:13                     & 1                                      \\\\\n",
       "\t 54.97                                   & 31                                      & 51900.03                                & 116.38                                  & Virtual bifurcated portal               & Robinsontown                            & 1                                       & France                                  & 2016-07-07 12:17:33                     & 1                                      \\\\\n",
       "\t 71.40                                   & 30                                      & 72188.90                                & 166.31                                  & Integrated 3rdgeneration monitoring     & Beckton                                 & 0                                       & Japan                                   & 2016-05-24 17:07:08                     & 0                                      \\\\\n",
       "\t 70.29                                   & 31                                      & 56974.51                                & 254.65                                  & Balanced responsive open system         & New Frankshire                          & 1                                       & Norfolk Island                          & 2016-03-30 14:36:55                     & 0                                      \\\\\n",
       "\t 67.26                                   & 57                                      & 25682.65                                & 168.41                                  & Focused incremental Graphic Interface   & North Derekville                        & 1                                       & Bulgaria                                & 2016-05-27 05:54:03                     & 1                                      \\\\\n",
       "\t 76.58                                   & 46                                      & 41884.64                                & 258.26                                  & Secured 24hour policy                   & West Sydney                             & 0                                       & Uzbekistan                              & 2016-01-03 16:30:51                     & 0                                      \\\\\n",
       "\t 54.37                                   & 38                                      & 72196.29                                & 140.77                                  & Up-sized asymmetric firmware            & Lake Matthew                            & 0                                       & Mexico                                  & 2016-06-25 18:17:53                     & 1                                      \\\\\n",
       "\t 82.79                                   & 32                                      & 54429.17                                & 234.81                                  & Distributed fault-tolerant service-desk & Lake Zacharyfurt                        & 1                                       & Brunei Darussalam                       & 2016-02-24 10:36:43                     & 0                                      \\\\\n",
       "\t 66.47                                   & 31                                      & 58037.66                                & 256.39                                  & Vision-oriented human-resource synergy  & Lindsaymouth                            & 1                                       & France                                  & 2016-03-03 03:13:48                     & 0                                      \\\\\n",
       "\t 72.88                                   & 44                                      & 64011.26                                & 125.12                                  & Customer-focused explicit challenge     & Sarahland                               & 0                                       & Yemen                                   & 2016-04-21 19:56:24                     & 1                                      \\\\\n",
       "\t 76.44                                   & 28                                      & 59967.19                                & 232.68                                  & Synchronized human-resource moderator   & Port Julie                              & 1                                       & Northern Mariana Islands                & 2016-04-06 17:26:37                     & 0                                      \\\\\n",
       "\t 63.37                                   & 43                                      & 43155.19                                & 105.04                                  & Open-architected full-range projection  & Michaelshire                            & 1                                       & Poland                                  & 2016-03-23 12:53:23                     & 1                                      \\\\\n",
       "\t 89.71                                   & 48                                      & 51501.38                                & 204.40                                  & Versatile local forecast                & Sarafurt                                & 1                                       & Bahrain                                 & 2016-02-17 07:00:38                     & 0                                      \\\\\n",
       "\t 70.96                                   & 31                                      & 55187.85                                & 256.40                                  & Ameliorated user-facing help-desk       & South Denise                            & 0                                       & Saint Pierre and Miquelon               & 2016-06-26 07:01:47                     & 0                                      \\\\\n",
       "\t 35.79                                   & 44                                      & 33813.08                                & 165.62                                  & Enterprise-wide tangible model          & North Katie                             & 1                                       & Tonga                                   & 2016-04-20 13:36:42                     & 1                                      \\\\\n",
       "\t 38.96                                   & 38                                      & 36497.22                                & 140.67                                  & Versatile mission-critical application  & Mauricefurt                             & 1                                       & Comoros                                 & 2016-07-21 16:02:40                     & 1                                      \\\\\n",
       "\t 69.17                                   & 40                                      & 66193.81                                & 123.62                                  & Extended leadingedge solution           & New Patrick                             & 0                                       & Montenegro                              & 2016-03-06 11:36:06                     & 1                                      \\\\\n",
       "\t 64.20                                   & 27                                      & 66200.96                                & 227.63                                  & Phased zero tolerance extranet          & Edwardsmouth                            & 1                                       & Isle of Man                             & 2016-02-11 23:45:01                     & 0                                      \\\\\n",
       "\t 43.70                                   & 28                                      & 63126.96                                & 173.01                                  & Front-line bifurcated ability           & Nicholasland                            & 0                                       & Mayotte                                 & 2016-04-04 03:57:48                     & 1                                      \\\\\n",
       "\t 72.97                                   & 30                                      & 71384.57                                & 208.58                                  & Fundamental modular algorithm           & Duffystad                               & 1                                       & Lebanon                                 & 2016-02-11 21:49:00                     & 1                                      \\\\\n",
       "\t 51.30                                   & 45                                      & 67782.17                                & 134.42                                  & Grass-roots cohesive monitoring         & New Darlene                             & 1                                       & Bosnia and Herzegovina                  & 2016-04-22 02:07:01                     & 1                                      \\\\\n",
       "\t 51.63                                   & 51                                      & 42415.72                                & 120.37                                  & Expanded intangible solution            & South Jessica                           & 1                                       & Mongolia                                & 2016-02-01 17:24:57                     & 1                                      \\\\\n",
       "\t 55.55                                   & 19                                      & 41920.79                                & 187.95                                  & Proactive bandwidth-monitored policy    & West Steven                             & 0                                       & Guatemala                               & 2016-03-24 02:35:54                     & 0                                      \\\\\n",
       "\t 45.01                                   & 26                                      & 29875.80                                & 178.35                                  & Virtual 5thgeneration emulation         & Ronniemouth                             & 0                                       & Brazil                                  & 2016-06-03 21:43:21                     & 1                                      \\\\\n",
       "\\end{tabular}\n"
      ],
      "text/markdown": [
       "\n",
       "| Daily.Time.Spent.on.Site | Age | Area.Income | Daily.Internet.Usage | Ad.Topic.Line | City | Male | Country | Timestamp | Clicked.on.Ad |\n",
       "|---|---|---|---|---|---|---|---|---|---|\n",
       "| 68.95                                               | 35                                                  | 61833.90                                            | 256.09                                              | Cloned 5thgeneration orchestration                  | Wrightburgh                                         | 0                                                   | Tunisia                                             | 2016-03-27 00:53:11                                 | 0                                                   |\n",
       "| 80.23                                               | 31                                                  | 68441.85                                            | 193.77                                              | Monitored national standardization                  | West Jodi                                           | 1                                                   | Nauru                                               | 2016-04-04 01:39:02                                 | 0                                                   |\n",
       "| 69.47                                               | 26                                                  | 59785.94                                            | 236.50                                              | Organic bottom-line service-desk                    | Davidton                                            | 0                                                   | San Marino                                          | 2016-03-13 20:35:42                                 | 0                                                   |\n",
       "| 74.15                                               | 29                                                  | 54806.18                                            | 245.89                                              | Triple-buffered reciprocal time-frame               | West Terrifurt                                      | 1                                                   | Italy                                               | 2016-01-10 02:31:19                                 | 0                                                   |\n",
       "| 68.37                                               | 35                                                  | 73889.99                                            | 225.58                                              | Robust logistical utilization                       | South Manuel                                        | 0                                                   | Iceland                                             | 2016-06-03 03:36:18                                 | 0                                                   |\n",
       "| 59.99                                               | 23                                                  | 59761.56                                            | 226.74                                              | Sharable client-driven software                     | Jamieberg                                           | 1                                                   | Norway                                              | 2016-05-19 14:30:17                                 | 0                                                   |\n",
       "| 88.91                                               | 33                                                  | 53852.85                                            | 208.36                                              | Enhanced dedicated support                          | Brandonstad                                         | 0                                                   | Myanmar                                             | 2016-01-28 20:59:32                                 | 0                                                   |\n",
       "| 66.00                                               | 48                                                  | 24593.33                                            | 131.76                                              | Reactive local challenge                            | Port Jefferybury                                    | 1                                                   | Australia                                           | 2016-03-07 01:40:15                                 | 1                                                   |\n",
       "| 74.53                                               | 30                                                  | 68862.00                                            | 221.51                                              | Configurable coherent function                      | West Colin                                          | 1                                                   | Grenada                                             | 2016-04-18 09:33:42                                 | 0                                                   |\n",
       "| 69.88                                               | 20                                                  | 55642.32                                            | 183.82                                              | Mandatory homogeneous architecture                  | Ramirezton                                          | 1                                                   | Ghana                                               | 2016-07-11 01:42:51                                 | 0                                                   |\n",
       "| 47.64                                               | 49                                                  | 45632.51                                            | 122.02                                              | Centralized neutral neural-net                      | West Brandonton                                     | 0                                                   | Qatar                                               | 2016-03-16 20:19:01                                 | 1                                                   |\n",
       "| 83.07                                               | 37                                                  | 62491.01                                            | 230.87                                              | Team-oriented grid-enabled Local Area Network       | East Theresashire                                   | 1                                                   | Burundi                                             | 2016-05-08 08:10:10                                 | 0                                                   |\n",
       "| 69.57                                               | 48                                                  | 51636.92                                            | 113.12                                              | Centralized content-based focus group               | West Katiefurt                                      | 1                                                   | Egypt                                               | 2016-06-03 01:14:41                                 | 1                                                   |\n",
       "| 79.52                                               | 24                                                  | 51739.63                                            | 214.23                                              | Synergistic fresh-thinking array                    | North Tara                                          | 0                                                   | Bosnia and Herzegovina                              | 2016-04-20 21:49:22                                 | 0                                                   |\n",
       "| 42.95                                               | 33                                                  | 30976.00                                            | 143.56                                              | Grass-roots coherent extranet                       | West William                                        | 0                                                   | Barbados                                            | 2016-03-24 09:31:49                                 | 1                                                   |\n",
       "| 63.45                                               | 23                                                  | 52182.23                                            | 140.64                                              | Persistent demand-driven interface                  | New Travistown                                      | 1                                                   | Spain                                               | 2016-03-09 03:41:30                                 | 1                                                   |\n",
       "| 55.39                                               | 37                                                  | 23936.86                                            | 129.41                                              | Customizable multi-tasking website                  | West Dylanberg                                      | 0                                                   | Palestinian Territory                               | 2016-01-30 19:20:41                                 | 1                                                   |\n",
       "| 82.03                                               | 41                                                  | 71511.08                                            | 187.53                                              | Intuitive dynamic attitude                          | Pruittmouth                                         | 0                                                   | Afghanistan                                         | 2016-05-02 07:00:58                                 | 0                                                   |\n",
       "| 54.70                                               | 36                                                  | 31087.54                                            | 118.39                                              | Grass-roots solution-oriented conglomeration        | Jessicastad                                         | 1                                                   | British Indian Ocean Territory (Chagos Archipelago) | 2016-02-13 07:53:55                                 | 1                                                   |\n",
       "| 74.58                                               | 40                                                  | 23821.72                                            | 135.51                                              | Advanced 24/7 productivity                          | Millertown                                          | 1                                                   | Russian Federation                                  | 2016-02-27 04:43:07                                 | 1                                                   |\n",
       "| 77.22                                               | 30                                                  | 64802.33                                            | 224.44                                              | Object-based reciprocal knowledgebase               | Port Jacqueline                                     | 1                                                   | Cameroon                                            | 2016-01-05 07:52:48                                 | 0                                                   |\n",
       "| 84.59                                               | 35                                                  | 60015.57                                            | 226.54                                              | Streamlined non-volatile analyzer                   | Lake Nicole                                         | 1                                                   | Cameroon                                            | 2016-03-18 13:22:35                                 | 0                                                   |\n",
       "| 41.49                                               | 52                                                  | 32635.70                                            | 164.83                                              | Mandatory disintermediate utilization               | South John                                          | 0                                                   | Burundi                                             | 2016-05-20 08:49:33                                 | 1                                                   |\n",
       "| 87.29                                               | 36                                                  | 61628.72                                            | 209.93                                              | Future-proofed methodical protocol                  | Pamelamouth                                         | 1                                                   | Korea                                               | 2016-03-23 09:43:43                                 | 0                                                   |\n",
       "| 41.39                                               | 41                                                  | 68962.32                                            | 167.22                                              | Exclusive neutral parallelism                       | Harperborough                                       | 0                                                   | Tokelau                                             | 2016-06-13 17:27:09                                 | 1                                                   |\n",
       "| 78.74                                               | 28                                                  | 64828.00                                            | 204.79                                              | Public-key foreground groupware                     | Port Danielleberg                                   | 1                                                   | Monaco                                              | 2016-05-27 15:25:52                                 | 0                                                   |\n",
       "| 48.53                                               | 28                                                  | 38067.08                                            | 134.14                                              | Ameliorated client-driven forecast                  | West Jeremyside                                     | 1                                                   | Tuvalu                                              | 2016-02-08 10:46:14                                 | 1                                                   |\n",
       "| 51.95                                               | 52                                                  | 58295.82                                            | 129.23                                              | Monitored systematic hierarchy                      | South Cathyfurt                                     | 0                                                   | Greece                                              | 2016-07-19 08:32:10                                 | 1                                                   |\n",
       "| 70.20                                               | 34                                                  | 32708.94                                            | 119.20                                              | Open-architected impactful productivity             | Palmerside                                          | 0                                                   | British Virgin Islands                              | 2016-04-14 05:08:35                                 | 1                                                   |\n",
       "| 76.02                                               | 22                                                  | 46179.97                                            | 209.82                                              | Business-focused value-added definition             | West Guybury                                        | 0                                                   | Bouvet Island (Bouvetoya)                           | 2016-01-27 12:38:16                                 | 0                                                   |\n",
       "| ... | ... | ... | ... | ... | ... | ... | ... | ... | ... |\n",
       "| 40.18                                   | 29                                      | 50760.23                                | 151.96                                  | Enhanced intangible portal              | Lake Tracy                              | 0                                       | Hong Kong                               | 2016-06-25 04:21:33                     | 1                                       |\n",
       "| 45.17                                   | 48                                      | 34418.09                                | 132.07                                  | Down-sized background groupware         | Taylormouth                             | 1                                       | Palau                                   | 2016-01-27 14:41:10                     | 1                                       |\n",
       "| 50.48                                   | 50                                      | 20592.99                                | 162.43                                  | Switchable real-time product            | Dianaville                              | 0                                       | Malawi                                  | 2016-05-16 18:51:59                     | 1                                       |\n",
       "| 80.87                                   | 28                                      | 63528.80                                | 203.30                                  | Ameliorated local workforce             | Collinsburgh                            | 0                                       | Uruguay                                 | 2016-02-27 20:20:25                     | 0                                       |\n",
       "| 41.88                                   | 40                                      | 44217.68                                | 126.11                                  | Streamlined exuding adapter             | Port Rachel                             | 1                                       | Cyprus                                  | 2016-02-28 23:54:44                     | 1                                       |\n",
       "| 39.87                                   | 48                                      | 47929.83                                | 139.34                                  | Business-focused user-facing benchmark  | South Rebecca                           | 1                                       | Mexico                                  | 2016-06-13 06:11:33                     | 1                                       |\n",
       "| 61.84                                   | 45                                      | 46024.29                                | 105.63                                  | Reactive bi-directional standardization | Port Joshuafort                         | 1                                       | Niger                                   | 2016-05-05 11:07:13                     | 1                                       |\n",
       "| 54.97                                   | 31                                      | 51900.03                                | 116.38                                  | Virtual bifurcated portal               | Robinsontown                            | 1                                       | France                                  | 2016-07-07 12:17:33                     | 1                                       |\n",
       "| 71.40                                   | 30                                      | 72188.90                                | 166.31                                  | Integrated 3rdgeneration monitoring     | Beckton                                 | 0                                       | Japan                                   | 2016-05-24 17:07:08                     | 0                                       |\n",
       "| 70.29                                   | 31                                      | 56974.51                                | 254.65                                  | Balanced responsive open system         | New Frankshire                          | 1                                       | Norfolk Island                          | 2016-03-30 14:36:55                     | 0                                       |\n",
       "| 67.26                                   | 57                                      | 25682.65                                | 168.41                                  | Focused incremental Graphic Interface   | North Derekville                        | 1                                       | Bulgaria                                | 2016-05-27 05:54:03                     | 1                                       |\n",
       "| 76.58                                   | 46                                      | 41884.64                                | 258.26                                  | Secured 24hour policy                   | West Sydney                             | 0                                       | Uzbekistan                              | 2016-01-03 16:30:51                     | 0                                       |\n",
       "| 54.37                                   | 38                                      | 72196.29                                | 140.77                                  | Up-sized asymmetric firmware            | Lake Matthew                            | 0                                       | Mexico                                  | 2016-06-25 18:17:53                     | 1                                       |\n",
       "| 82.79                                   | 32                                      | 54429.17                                | 234.81                                  | Distributed fault-tolerant service-desk | Lake Zacharyfurt                        | 1                                       | Brunei Darussalam                       | 2016-02-24 10:36:43                     | 0                                       |\n",
       "| 66.47                                   | 31                                      | 58037.66                                | 256.39                                  | Vision-oriented human-resource synergy  | Lindsaymouth                            | 1                                       | France                                  | 2016-03-03 03:13:48                     | 0                                       |\n",
       "| 72.88                                   | 44                                      | 64011.26                                | 125.12                                  | Customer-focused explicit challenge     | Sarahland                               | 0                                       | Yemen                                   | 2016-04-21 19:56:24                     | 1                                       |\n",
       "| 76.44                                   | 28                                      | 59967.19                                | 232.68                                  | Synchronized human-resource moderator   | Port Julie                              | 1                                       | Northern Mariana Islands                | 2016-04-06 17:26:37                     | 0                                       |\n",
       "| 63.37                                   | 43                                      | 43155.19                                | 105.04                                  | Open-architected full-range projection  | Michaelshire                            | 1                                       | Poland                                  | 2016-03-23 12:53:23                     | 1                                       |\n",
       "| 89.71                                   | 48                                      | 51501.38                                | 204.40                                  | Versatile local forecast                | Sarafurt                                | 1                                       | Bahrain                                 | 2016-02-17 07:00:38                     | 0                                       |\n",
       "| 70.96                                   | 31                                      | 55187.85                                | 256.40                                  | Ameliorated user-facing help-desk       | South Denise                            | 0                                       | Saint Pierre and Miquelon               | 2016-06-26 07:01:47                     | 0                                       |\n",
       "| 35.79                                   | 44                                      | 33813.08                                | 165.62                                  | Enterprise-wide tangible model          | North Katie                             | 1                                       | Tonga                                   | 2016-04-20 13:36:42                     | 1                                       |\n",
       "| 38.96                                   | 38                                      | 36497.22                                | 140.67                                  | Versatile mission-critical application  | Mauricefurt                             | 1                                       | Comoros                                 | 2016-07-21 16:02:40                     | 1                                       |\n",
       "| 69.17                                   | 40                                      | 66193.81                                | 123.62                                  | Extended leadingedge solution           | New Patrick                             | 0                                       | Montenegro                              | 2016-03-06 11:36:06                     | 1                                       |\n",
       "| 64.20                                   | 27                                      | 66200.96                                | 227.63                                  | Phased zero tolerance extranet          | Edwardsmouth                            | 1                                       | Isle of Man                             | 2016-02-11 23:45:01                     | 0                                       |\n",
       "| 43.70                                   | 28                                      | 63126.96                                | 173.01                                  | Front-line bifurcated ability           | Nicholasland                            | 0                                       | Mayotte                                 | 2016-04-04 03:57:48                     | 1                                       |\n",
       "| 72.97                                   | 30                                      | 71384.57                                | 208.58                                  | Fundamental modular algorithm           | Duffystad                               | 1                                       | Lebanon                                 | 2016-02-11 21:49:00                     | 1                                       |\n",
       "| 51.30                                   | 45                                      | 67782.17                                | 134.42                                  | Grass-roots cohesive monitoring         | New Darlene                             | 1                                       | Bosnia and Herzegovina                  | 2016-04-22 02:07:01                     | 1                                       |\n",
       "| 51.63                                   | 51                                      | 42415.72                                | 120.37                                  | Expanded intangible solution            | South Jessica                           | 1                                       | Mongolia                                | 2016-02-01 17:24:57                     | 1                                       |\n",
       "| 55.55                                   | 19                                      | 41920.79                                | 187.95                                  | Proactive bandwidth-monitored policy    | West Steven                             | 0                                       | Guatemala                               | 2016-03-24 02:35:54                     | 0                                       |\n",
       "| 45.01                                   | 26                                      | 29875.80                                | 178.35                                  | Virtual 5thgeneration emulation         | Ronniemouth                             | 0                                       | Brazil                                  | 2016-06-03 21:43:21                     | 1                                       |\n",
       "\n"
      ],
      "text/plain": [
       "     Daily.Time.Spent.on.Site Age Area.Income Daily.Internet.Usage\n",
       "1    68.95                    35  61833.90    256.09              \n",
       "2    80.23                    31  68441.85    193.77              \n",
       "3    69.47                    26  59785.94    236.50              \n",
       "4    74.15                    29  54806.18    245.89              \n",
       "5    68.37                    35  73889.99    225.58              \n",
       "6    59.99                    23  59761.56    226.74              \n",
       "7    88.91                    33  53852.85    208.36              \n",
       "8    66.00                    48  24593.33    131.76              \n",
       "9    74.53                    30  68862.00    221.51              \n",
       "10   69.88                    20  55642.32    183.82              \n",
       "11   47.64                    49  45632.51    122.02              \n",
       "12   83.07                    37  62491.01    230.87              \n",
       "13   69.57                    48  51636.92    113.12              \n",
       "14   79.52                    24  51739.63    214.23              \n",
       "15   42.95                    33  30976.00    143.56              \n",
       "16   63.45                    23  52182.23    140.64              \n",
       "17   55.39                    37  23936.86    129.41              \n",
       "18   82.03                    41  71511.08    187.53              \n",
       "19   54.70                    36  31087.54    118.39              \n",
       "20   74.58                    40  23821.72    135.51              \n",
       "21   77.22                    30  64802.33    224.44              \n",
       "22   84.59                    35  60015.57    226.54              \n",
       "23   41.49                    52  32635.70    164.83              \n",
       "24   87.29                    36  61628.72    209.93              \n",
       "25   41.39                    41  68962.32    167.22              \n",
       "26   78.74                    28  64828.00    204.79              \n",
       "27   48.53                    28  38067.08    134.14              \n",
       "28   51.95                    52  58295.82    129.23              \n",
       "29   70.20                    34  32708.94    119.20              \n",
       "30   76.02                    22  46179.97    209.82              \n",
       "...  ...                      ... ...         ...                 \n",
       "971  40.18                    29  50760.23    151.96              \n",
       "972  45.17                    48  34418.09    132.07              \n",
       "973  50.48                    50  20592.99    162.43              \n",
       "974  80.87                    28  63528.80    203.30              \n",
       "975  41.88                    40  44217.68    126.11              \n",
       "976  39.87                    48  47929.83    139.34              \n",
       "977  61.84                    45  46024.29    105.63              \n",
       "978  54.97                    31  51900.03    116.38              \n",
       "979  71.40                    30  72188.90    166.31              \n",
       "980  70.29                    31  56974.51    254.65              \n",
       "981  67.26                    57  25682.65    168.41              \n",
       "982  76.58                    46  41884.64    258.26              \n",
       "983  54.37                    38  72196.29    140.77              \n",
       "984  82.79                    32  54429.17    234.81              \n",
       "985  66.47                    31  58037.66    256.39              \n",
       "986  72.88                    44  64011.26    125.12              \n",
       "987  76.44                    28  59967.19    232.68              \n",
       "988  63.37                    43  43155.19    105.04              \n",
       "989  89.71                    48  51501.38    204.40              \n",
       "990  70.96                    31  55187.85    256.40              \n",
       "991  35.79                    44  33813.08    165.62              \n",
       "992  38.96                    38  36497.22    140.67              \n",
       "993  69.17                    40  66193.81    123.62              \n",
       "994  64.20                    27  66200.96    227.63              \n",
       "995  43.70                    28  63126.96    173.01              \n",
       "996  72.97                    30  71384.57    208.58              \n",
       "997  51.30                    45  67782.17    134.42              \n",
       "998  51.63                    51  42415.72    120.37              \n",
       "999  55.55                    19  41920.79    187.95              \n",
       "1000 45.01                    26  29875.80    178.35              \n",
       "     Ad.Topic.Line                                 City              Male\n",
       "1    Cloned 5thgeneration orchestration            Wrightburgh       0   \n",
       "2    Monitored national standardization            West Jodi         1   \n",
       "3    Organic bottom-line service-desk              Davidton          0   \n",
       "4    Triple-buffered reciprocal time-frame         West Terrifurt    1   \n",
       "5    Robust logistical utilization                 South Manuel      0   \n",
       "6    Sharable client-driven software               Jamieberg         1   \n",
       "7    Enhanced dedicated support                    Brandonstad       0   \n",
       "8    Reactive local challenge                      Port Jefferybury  1   \n",
       "9    Configurable coherent function                West Colin        1   \n",
       "10   Mandatory homogeneous architecture            Ramirezton        1   \n",
       "11   Centralized neutral neural-net                West Brandonton   0   \n",
       "12   Team-oriented grid-enabled Local Area Network East Theresashire 1   \n",
       "13   Centralized content-based focus group         West Katiefurt    1   \n",
       "14   Synergistic fresh-thinking array              North Tara        0   \n",
       "15   Grass-roots coherent extranet                 West William      0   \n",
       "16   Persistent demand-driven interface            New Travistown    1   \n",
       "17   Customizable multi-tasking website            West Dylanberg    0   \n",
       "18   Intuitive dynamic attitude                    Pruittmouth       0   \n",
       "19   Grass-roots solution-oriented conglomeration  Jessicastad       1   \n",
       "20   Advanced 24/7 productivity                    Millertown        1   \n",
       "21   Object-based reciprocal knowledgebase         Port Jacqueline   1   \n",
       "22   Streamlined non-volatile analyzer             Lake Nicole       1   \n",
       "23   Mandatory disintermediate utilization         South John        0   \n",
       "24   Future-proofed methodical protocol            Pamelamouth       1   \n",
       "25   Exclusive neutral parallelism                 Harperborough     0   \n",
       "26   Public-key foreground groupware               Port Danielleberg 1   \n",
       "27   Ameliorated client-driven forecast            West Jeremyside   1   \n",
       "28   Monitored systematic hierarchy                South Cathyfurt   0   \n",
       "29   Open-architected impactful productivity       Palmerside        0   \n",
       "30   Business-focused value-added definition       West Guybury      0   \n",
       "...  ...                                           ...               ... \n",
       "971  Enhanced intangible portal                    Lake Tracy        0   \n",
       "972  Down-sized background groupware               Taylormouth       1   \n",
       "973  Switchable real-time product                  Dianaville        0   \n",
       "974  Ameliorated local workforce                   Collinsburgh      0   \n",
       "975  Streamlined exuding adapter                   Port Rachel       1   \n",
       "976  Business-focused user-facing benchmark        South Rebecca     1   \n",
       "977  Reactive bi-directional standardization       Port Joshuafort   1   \n",
       "978  Virtual bifurcated portal                     Robinsontown      1   \n",
       "979  Integrated 3rdgeneration monitoring           Beckton           0   \n",
       "980  Balanced responsive open system               New Frankshire    1   \n",
       "981  Focused incremental Graphic Interface         North Derekville  1   \n",
       "982  Secured 24hour policy                         West Sydney       0   \n",
       "983  Up-sized asymmetric firmware                  Lake Matthew      0   \n",
       "984  Distributed fault-tolerant service-desk       Lake Zacharyfurt  1   \n",
       "985  Vision-oriented human-resource synergy        Lindsaymouth      1   \n",
       "986  Customer-focused explicit challenge           Sarahland         0   \n",
       "987  Synchronized human-resource moderator         Port Julie        1   \n",
       "988  Open-architected full-range projection        Michaelshire      1   \n",
       "989  Versatile local forecast                      Sarafurt          1   \n",
       "990  Ameliorated user-facing help-desk             South Denise      0   \n",
       "991  Enterprise-wide tangible model                North Katie       1   \n",
       "992  Versatile mission-critical application        Mauricefurt       1   \n",
       "993  Extended leadingedge solution                 New Patrick       0   \n",
       "994  Phased zero tolerance extranet                Edwardsmouth      1   \n",
       "995  Front-line bifurcated ability                 Nicholasland      0   \n",
       "996  Fundamental modular algorithm                 Duffystad         1   \n",
       "997  Grass-roots cohesive monitoring               New Darlene       1   \n",
       "998  Expanded intangible solution                  South Jessica     1   \n",
       "999  Proactive bandwidth-monitored policy          West Steven       0   \n",
       "1000 Virtual 5thgeneration emulation               Ronniemouth       0   \n",
       "     Country                                             Timestamp          \n",
       "1    Tunisia                                             2016-03-27 00:53:11\n",
       "2    Nauru                                               2016-04-04 01:39:02\n",
       "3    San Marino                                          2016-03-13 20:35:42\n",
       "4    Italy                                               2016-01-10 02:31:19\n",
       "5    Iceland                                             2016-06-03 03:36:18\n",
       "6    Norway                                              2016-05-19 14:30:17\n",
       "7    Myanmar                                             2016-01-28 20:59:32\n",
       "8    Australia                                           2016-03-07 01:40:15\n",
       "9    Grenada                                             2016-04-18 09:33:42\n",
       "10   Ghana                                               2016-07-11 01:42:51\n",
       "11   Qatar                                               2016-03-16 20:19:01\n",
       "12   Burundi                                             2016-05-08 08:10:10\n",
       "13   Egypt                                               2016-06-03 01:14:41\n",
       "14   Bosnia and Herzegovina                              2016-04-20 21:49:22\n",
       "15   Barbados                                            2016-03-24 09:31:49\n",
       "16   Spain                                               2016-03-09 03:41:30\n",
       "17   Palestinian Territory                               2016-01-30 19:20:41\n",
       "18   Afghanistan                                         2016-05-02 07:00:58\n",
       "19   British Indian Ocean Territory (Chagos Archipelago) 2016-02-13 07:53:55\n",
       "20   Russian Federation                                  2016-02-27 04:43:07\n",
       "21   Cameroon                                            2016-01-05 07:52:48\n",
       "22   Cameroon                                            2016-03-18 13:22:35\n",
       "23   Burundi                                             2016-05-20 08:49:33\n",
       "24   Korea                                               2016-03-23 09:43:43\n",
       "25   Tokelau                                             2016-06-13 17:27:09\n",
       "26   Monaco                                              2016-05-27 15:25:52\n",
       "27   Tuvalu                                              2016-02-08 10:46:14\n",
       "28   Greece                                              2016-07-19 08:32:10\n",
       "29   British Virgin Islands                              2016-04-14 05:08:35\n",
       "30   Bouvet Island (Bouvetoya)                           2016-01-27 12:38:16\n",
       "...  ...                                                 ...                \n",
       "971  Hong Kong                                           2016-06-25 04:21:33\n",
       "972  Palau                                               2016-01-27 14:41:10\n",
       "973  Malawi                                              2016-05-16 18:51:59\n",
       "974  Uruguay                                             2016-02-27 20:20:25\n",
       "975  Cyprus                                              2016-02-28 23:54:44\n",
       "976  Mexico                                              2016-06-13 06:11:33\n",
       "977  Niger                                               2016-05-05 11:07:13\n",
       "978  France                                              2016-07-07 12:17:33\n",
       "979  Japan                                               2016-05-24 17:07:08\n",
       "980  Norfolk Island                                      2016-03-30 14:36:55\n",
       "981  Bulgaria                                            2016-05-27 05:54:03\n",
       "982  Uzbekistan                                          2016-01-03 16:30:51\n",
       "983  Mexico                                              2016-06-25 18:17:53\n",
       "984  Brunei Darussalam                                   2016-02-24 10:36:43\n",
       "985  France                                              2016-03-03 03:13:48\n",
       "986  Yemen                                               2016-04-21 19:56:24\n",
       "987  Northern Mariana Islands                            2016-04-06 17:26:37\n",
       "988  Poland                                              2016-03-23 12:53:23\n",
       "989  Bahrain                                             2016-02-17 07:00:38\n",
       "990  Saint Pierre and Miquelon                           2016-06-26 07:01:47\n",
       "991  Tonga                                               2016-04-20 13:36:42\n",
       "992  Comoros                                             2016-07-21 16:02:40\n",
       "993  Montenegro                                          2016-03-06 11:36:06\n",
       "994  Isle of Man                                         2016-02-11 23:45:01\n",
       "995  Mayotte                                             2016-04-04 03:57:48\n",
       "996  Lebanon                                             2016-02-11 21:49:00\n",
       "997  Bosnia and Herzegovina                              2016-04-22 02:07:01\n",
       "998  Mongolia                                            2016-02-01 17:24:57\n",
       "999  Guatemala                                           2016-03-24 02:35:54\n",
       "1000 Brazil                                              2016-06-03 21:43:21\n",
       "     Clicked.on.Ad\n",
       "1    0            \n",
       "2    0            \n",
       "3    0            \n",
       "4    0            \n",
       "5    0            \n",
       "6    0            \n",
       "7    0            \n",
       "8    1            \n",
       "9    0            \n",
       "10   0            \n",
       "11   1            \n",
       "12   0            \n",
       "13   1            \n",
       "14   0            \n",
       "15   1            \n",
       "16   1            \n",
       "17   1            \n",
       "18   0            \n",
       "19   1            \n",
       "20   1            \n",
       "21   0            \n",
       "22   0            \n",
       "23   1            \n",
       "24   0            \n",
       "25   1            \n",
       "26   0            \n",
       "27   1            \n",
       "28   1            \n",
       "29   1            \n",
       "30   0            \n",
       "...  ...          \n",
       "971  1            \n",
       "972  1            \n",
       "973  1            \n",
       "974  0            \n",
       "975  1            \n",
       "976  1            \n",
       "977  1            \n",
       "978  1            \n",
       "979  0            \n",
       "980  0            \n",
       "981  1            \n",
       "982  0            \n",
       "983  1            \n",
       "984  0            \n",
       "985  0            \n",
       "986  1            \n",
       "987  0            \n",
       "988  1            \n",
       "989  0            \n",
       "990  0            \n",
       "991  1            \n",
       "992  1            \n",
       "993  1            \n",
       "994  0            \n",
       "995  1            \n",
       "996  1            \n",
       "997  1            \n",
       "998  1            \n",
       "999  0            \n",
       "1000 1            "
      ]
     },
     "metadata": {},
     "output_type": "display_data"
    }
   ],
   "source": [
    "advert"
   ]
  },
  {
   "cell_type": "markdown",
   "metadata": {},
   "source": [
    "# 3.cleaning data\n"
   ]
  },
  {
   "cell_type": "markdown",
   "metadata": {},
   "source": [
    "#### We  will look for inconsistencies in the dataset . Our Process will be as follows\n",
    "#### 1. Missing Data\n",
    "#### 2. Outliers\n",
    "#### 3. Duplicates"
   ]
  },
  {
   "cell_type": "markdown",
   "metadata": {},
   "source": [
    "## a. Find missing data"
   ]
  },
  {
   "cell_type": "code",
   "execution_count": 47,
   "metadata": {},
   "outputs": [
    {
     "data": {
      "text/html": [
       "0"
      ],
      "text/latex": [
       "0"
      ],
      "text/markdown": [
       "0"
      ],
      "text/plain": [
       "[1] 0"
      ]
     },
     "metadata": {},
     "output_type": "display_data"
    }
   ],
   "source": [
    "# i).Number of missing data in area income variable\n",
    "\n",
    "missing_data_area_income <- length(which(is.na(area_income)))\n",
    "missing_data_area_income"
   ]
  },
  {
   "cell_type": "code",
   "execution_count": 48,
   "metadata": {},
   "outputs": [
    {
     "data": {
      "text/html": [
       "0"
      ],
      "text/latex": [
       "0"
      ],
      "text/markdown": [
       "0"
      ],
      "text/plain": [
       "[1] 0"
      ]
     },
     "metadata": {},
     "output_type": "display_data"
    }
   ],
   "source": [
    "\n",
    "# ii).Number of missing data in click\n",
    "missing_data_click <- length(which(is.na(click)))\n",
    "missing_data_click\n",
    "\n"
   ]
  },
  {
   "cell_type": "code",
   "execution_count": 49,
   "metadata": {},
   "outputs": [
    {
     "data": {
      "text/html": [
       "0"
      ],
      "text/latex": [
       "0"
      ],
      "text/markdown": [
       "0"
      ],
      "text/plain": [
       "[1] 0"
      ]
     },
     "metadata": {},
     "output_type": "display_data"
    }
   ],
   "source": [
    "# iii).Number of missing data in time variable\n",
    "missing_data_time <- length(which(is.na(time)))\n",
    "missing_data_time\n",
    "\n"
   ]
  },
  {
   "cell_type": "code",
   "execution_count": 50,
   "metadata": {},
   "outputs": [
    {
     "data": {
      "text/html": [
       "0"
      ],
      "text/latex": [
       "0"
      ],
      "text/markdown": [
       "0"
      ],
      "text/plain": [
       "[1] 0"
      ]
     },
     "metadata": {},
     "output_type": "display_data"
    }
   ],
   "source": [
    "# iv).Number of missing data in daily internet variable\n",
    "missing_data_daily_internet <- length(which(is.na(daily_internet)))\n",
    "missing_data_daily_internet\n",
    "\n"
   ]
  },
  {
   "cell_type": "code",
   "execution_count": 51,
   "metadata": {},
   "outputs": [
    {
     "data": {
      "text/html": [
       "0"
      ],
      "text/latex": [
       "0"
      ],
      "text/markdown": [
       "0"
      ],
      "text/plain": [
       "[1] 0"
      ]
     },
     "metadata": {},
     "output_type": "display_data"
    }
   ],
   "source": [
    "#v)Number of missing data in age variable\n",
    "missing_data_age <- length(which(is.na(age)))\n",
    "missing_data_age\n"
   ]
  },
  {
   "cell_type": "markdown",
   "metadata": {},
   "source": [
    "#### From the Data, we can observe that there was no Missing data from the dataset"
   ]
  },
  {
   "cell_type": "markdown",
   "metadata": {},
   "source": [
    "## b.Outliers"
   ]
  },
  {
   "cell_type": "markdown",
   "metadata": {},
   "source": [
    "\n",
    "### Using Boxplots to show Ouliers in the numeric Variables. "
   ]
  },
  {
   "cell_type": "code",
   "execution_count": 53,
   "metadata": {},
   "outputs": [
    {
     "data": {
      "image/png": "[encoded data removed]",
      "text/plain": [
       "plot without title"
      ]
     },
     "metadata": {},
     "output_type": "display_data"
    }
   ],
   "source": [
    "boxplot(age)\n"
   ]
  },
  {
   "cell_type": "code",
   "execution_count": 56,
   "metadata": {},
   "outputs": [
    {
     "name": "stderr",
     "output_type": "stream",
     "text": [
      "Warning message in min(x):\n",
      "\"no non-missing arguments to min; returning Inf\"Warning message in max(x):\n",
      "\"no non-missing arguments to max; returning -Inf\""
     ]
    },
    {
     "ename": "ERROR",
     "evalue": "Error in plot.window(xlim = xlim, ylim = ylim, log = log, yaxs = pars$yaxs): need finite 'ylim' values\n",
     "output_type": "error",
     "traceback": [
      "Error in plot.window(xlim = xlim, ylim = ylim, log = log, yaxs = pars$yaxs): need finite 'ylim' values\nTraceback:\n",
      "1. boxplot(area_income)",
      "2. boxplot.default(area_income)",
      "3. do.call(\"bxp\", c(list(z, notch = notch, width = width, varwidth = varwidth, \n .     log = log, border = border, pars = pars, outline = outline, \n .     horizontal = horizontal, add = add, ann = ann, at = at), \n .     args[namedargs]))",
      "4. bxp(list(stats = structure(c(NA_real_, NA_real_, NA_real_, NA_real_, \n . NA_real_), .Dim = c(5L, 1L), class = c(`1` = \"NULL\")), n = 0, \n .     conf = structure(c(NA_real_, NA_real_), .Dim = 2:1), out = numeric(0), \n .     group = numeric(0), names = \"1\"), notch = FALSE, width = NULL, \n .     varwidth = FALSE, log = \"\", border = \"black\", pars = list(\n .         boxwex = 0.8, staplewex = 0.5, outwex = 0.5), outline = TRUE, \n .     horizontal = FALSE, add = FALSE, ann = TRUE, at = NULL)",
      "5. plot.window(xlim = xlim, ylim = ylim, log = log, yaxs = pars$yaxs)"
     ]
    },
    {
     "data": {
      "image/png": "[encoded data removed]",
      "text/plain": [
       "plot without title"
      ]
     },
     "metadata": {},
     "output_type": "display_data"
    }
   ],
   "source": [
    "boxplot(area_income)\n"
   ]
  },
  {
   "cell_type": "code",
   "execution_count": 57,
   "metadata": {},
   "outputs": [
    {
     "name": "stderr",
     "output_type": "stream",
     "text": [
      "Warning message in min(x):\n",
      "\"no non-missing arguments to min; returning Inf\"Warning message in max(x):\n",
      "\"no non-missing arguments to max; returning -Inf\""
     ]
    },
    {
     "ename": "ERROR",
     "evalue": "Error in plot.window(xlim = xlim, ylim = ylim, log = log, yaxs = pars$yaxs): need finite 'ylim' values\n",
     "output_type": "error",
     "traceback": [
      "Error in plot.window(xlim = xlim, ylim = ylim, log = log, yaxs = pars$yaxs): need finite 'ylim' values\nTraceback:\n",
      "1. boxplot(click)",
      "2. boxplot.default(click)",
      "3. do.call(\"bxp\", c(list(z, notch = notch, width = width, varwidth = varwidth, \n .     log = log, border = border, pars = pars, outline = outline, \n .     horizontal = horizontal, add = add, ann = ann, at = at), \n .     args[namedargs]))",
      "4. bxp(list(stats = structure(c(NA_real_, NA_real_, NA_real_, NA_real_, \n . NA_real_), .Dim = c(5L, 1L), class = c(`1` = \"NULL\")), n = 0, \n .     conf = structure(c(NA_real_, NA_real_), .Dim = 2:1), out = numeric(0), \n .     group = numeric(0), names = \"1\"), notch = FALSE, width = NULL, \n .     varwidth = FALSE, log = \"\", border = \"black\", pars = list(\n .         boxwex = 0.8, staplewex = 0.5, outwex = 0.5), outline = TRUE, \n .     horizontal = FALSE, add = FALSE, ann = TRUE, at = NULL)",
      "5. plot.window(xlim = xlim, ylim = ylim, log = log, yaxs = pars$yaxs)"
     ]
    },
    {
     "data": {
      "image/png": "[encoded data removed]",
      "text/plain": [
       "plot without title"
      ]
     },
     "metadata": {},
     "output_type": "display_data"
    }
   ],
   "source": [
    "boxplot(click)\n",
    "\n"
   ]
  },
  {
   "cell_type": "code",
   "execution_count": null,
   "metadata": {},
   "outputs": [],
   "source": [
    "boxplot(daily_internet)\n"
   ]
  },
  {
   "cell_type": "code",
   "execution_count": 58,
   "metadata": {},
   "outputs": [
    {
     "data": {
      "image/png": "[encoded data removed]",
      "text/plain": [
       "plot without title"
      ]
     },
     "metadata": {},
     "output_type": "display_data"
    }
   ],
   "source": [
    "\n",
    "boxplot(male)\n"
   ]
  },
  {
   "cell_type": "code",
   "execution_count": 61,
   "metadata": {},
   "outputs": [
    {
     "name": "stderr",
     "output_type": "stream",
     "text": [
      "Warning message in min(x):\n",
      "\"no non-missing arguments to min; returning Inf\"Warning message in max(x):\n",
      "\"no non-missing arguments to max; returning -Inf\""
     ]
    },
    {
     "ename": "ERROR",
     "evalue": "Error in plot.window(xlim = xlim, ylim = ylim, log = log, yaxs = pars$yaxs): need finite 'ylim' values\n",
     "output_type": "error",
     "traceback": [
      "Error in plot.window(xlim = xlim, ylim = ylim, log = log, yaxs = pars$yaxs): need finite 'ylim' values\nTraceback:\n",
      "1. boxplot(advert$time)",
      "2. boxplot.default(advert$time)",
      "3. do.call(\"bxp\", c(list(z, notch = notch, width = width, varwidth = varwidth, \n .     log = log, border = border, pars = pars, outline = outline, \n .     horizontal = horizontal, add = add, ann = ann, at = at), \n .     args[namedargs]))",
      "4. bxp(list(stats = structure(c(NA_real_, NA_real_, NA_real_, NA_real_, \n . NA_real_), .Dim = c(5L, 1L), class = c(`1` = \"NULL\")), n = 0, \n .     conf = structure(c(NA_real_, NA_real_), .Dim = 2:1), out = numeric(0), \n .     group = numeric(0), names = \"1\"), notch = FALSE, width = NULL, \n .     varwidth = FALSE, log = \"\", border = \"black\", pars = list(\n .         boxwex = 0.8, staplewex = 0.5, outwex = 0.5), outline = TRUE, \n .     horizontal = FALSE, add = FALSE, ann = TRUE, at = NULL)",
      "5. plot.window(xlim = xlim, ylim = ylim, log = log, yaxs = pars$yaxs)"
     ]
    },
    {
     "data": {
      "image/png": "[encoded data removed]",
      "text/plain": [
       "plot without title"
      ]
     },
     "metadata": {},
     "output_type": "display_data"
    }
   ],
   "source": [
    "boxplot(advert$time)"
   ]
  },
  {
   "cell_type": "markdown",
   "metadata": {},
   "source": [
    "## c. Dealing with Duplicates\n"
   ]
  },
  {
   "cell_type": "code",
   "execution_count": 62,
   "metadata": {},
   "outputs": [
    {
     "data": {
      "text/html": [
       "<table>\n",
       "<thead><tr><th scope=col>Daily.Time.Spent.on.Site</th><th scope=col>Age</th><th scope=col>Area.Income</th><th scope=col>Daily.Internet.Usage</th><th scope=col>Ad.Topic.Line</th><th scope=col>City</th><th scope=col>Male</th><th scope=col>Country</th><th scope=col>Timestamp</th><th scope=col>Clicked.on.Ad</th></tr></thead>\n",
       "<tbody>\n",
       "</tbody>\n",
       "</table>\n"
      ],
      "text/latex": [
       "\\begin{tabular}{r|llllllllll}\n",
       " Daily.Time.Spent.on.Site & Age & Area.Income & Daily.Internet.Usage & Ad.Topic.Line & City & Male & Country & Timestamp & Clicked.on.Ad\\\\\n",
       "\\hline\n",
       "\\end{tabular}\n"
      ],
      "text/markdown": [
       "\n",
       "| Daily.Time.Spent.on.Site | Age | Area.Income | Daily.Internet.Usage | Ad.Topic.Line | City | Male | Country | Timestamp | Clicked.on.Ad |\n",
       "|---|---|---|---|---|---|---|---|---|---|\n",
       "\n"
      ],
      "text/plain": [
       "     Daily.Time.Spent.on.Site Age Area.Income Daily.Internet.Usage\n",
       "     Ad.Topic.Line City Male Country Timestamp Clicked.on.Ad"
      ]
     },
     "metadata": {},
     "output_type": "display_data"
    }
   ],
   "source": [
    "\n",
    "duplicated_age = advert[duplicated(advert),]\n",
    "duplicated_age\n"
   ]
  },
  {
   "cell_type": "markdown",
   "metadata": {},
   "source": [
    "#### the data does not have any duplicate values. "
   ]
  },
  {
   "cell_type": "markdown",
   "metadata": {},
   "source": [
    "# 4. Exploratory  Data Analysis"
   ]
  },
  {
   "cell_type": "markdown",
   "metadata": {},
   "source": [
    "## 1. measures of Tendency\n"
   ]
  },
  {
   "cell_type": "markdown",
   "metadata": {},
   "source": [
    "### a. Mean"
   ]
  },
  {
   "cell_type": "code",
   "execution_count": 63,
   "metadata": {},
   "outputs": [
    {
     "data": {
      "text/html": [
       "36.009"
      ],
      "text/latex": [
       "36.009"
      ],
      "text/markdown": [
       "36.009"
      ],
      "text/plain": [
       "[1] 36.009"
      ]
     },
     "metadata": {},
     "output_type": "display_data"
    }
   ],
   "source": [
    "mean_age = mean(age)\n",
    "mean_age\n",
    "\n"
   ]
  },
  {
   "cell_type": "code",
   "execution_count": 66,
   "metadata": {},
   "outputs": [
    {
     "name": "stderr",
     "output_type": "stream",
     "text": [
      "Warning message in mean.default(area_income):\n",
      "\"argument is not numeric or logical: returning NA\""
     ]
    },
    {
     "data": {
      "text/html": [
       "&lt;NA&gt;"
      ],
      "text/latex": [
       "<NA>"
      ],
      "text/markdown": [
       "&lt;NA&gt;"
      ],
      "text/plain": [
       "[1] NA"
      ]
     },
     "metadata": {},
     "output_type": "display_data"
    }
   ],
   "source": [
    "mean_area_income = mean(area_income)\n",
    "mean_area_income\n",
    "\n",
    "\n"
   ]
  },
  {
   "cell_type": "code",
   "execution_count": 67,
   "metadata": {},
   "outputs": [
    {
     "name": "stderr",
     "output_type": "stream",
     "text": [
      "Warning message in mean.default(daily_internet):\n",
      "\"argument is not numeric or logical: returning NA\""
     ]
    },
    {
     "data": {
      "text/html": [
       "&lt;NA&gt;"
      ],
      "text/latex": [
       "<NA>"
      ],
      "text/markdown": [
       "&lt;NA&gt;"
      ],
      "text/plain": [
       "[1] NA"
      ]
     },
     "metadata": {},
     "output_type": "display_data"
    }
   ],
   "source": [
    "mean_daily_internet = mean(daily_internet)\n",
    "mean_daily_internet\n",
    "\n"
   ]
  },
  {
   "cell_type": "code",
   "execution_count": 68,
   "metadata": {},
   "outputs": [
    {
     "data": {
      "text/html": [
       "0.481"
      ],
      "text/latex": [
       "0.481"
      ],
      "text/markdown": [
       "0.481"
      ],
      "text/plain": [
       "[1] 0.481"
      ]
     },
     "metadata": {},
     "output_type": "display_data"
    }
   ],
   "source": [
    "mean_male = mean(male)\n",
    "mean_male"
   ]
  },
  {
   "cell_type": "code",
   "execution_count": 69,
   "metadata": {},
   "outputs": [
    {
     "name": "stderr",
     "output_type": "stream",
     "text": [
      "Warning message in mean.default(area_income):\n",
      "\"argument is not numeric or logical: returning NA\""
     ]
    },
    {
     "data": {
      "text/html": [
       "&lt;NA&gt;"
      ],
      "text/latex": [
       "<NA>"
      ],
      "text/markdown": [
       "&lt;NA&gt;"
      ],
      "text/plain": [
       "[1] NA"
      ]
     },
     "metadata": {},
     "output_type": "display_data"
    }
   ],
   "source": [
    "mean_area_income = mean(area_income)\n",
    "mean_area_income\n",
    "\n"
   ]
  },
  {
   "cell_type": "code",
   "execution_count": null,
   "metadata": {},
   "outputs": [],
   "source": [
    "###b. Median\n",
    "\n"
   ]
  },
  {
   "cell_type": "code",
   "execution_count": 70,
   "metadata": {},
   "outputs": [
    {
     "data": {
      "text/html": [
       "35"
      ],
      "text/latex": [
       "35"
      ],
      "text/markdown": [
       "35"
      ],
      "text/plain": [
       "[1] 35"
      ]
     },
     "metadata": {},
     "output_type": "display_data"
    }
   ],
   "source": [
    "median_age = median(age)\n",
    "median_age\n"
   ]
  },
  {
   "cell_type": "code",
   "execution_count": 71,
   "metadata": {},
   "outputs": [
    {
     "data": {
      "text/plain": [
       "NULL"
      ]
     },
     "metadata": {},
     "output_type": "display_data"
    }
   ],
   "source": [
    "median_daily_internet = median(daily_internet)\n",
    "median_daily_internet\n",
    "\n"
   ]
  },
  {
   "cell_type": "code",
   "execution_count": 72,
   "metadata": {},
   "outputs": [
    {
     "data": {
      "text/plain": [
       "NULL"
      ]
     },
     "metadata": {},
     "output_type": "display_data"
    }
   ],
   "source": [
    "median_click = median(click)\n",
    "median_click\n"
   ]
  },
  {
   "cell_type": "code",
   "execution_count": 73,
   "metadata": {},
   "outputs": [
    {
     "data": {
      "text/plain": [
       "NULL"
      ]
     },
     "metadata": {},
     "output_type": "display_data"
    }
   ],
   "source": [
    "median_area_income = median(area_income)\n",
    "median_area_income\n",
    "\n"
   ]
  },
  {
   "cell_type": "code",
   "execution_count": 74,
   "metadata": {},
   "outputs": [
    {
     "data": {
      "text/html": [
       "0"
      ],
      "text/latex": [
       "0"
      ],
      "text/markdown": [
       "0"
      ],
      "text/plain": [
       "[1] 0"
      ]
     },
     "metadata": {},
     "output_type": "display_data"
    }
   ],
   "source": [
    "median_male = median(male)\n",
    "median_male"
   ]
  },
  {
   "cell_type": "markdown",
   "metadata": {},
   "source": [
    "### c. Mode"
   ]
  },
  {
   "cell_type": "code",
   "execution_count": 75,
   "metadata": {},
   "outputs": [
    {
     "data": {
      "text/html": [
       "31"
      ],
      "text/latex": [
       "31"
      ],
      "text/markdown": [
       "31"
      ],
      "text/plain": [
       "[1] 31"
      ]
     },
     "metadata": {},
     "output_type": "display_data"
    }
   ],
   "source": [
    "getmode <- function(v) {\n",
    "  uniqv <- unique(v)\n",
    "  uniqv[which.max(tabulate(match(v, uniqv)))]\n",
    "}\n",
    "\n",
    "mode_age <- getmode(age)\n",
    "mode_age\n",
    "\n"
   ]
  },
  {
   "cell_type": "code",
   "execution_count": 76,
   "metadata": {},
   "outputs": [
    {
     "data": {
      "text/plain": [
       "NULL"
      ]
     },
     "metadata": {},
     "output_type": "display_data"
    }
   ],
   "source": [
    "mode_daily_internet = getmode(daily_internet)\n",
    "mode_daily_internet\n",
    "\n"
   ]
  },
  {
   "cell_type": "code",
   "execution_count": 77,
   "metadata": {},
   "outputs": [
    {
     "data": {
      "text/plain": [
       "NULL"
      ]
     },
     "metadata": {},
     "output_type": "display_data"
    }
   ],
   "source": [
    "mode_area_income = getmode(area_income)\n",
    "mode_area_income\n",
    "\n",
    "\n",
    "\n"
   ]
  },
  {
   "cell_type": "code",
   "execution_count": 78,
   "metadata": {},
   "outputs": [
    {
     "data": {
      "text/plain": [
       "NULL"
      ]
     },
     "metadata": {},
     "output_type": "display_data"
    }
   ],
   "source": [
    "mode_time = getmode(time)\n",
    "mode_time"
   ]
  },
  {
   "cell_type": "markdown",
   "metadata": {},
   "source": [
    "### 4. Max & Min"
   ]
  },
  {
   "cell_type": "code",
   "execution_count": 79,
   "metadata": {},
   "outputs": [
    {
     "data": {
      "text/html": [
       "61"
      ],
      "text/latex": [
       "61"
      ],
      "text/markdown": [
       "61"
      ],
      "text/plain": [
       "[1] 61"
      ]
     },
     "metadata": {},
     "output_type": "display_data"
    },
    {
     "data": {
      "text/html": [
       "19"
      ],
      "text/latex": [
       "19"
      ],
      "text/markdown": [
       "19"
      ],
      "text/plain": [
       "[1] 19"
      ]
     },
     "metadata": {},
     "output_type": "display_data"
    }
   ],
   "source": [
    "max(age)\n",
    "min(age)\n",
    "\n"
   ]
  },
  {
   "cell_type": "code",
   "execution_count": 80,
   "metadata": {},
   "outputs": [
    {
     "name": "stderr",
     "output_type": "stream",
     "text": [
      "Warning message in max(time):\n",
      "\"no non-missing arguments to max; returning -Inf\""
     ]
    },
    {
     "data": {
      "text/html": [
       "-Inf"
      ],
      "text/latex": [
       "-Inf"
      ],
      "text/markdown": [
       "-Inf"
      ],
      "text/plain": [
       "[1] -Inf"
      ]
     },
     "metadata": {},
     "output_type": "display_data"
    },
    {
     "name": "stderr",
     "output_type": "stream",
     "text": [
      "Warning message in min(time):\n",
      "\"no non-missing arguments to min; returning Inf\""
     ]
    },
    {
     "data": {
      "text/html": [
       "Inf"
      ],
      "text/latex": [
       "Inf"
      ],
      "text/markdown": [
       "Inf"
      ],
      "text/plain": [
       "[1] Inf"
      ]
     },
     "metadata": {},
     "output_type": "display_data"
    }
   ],
   "source": [
    "max(time)\n",
    "min(time)\n",
    "\n"
   ]
  },
  {
   "cell_type": "code",
   "execution_count": 81,
   "metadata": {},
   "outputs": [
    {
     "name": "stderr",
     "output_type": "stream",
     "text": [
      "Warning message in max(daily_internet):\n",
      "\"no non-missing arguments to max; returning -Inf\""
     ]
    },
    {
     "data": {
      "text/html": [
       "-Inf"
      ],
      "text/latex": [
       "-Inf"
      ],
      "text/markdown": [
       "-Inf"
      ],
      "text/plain": [
       "[1] -Inf"
      ]
     },
     "metadata": {},
     "output_type": "display_data"
    },
    {
     "name": "stderr",
     "output_type": "stream",
     "text": [
      "Warning message in min(daily_internet):\n",
      "\"no non-missing arguments to min; returning Inf\""
     ]
    },
    {
     "data": {
      "text/html": [
       "Inf"
      ],
      "text/latex": [
       "Inf"
      ],
      "text/markdown": [
       "Inf"
      ],
      "text/plain": [
       "[1] Inf"
      ]
     },
     "metadata": {},
     "output_type": "display_data"
    }
   ],
   "source": [
    "max(daily_internet)\n",
    "min(daily_internet)\n",
    "\n"
   ]
  },
  {
   "cell_type": "code",
   "execution_count": 82,
   "metadata": {},
   "outputs": [
    {
     "name": "stderr",
     "output_type": "stream",
     "text": [
      "Warning message in max(area_income):\n",
      "\"no non-missing arguments to max; returning -Inf\""
     ]
    },
    {
     "data": {
      "text/html": [
       "-Inf"
      ],
      "text/latex": [
       "-Inf"
      ],
      "text/markdown": [
       "-Inf"
      ],
      "text/plain": [
       "[1] -Inf"
      ]
     },
     "metadata": {},
     "output_type": "display_data"
    },
    {
     "name": "stderr",
     "output_type": "stream",
     "text": [
      "Warning message in min(area_income):\n",
      "\"no non-missing arguments to min; returning Inf\""
     ]
    },
    {
     "data": {
      "text/html": [
       "Inf"
      ],
      "text/latex": [
       "Inf"
      ],
      "text/markdown": [
       "Inf"
      ],
      "text/plain": [
       "[1] Inf"
      ]
     },
     "metadata": {},
     "output_type": "display_data"
    }
   ],
   "source": [
    "max(area_income)\n",
    "min(area_income)\n",
    "\n"
   ]
  },
  {
   "cell_type": "code",
   "execution_count": 83,
   "metadata": {},
   "outputs": [
    {
     "name": "stderr",
     "output_type": "stream",
     "text": [
      "Warning message in max(click):\n",
      "\"no non-missing arguments to max; returning -Inf\""
     ]
    },
    {
     "data": {
      "text/html": [
       "-Inf"
      ],
      "text/latex": [
       "-Inf"
      ],
      "text/markdown": [
       "-Inf"
      ],
      "text/plain": [
       "[1] -Inf"
      ]
     },
     "metadata": {},
     "output_type": "display_data"
    },
    {
     "name": "stderr",
     "output_type": "stream",
     "text": [
      "Warning message in min(click):\n",
      "\"no non-missing arguments to min; returning Inf\""
     ]
    },
    {
     "data": {
      "text/html": [
       "Inf"
      ],
      "text/latex": [
       "Inf"
      ],
      "text/markdown": [
       "Inf"
      ],
      "text/plain": [
       "[1] Inf"
      ]
     },
     "metadata": {},
     "output_type": "display_data"
    }
   ],
   "source": [
    "max(click)\n",
    "min(click)\n",
    "\n"
   ]
  },
  {
   "cell_type": "code",
   "execution_count": null,
   "metadata": {},
   "outputs": [],
   "source": [
    "#Range\n"
   ]
  },
  {
   "cell_type": "code",
   "execution_count": 84,
   "metadata": {},
   "outputs": [
    {
     "name": "stderr",
     "output_type": "stream",
     "text": [
      "Warning message in min(x, na.rm = na.rm):\n",
      "\"no non-missing arguments to min; returning Inf\"Warning message in max(x, na.rm = na.rm):\n",
      "\"no non-missing arguments to max; returning -Inf\""
     ]
    },
    {
     "data": {
      "text/html": [
       "<ol class=list-inline>\n",
       "\t<li>Inf</li>\n",
       "\t<li>-Inf</li>\n",
       "</ol>\n"
      ],
      "text/latex": [
       "\\begin{enumerate*}\n",
       "\\item Inf\n",
       "\\item -Inf\n",
       "\\end{enumerate*}\n"
      ],
      "text/markdown": [
       "1. Inf\n",
       "2. -Inf\n",
       "\n",
       "\n"
      ],
      "text/plain": [
       "[1]  Inf -Inf"
      ]
     },
     "metadata": {},
     "output_type": "display_data"
    }
   ],
   "source": [
    "range(click)\n"
   ]
  },
  {
   "cell_type": "code",
   "execution_count": 85,
   "metadata": {},
   "outputs": [
    {
     "data": {
      "text/html": [
       "<ol class=list-inline>\n",
       "\t<li>19</li>\n",
       "\t<li>61</li>\n",
       "</ol>\n"
      ],
      "text/latex": [
       "\\begin{enumerate*}\n",
       "\\item 19\n",
       "\\item 61\n",
       "\\end{enumerate*}\n"
      ],
      "text/markdown": [
       "1. 19\n",
       "2. 61\n",
       "\n",
       "\n"
      ],
      "text/plain": [
       "[1] 19 61"
      ]
     },
     "metadata": {},
     "output_type": "display_data"
    }
   ],
   "source": [
    "range(age)\n"
   ]
  },
  {
   "cell_type": "code",
   "execution_count": 86,
   "metadata": {},
   "outputs": [
    {
     "name": "stderr",
     "output_type": "stream",
     "text": [
      "Warning message in min(x, na.rm = na.rm):\n",
      "\"no non-missing arguments to min; returning Inf\"Warning message in max(x, na.rm = na.rm):\n",
      "\"no non-missing arguments to max; returning -Inf\""
     ]
    },
    {
     "data": {
      "text/html": [
       "<ol class=list-inline>\n",
       "\t<li>Inf</li>\n",
       "\t<li>-Inf</li>\n",
       "</ol>\n"
      ],
      "text/latex": [
       "\\begin{enumerate*}\n",
       "\\item Inf\n",
       "\\item -Inf\n",
       "\\end{enumerate*}\n"
      ],
      "text/markdown": [
       "1. Inf\n",
       "2. -Inf\n",
       "\n",
       "\n"
      ],
      "text/plain": [
       "[1]  Inf -Inf"
      ]
     },
     "metadata": {},
     "output_type": "display_data"
    }
   ],
   "source": [
    "range(daily_internet)\n"
   ]
  },
  {
   "cell_type": "code",
   "execution_count": 87,
   "metadata": {},
   "outputs": [
    {
     "name": "stderr",
     "output_type": "stream",
     "text": [
      "Warning message in min(x, na.rm = na.rm):\n",
      "\"no non-missing arguments to min; returning Inf\"Warning message in max(x, na.rm = na.rm):\n",
      "\"no non-missing arguments to max; returning -Inf\""
     ]
    },
    {
     "data": {
      "text/html": [
       "<ol class=list-inline>\n",
       "\t<li>Inf</li>\n",
       "\t<li>-Inf</li>\n",
       "</ol>\n"
      ],
      "text/latex": [
       "\\begin{enumerate*}\n",
       "\\item Inf\n",
       "\\item -Inf\n",
       "\\end{enumerate*}\n"
      ],
      "text/markdown": [
       "1. Inf\n",
       "2. -Inf\n",
       "\n",
       "\n"
      ],
      "text/plain": [
       "[1]  Inf -Inf"
      ]
     },
     "metadata": {},
     "output_type": "display_data"
    }
   ],
   "source": [
    "range(area_income)\n"
   ]
  },
  {
   "cell_type": "code",
   "execution_count": 88,
   "metadata": {},
   "outputs": [
    {
     "name": "stderr",
     "output_type": "stream",
     "text": [
      "Warning message in min(x, na.rm = na.rm):\n",
      "\"no non-missing arguments to min; returning Inf\"Warning message in max(x, na.rm = na.rm):\n",
      "\"no non-missing arguments to max; returning -Inf\""
     ]
    },
    {
     "data": {
      "text/html": [
       "<ol class=list-inline>\n",
       "\t<li>Inf</li>\n",
       "\t<li>-Inf</li>\n",
       "</ol>\n"
      ],
      "text/latex": [
       "\\begin{enumerate*}\n",
       "\\item Inf\n",
       "\\item -Inf\n",
       "\\end{enumerate*}\n"
      ],
      "text/markdown": [
       "1. Inf\n",
       "2. -Inf\n",
       "\n",
       "\n"
      ],
      "text/plain": [
       "[1]  Inf -Inf"
      ]
     },
     "metadata": {},
     "output_type": "display_data"
    }
   ],
   "source": [
    "range(time)\n"
   ]
  },
  {
   "cell_type": "code",
   "execution_count": 89,
   "metadata": {},
   "outputs": [
    {
     "name": "stderr",
     "output_type": "stream",
     "text": [
      "Warning message in min(x, na.rm = na.rm):\n",
      "\"no non-missing arguments to min; returning Inf\"Warning message in max(x, na.rm = na.rm):\n",
      "\"no non-missing arguments to max; returning -Inf\""
     ]
    },
    {
     "data": {
      "text/html": [
       "<ol class=list-inline>\n",
       "\t<li>Inf</li>\n",
       "\t<li>-Inf</li>\n",
       "</ol>\n"
      ],
      "text/latex": [
       "\\begin{enumerate*}\n",
       "\\item Inf\n",
       "\\item -Inf\n",
       "\\end{enumerate*}\n"
      ],
      "text/markdown": [
       "1. Inf\n",
       "2. -Inf\n",
       "\n",
       "\n"
      ],
      "text/plain": [
       "[1]  Inf -Inf"
      ]
     },
     "metadata": {},
     "output_type": "display_data"
    }
   ],
   "source": [
    "range(area_income)"
   ]
  },
  {
   "cell_type": "markdown",
   "metadata": {},
   "source": [
    "## 2. Measures of Dispersion\n",
    "\n"
   ]
  },
  {
   "cell_type": "markdown",
   "metadata": {},
   "source": [
    "### a. Variance\n"
   ]
  },
  {
   "cell_type": "code",
   "execution_count": 93,
   "metadata": {},
   "outputs": [
    {
     "ename": "ERROR",
     "evalue": "Error in variance(click): could not find function \"variance\"\n",
     "output_type": "error",
     "traceback": [
      "Error in variance(click): could not find function \"variance\"\nTraceback:\n"
     ]
    }
   ],
   "source": [
    "var(click)\n"
   ]
  },
  {
   "cell_type": "code",
   "execution_count": 92,
   "metadata": {},
   "outputs": [
    {
     "ename": "ERROR",
     "evalue": "Error in var(time): 'x' is NULL\n",
     "output_type": "error",
     "traceback": [
      "Error in var(time): 'x' is NULL\nTraceback:\n",
      "1. var(time)"
     ]
    }
   ],
   "source": [
    "var(time)"
   ]
  },
  {
   "cell_type": "code",
   "execution_count": null,
   "metadata": {},
   "outputs": [],
   "source": [
    "var(age)\n"
   ]
  },
  {
   "cell_type": "code",
   "execution_count": null,
   "metadata": {},
   "outputs": [],
   "source": [
    "var(daily_internet)\n"
   ]
  },
  {
   "cell_type": "code",
   "execution_count": null,
   "metadata": {},
   "outputs": [],
   "source": [
    "var(area_income)"
   ]
  },
  {
   "cell_type": "code",
   "execution_count": null,
   "metadata": {},
   "outputs": [],
   "source": [
    "###b. Standard deviation\n"
   ]
  },
  {
   "cell_type": "code",
   "execution_count": null,
   "metadata": {},
   "outputs": [],
   "source": [
    "sd(click)\n"
   ]
  },
  {
   "cell_type": "code",
   "execution_count": null,
   "metadata": {},
   "outputs": [],
   "source": [
    "sd(time)\n"
   ]
  },
  {
   "cell_type": "code",
   "execution_count": null,
   "metadata": {},
   "outputs": [],
   "source": [
    "sd(age)\n"
   ]
  },
  {
   "cell_type": "code",
   "execution_count": null,
   "metadata": {},
   "outputs": [],
   "source": [
    "sd(daily_internet)\n"
   ]
  },
  {
   "cell_type": "code",
   "execution_count": null,
   "metadata": {},
   "outputs": [],
   "source": [
    "sd(area_income)"
   ]
  },
  {
   "cell_type": "code",
   "execution_count": null,
   "metadata": {},
   "outputs": [],
   "source": [
    "#b. Bivariate\n",
    "\n"
   ]
  },
  {
   "cell_type": "code",
   "execution_count": null,
   "metadata": {},
   "outputs": [],
   "source": [
    "#Correlation\n"
   ]
  },
  {
   "cell_type": "code",
   "execution_count": null,
   "metadata": {},
   "outputs": [],
   "source": [
    "cor(age,time)\n"
   ]
  },
  {
   "cell_type": "code",
   "execution_count": null,
   "metadata": {},
   "outputs": [],
   "source": [
    "cor(daily_internet,time)\n"
   ]
  },
  {
   "cell_type": "code",
   "execution_count": null,
   "metadata": {},
   "outputs": [],
   "source": [
    "cor(area_income, click)\n"
   ]
  },
  {
   "cell_type": "code",
   "execution_count": null,
   "metadata": {},
   "outputs": [],
   "source": [
    "cor(age, area_income)\n"
   ]
  },
  {
   "cell_type": "code",
   "execution_count": 94,
   "metadata": {},
   "outputs": [
    {
     "ename": "ERROR",
     "evalue": "Error in cor(time, daily_internet): supply both 'x' and 'y' or a matrix-like 'x'\n",
     "output_type": "error",
     "traceback": [
      "Error in cor(time, daily_internet): supply both 'x' and 'y' or a matrix-like 'x'\nTraceback:\n",
      "1. cor(time, daily_internet)",
      "2. stop(\"supply both 'x' and 'y' or a matrix-like 'x'\")"
     ]
    }
   ],
   "source": [
    "cor(time, daily_internet)"
   ]
  },
  {
   "cell_type": "code",
   "execution_count": null,
   "metadata": {},
   "outputs": [],
   "source": []
  },
  {
   "cell_type": "code",
   "execution_count": null,
   "metadata": {},
   "outputs": [],
   "source": []
  },
  {
   "cell_type": "code",
   "execution_count": null,
   "metadata": {},
   "outputs": [],
   "source": []
  },
  {
   "cell_type": "code",
   "execution_count": null,
   "metadata": {},
   "outputs": [],
   "source": []
  },
  {
   "cell_type": "code",
   "execution_count": null,
   "metadata": {},
   "outputs": [],
   "source": []
  }
 ],
 "metadata": {
  "kernelspec": {
   "display_name": "R",
   "language": "R",
   "name": "ir"
  },
  "language_info": {
   "codemirror_mode": "r",
   "file_extension": ".r",
   "mimetype": "text/x-r-source",
   "name": "R",
   "pygments_lexer": "r",
   "version": "3.6.1"
  }
 },
 "nbformat": 4,
 "nbformat_minor": 4
}
